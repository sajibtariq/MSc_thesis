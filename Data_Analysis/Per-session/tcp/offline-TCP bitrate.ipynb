{
 "cells": [
  {
   "cell_type": "code",
   "execution_count": 182,
   "metadata": {},
   "outputs": [],
   "source": [
    "import os\n",
    "import pandas as pd\n",
    "import numpy as np\n",
    "import matplotlib.pyplot as plt\n",
    "import seaborn as sns\n",
    "from sklearn.model_selection import train_test_split\n",
    "from sklearn import metrics\n",
    "from sklearn.metrics import confusion_matrix\n",
    "from sklearn.metrics import classification_report\n",
    "from imblearn.over_sampling import SMOTE \n",
    "from sklearn import model_selection\n",
    "from sklearn.linear_model import LogisticRegression\n",
    "from sklearn.tree import DecisionTreeClassifier\n",
    "from sklearn.ensemble import RandomForestClassifier\n",
    "from sklearn.neighbors import KNeighborsClassifier\n",
    "from sklearn.discriminant_analysis import LinearDiscriminantAnalysis\n",
    "from sklearn.naive_bayes import GaussianNB\n",
    "from sklearn.svm import SVC\n",
    "from sklearn.neural_network import MLPClassifier\n",
    "from sklearn.model_selection import GridSearchCV\n",
    "import warnings\n",
    "warnings.simplefilter(action='ignore', category=Warning)\n",
    "%matplotlib inline"
   ]
  },
  {
   "cell_type": "markdown",
   "metadata": {},
   "source": [
    "# Dataset\n"
   ]
  },
  {
   "cell_type": "code",
   "execution_count": 183,
   "metadata": {},
   "outputs": [],
   "source": [
    "d = pd.read_csv('/media/loop/Backup/vm/tos1/tcp/offline/tcp_average.csv')\n",
    "#d = d[(d[['Resolution(w)']] != 0).all(axis=1)]\n",
    "d.isnull().values.any()\n",
    "# drop rows with missing values\n",
    "d.dropna(inplace=True)\n",
    "X=d.iloc[:, 15:235] \n",
    "#Y=d.iloc[:,11]\n",
    "Y=d.loc[:,d.columns.isin(['Avg_bitrate'])]"
   ]
  },
  {
   "cell_type": "code",
   "execution_count": 184,
   "metadata": {},
   "outputs": [],
   "source": [
    "Y.dropna(inplace=True)"
   ]
  },
  {
   "cell_type": "code",
   "execution_count": 185,
   "metadata": {},
   "outputs": [
    {
     "data": {
      "text/plain": [
       "(430, 220)"
      ]
     },
     "execution_count": 185,
     "metadata": {},
     "output_type": "execute_result"
    }
   ],
   "source": [
    "X.shape"
   ]
  },
  {
   "cell_type": "markdown",
   "metadata": {},
   "source": [
    "# Features"
   ]
  },
  {
   "cell_type": "code",
   "execution_count": 186,
   "metadata": {},
   "outputs": [],
   "source": [
    "X.columns=(['DL_Th_avg_S','DL_Th_medn_S','DL_Th_max_S','DL_Th_min_S','DL_Th_std_S','DL_Th_avg-f25_S','DL_Th_avg-f50_S','DL_Th_avg-l25_S','DL_Th_avg-l50_S','DL_Th_p-10_S','DL_Th_p-20_S','DL_Th_p-30_S','DL_Th_p-40_S','DL_Th_p-50_S', 'DL_Th_p-60_S','DL_Th_p-70_S','DL_Th_p-80_S','DL_Th_p-90_S',\n",
    "'UL_Th_avg_S','UL_Th_medn_S','UL_Th_max_S','UL_Th_min_S','UL_Th_std_S','UL_Th_avg-f25_S','UL_Th_avg-f50_S','UL_Th_avg-l25_S','UL_Th_avg-l50_S','UL_Th_p-10_S','UL_Th_p-20_S','UL_Th_p-30_S','UL_Th_p-40_S','UL_Th_p-50_S', 'UL_Th_p-60_S','UL_Th_p-70_S','UL_Th_p-80_S','UL_Th_p-90_S',\n",
    "'DL_Pkt-N_total_S','DL_Pkt-N_mean_S','DL_Pkt-N_medn_S','DL_Pkt-N_max_S','DL_Pkt-N_min_S','DL_Pkt-N_std_S','DL_Pkt-N_total-f25_S','DL_Pkt-N_total-f50_S','DL_Pkt-N_total-l25_S','DL_Pkt-N_total-l50_S','DL_Pkt-N_p-10_S','DL_Pkt-N_p-20_S','DL_Pkt-N_p-30_S','DL_Pkt-N_p-40_S','DL_Pkt-N_p-50_S', 'DL_Pkt-N_p-60_S','DL_Pkt-N_p-70_S','DL_Pkt-N_p-80_S','DL_Pkt-N_p-90_S',\n",
    "'UL_Pkt-N_total_S','UL_Pkt-N_mean_S','UL_Pkt-N_medn_S','UL_Pkt-N_max_S','UL_Pkt-N_min_S','UL_Pkt-N_std_S','UL_Pkt-N_total-f25_S','UL_Pkt-N_total-f50_S','UL_Pkt-N_total-l25_S','UL_Pkt-N_total-l50_S','UL_Pkt-N_p-10_S','UL_Pkt-N_p-20_S','UL_Pkt-N_p-30_S','UL_Pkt-N_p-40_S','UL_Pkt-N_p-50_S', 'UL_Pkt-N_p-60_S','UL_Pkt-N_p-70_S','UL_Pkt-N_p-80_S','UL_Pkt-N_p-90_S',  \n",
    "'DL_Pkt-N-g100_total_S','DL_Pkt-N-g100_mean_S','DL_Pkt-N-g100_medn_S','DL_Pkt-N-g100_max_S','DL_Pkt-N-g100_min_S','DL_Pkt-N-g100_std_S','DL_Pkt-N-g100_total-f25_S','DL_Pkt-N-g100_total-f50_S','DL_Pkt-N-g100_total-l25_S','DL_Pkt-N-g100_total-l50_S','DL_Pkt-N-g100_p-10_S','DL_Pkt-N-g100_p-20_S','DL_Pkt-N-g100_p-30_S','DL_Pkt-N-g100_p-40_S','DL_Pkt-N-g100_p-50_S', 'DL_Pkt-N-g100_p-60_S','DL_Pkt-N-g100_p-70_S','DL_Pkt-N-g100_p-80_S','DL_Pkt-N-g100_p-90_S', \n",
    "'UL_Pkt-N-g100_total_S','UL_Pkt-N-g100_mean_S','UL_Pkt-N-g100_medn_S','UL_Pkt-N-g100_max_S','UL_Pkt-N-g100_min_S','UL_Pkt-N-g100_std_S','UL_Pkt-N-g100_total-f25_S','UL_Pkt-N-g100_total-f50_S','UL_Pkt-N-g100_total-l25_S','UL_Pkt-N-g100_total-l50_S','UL_Pkt-N-g100_p-10_S','UL_Pkt-N-g100_p-20_S','UL_Pkt-N-g100_p-30_S','UL_Pkt-N-g100_p-40_S','UL_Pkt-N-g100_p-50_S', 'UL_Pkt-N-g100_p-60_S','UL_Pkt-N-g100_p-70_S','UL_Pkt-N-g100_p-80_S','UL_Pkt-N-g100_p-90_S',\n",
    "'DL_Pkt-S_mean_S','DL_Pkt-S_medn_S','DL_Pkt-S_max_S','DL_Pkt-S_min_S','DL_Pkt-S_std_S','DL_Pkt-S_mean-f25_S','DL_Pkt-S_mean-f50_S','DL_Pkt-S_mean-l25_S','DL_Pkt-S_mean-l50_S','DL_Pkt-S_p-10_S','DL_Pkt-S_p-20_S','DL_Pkt-S_p-30_S','DL_Pkt-S_p-40_S','DL_Pkt-S_p-50_S', 'DL_Pkt-S_p-60_S','DL_Pkt-S_p-70_S','DL_Pkt-S_p-80_S','DL_Pkt-S_p-90_S',\n",
    "'UL_Pkt-S_mean_S','UL_Pkt-S_medn_S','UL_Pkt-S_max_S','UL_Pkt-S_min_S','UL_Pkt-S_std_S','UL_Pkt-S_mean-f25_S','UL_Pkt-S_mean-f50_S','UL_Pkt-S_mean-l25_S','UL_Pkt-S_mean-l50_S','UL_Pkt-S_p-10_S','UL_Pkt-S_p-20_S','UL_Pkt-S_p-30_S','UL_Pkt-S_p-40_S','UL_Pkt-S_p-50_S', 'UL_Pkt-S_p-60_S','UL_Pkt-S_p-70_S','UL_Pkt-S_p-80_S','UL_Pkt-S_p-90_S',  \n",
    "'DL_Pkt-S-g100_mean_S','DL_Pkt-S-g100_medn_S','DL_Pkt-S-g100_max_S','DL_Pkt-S-g100_min_S','DL_Pkt-S-g100_std_S','DL_Pkt-S-g100_mean-f25_S','DL_Pkt-S-g100_mean-f50_S','DL_Pkt-S-g100_mean-l25_S','DL_Pkt-S-g100_mean-l50_S','DL_Pkt-S-g100_p-10_S','DL_Pkt-S-g100_p-20_S','DL_Pkt-S-g100_p-30_S','DL_Pkt-S-g100_p-40_S','DL_Pkt-S-g100_p-50_S', 'DL_Pkt-S-g100_p-60_S','DL_Pkt-S-g100_p-70_S','DL_Pkt-S-g100_p-80_S','DL_Pkt-S-g100_p-90_S', \n",
    "'UL_Pkt-S-g100_mean_S','UL_Pkt-S-g100_medn_S','UL_Pkt-S-g100_max_S','UL_Pkt-S-g100_min_S','UL_Pkt-S-g100_std_S','UL_Pkt-S-g100_mean-f25_S','UL_Pkt-S-g100_mean-f50_S','UL_Pkt-S-g100_mean-l25_S','UL_Pkt-S-g100_mean-l50_S','UL_Pkt-S-g100_p-10_S','UL_Pkt-S-g100_p-20_S','UL_Pkt-S-g100_p-30_S','UL_Pkt-S-g100_p-40_S','UL_Pkt-S-g100_p-50_S', 'UL_Pkt-S-g100_p-60_S','UL_Pkt-S-g100_p-70_S','UL_Pkt-S-g100_p-80_S','UL_Pkt-S-g100_p-90_S',\n",
    "'DL_IA_mean_S','DL_IA_medn_S','DL_IA_max_S','DL_IA_min_S','DL_IA_std_S','DL_IA_mean-f25_S','DL_IA_mean-f50_S','DL_IA_mean-l25_S','DL_IA_mean-l50_S','DL_IA_p-10_S','DL_IA_p-20_S','DL_IA_p-30_S','DL_IA_p-40_S','DL_IA_p-50_S', 'DL_IA_p-60_S','DL_IA_p-70_S','DL_IA_p-80_S','DL_IA_p-90_S',\n",
    "'UL_IA_mean_S','UL_IA-S_medn_S','UL_IA_max_S','UL_IA_min_S','UL_IA_std_S','UL_IA_mean-f25_S','UL_IA_mean-f50_S','UL_IA_mean-l25_S','UL_IA_mean-l50_S','UL_IA_p-10_S','UL_IA_p-20_S','UL_IA_p-30_S','UL_IA_p-40_S','UL_IA_p-50_S', 'UL_IA_p-60_S','UL_IA_p-70_S','UL_IA_p-80_S','UL_IA_p-90_S'    \n",
    "])"
   ]
  },
  {
   "cell_type": "code",
   "execution_count": 187,
   "metadata": {},
   "outputs": [
    {
     "data": {
      "text/plain": [
       "(430, 220)"
      ]
     },
     "execution_count": 187,
     "metadata": {},
     "output_type": "execute_result"
    }
   ],
   "source": [
    "X.shape"
   ]
  },
  {
   "cell_type": "markdown",
   "metadata": {},
   "source": [
    "# Target"
   ]
  },
  {
   "cell_type": "code",
   "execution_count": 188,
   "metadata": {},
   "outputs": [],
   "source": [
    "conditions = [\n",
    "    (Y['Avg_bitrate']<=700 ),  \n",
    "    (Y['Avg_bitrate']>700) & (Y['Avg_bitrate']<=2500),   \n",
    "    (Y['Avg_bitrate']>2500)  \n",
    "    ]\n",
    "\n",
    "choices = [0,1,2]\n",
    "Y['bitrate1'] = np.select(conditions, choices, default='None')\n",
    "yy=Y['bitrate1']"
   ]
  },
  {
   "cell_type": "code",
   "execution_count": 189,
   "metadata": {},
   "outputs": [],
   "source": [
    "conditions = [\n",
    "    (Y['Avg_bitrate']<=700 ),  \n",
    "    (Y['Avg_bitrate']>700) & (Y['Avg_bitrate']<=2500),   \n",
    "    (Y['Avg_bitrate']>2500)  \n",
    "    ]\n",
    "\n",
    "choices = ['Low','Medium','High']\n",
    "Y['bitrate2'] = np.select(conditions, choices, default='None')"
   ]
  },
  {
   "cell_type": "markdown",
   "metadata": {},
   "source": [
    "# Distribution of Target"
   ]
  },
  {
   "cell_type": "code",
   "execution_count": 226,
   "metadata": {},
   "outputs": [
    {
     "data": {
      "image/png": "[encoded data removed]",
      "text/plain": [
       "<Figure size 864x576 with 1 Axes>"
      ]
     },
     "metadata": {},
     "output_type": "display_data"
    }
   ],
   "source": [
    "import matplotlib.pyplot as plt\n",
    "import numpy as np\n",
    "import pandas as pd\n",
    "import seaborn as sns\n",
    "sns.set(font_scale=1.5, style=\"whitegrid\")\n",
    "fig = plt.figure(figsize=(12,8))\n",
    "plt.rcParams[\"axes.grid\"] = False\n",
    "ax = fig.add_subplot(111)\n",
    "#df = pd.DataFrame(np.array([['a'], ['a'], ['b']]), columns=['current_status'])\n",
    "ax = sns.countplot(y='bitrate2', data=Y,palette = \"tab20\",order=['Low','Medium','High'])\n",
    "ax.grid(False)\n",
    "plt.title('Distribution of Average Bit-rate',fontsize=27)\n",
    "plt.xlabel('Numbers  and Percentages  ',fontsize=27)\n",
    "plt.ylabel('Bit-rate',fontsize=27)\n",
    "#plt.yticks(np.arange(0, 1200, 120))\n",
    "#plt.xticks(np.arange(0, 45000,5000))\n",
    "plt.tick_params(axis='x',  colors='black')\n",
    "plt.tick_params(axis='y', colors='black')\n",
    "\n",
    "total = len(Y['bitrate2'])\n",
    "for p in ax.patches:\n",
    "        percentage = '{:.1f}%'.format(100 * p.get_width()/total)\n",
    "        x = p.get_x() + p.get_width() / 1\n",
    "        y = p.get_y() + 0.5\n",
    "        ax.annotate(percentage, (x, y))\n",
    "\n",
    "#plt.show()\n",
    "plt.savefig('tcp-bitrate-dis.pdf')"
   ]
  },
  {
   "cell_type": "code",
   "execution_count": 191,
   "metadata": {},
   "outputs": [
    {
     "name": "stdout",
     "output_type": "stream",
     "text": [
      "----------------------------------------\n",
      "\n",
      "Applied Synthetic Minority Over-sampling Technique (SMOTE) to balance the dataset\n",
      "----------------------------------------\n",
      "\n",
      "(483, 220) (483,)\n"
     ]
    },
    {
     "data": {
      "text/plain": [
       "1    161\n",
       "2    161\n",
       "0    161\n",
       "Name: bitrate1, dtype: int64"
      ]
     },
     "execution_count": 191,
     "metadata": {},
     "output_type": "execute_result"
    }
   ],
   "source": [
    "from imblearn.over_sampling import SMOTE\n",
    "X.shape\n",
    "yy.shape\n",
    "smote=SMOTE(k_neighbors=3) # resample all class same\n",
    "X, yy=smote.fit_resample(X,yy)\n",
    "print('----------------------------------------')\n",
    "print()\n",
    "print('Applied Synthetic Minority Over-sampling Technique (SMOTE) to balance the dataset')\n",
    "print('----------------------------------------')\n",
    "print()\n",
    "print(X.shape, yy.shape)\n",
    "#yy=pd.DataFrame(yy)\n",
    "#yy.columns = ['bitrate3']\n",
    "yy.value_counts()"
   ]
  },
  {
   "cell_type": "markdown",
   "metadata": {},
   "source": [
    "# Model Benchmark"
   ]
  },
  {
   "cell_type": "code",
   "execution_count": 192,
   "metadata": {},
   "outputs": [
    {
     "name": "stdout",
     "output_type": "stream",
     "text": [
      "Fitting 5 folds for each of 2 candidates, totalling 10 fits\n"
     ]
    },
    {
     "name": "stderr",
     "output_type": "stream",
     "text": [
      "[Parallel(n_jobs=-1)]: Using backend LokyBackend with 40 concurrent workers.\n",
      "[Parallel(n_jobs=-1)]: Done   8 out of  10 | elapsed:    0.1s remaining:    0.0s\n",
      "[Parallel(n_jobs=-1)]: Done  10 out of  10 | elapsed:    0.2s finished\n"
     ]
    },
    {
     "name": "stdout",
     "output_type": "stream",
     "text": [
      "Fitting 5 folds for each of 5 candidates, totalling 25 fits\n",
      "Fitting 5 folds for each of 144 candidates, totalling 720 fits\n"
     ]
    },
    {
     "name": "stderr",
     "output_type": "stream",
     "text": [
      "[Parallel(n_jobs=-1)]: Using backend LokyBackend with 40 concurrent workers.\n",
      "[Parallel(n_jobs=-1)]: Done  25 out of  25 | elapsed:    0.2s finished\n",
      "[Parallel(n_jobs=-1)]: Using backend LokyBackend with 40 concurrent workers.\n",
      "[Parallel(n_jobs=-1)]: Done 160 tasks      | elapsed:    0.5s\n",
      "[Parallel(n_jobs=-1)]: Done 720 out of 720 | elapsed:    1.8s finished\n",
      "[Parallel(n_jobs=-1)]: Using backend LokyBackend with 40 concurrent workers.\n",
      "[Parallel(n_jobs=-1)]: Done   5 out of   5 | elapsed:    0.0s finished\n",
      "[Parallel(n_jobs=-1)]: Using backend LokyBackend with 40 concurrent workers.\n"
     ]
    },
    {
     "name": "stdout",
     "output_type": "stream",
     "text": [
      "Fitting 5 folds for each of 1 candidates, totalling 5 fits\n",
      "Fitting 5 folds for each of 18 candidates, totalling 90 fits\n"
     ]
    },
    {
     "name": "stderr",
     "output_type": "stream",
     "text": [
      "[Parallel(n_jobs=-1)]: Done  90 out of  90 | elapsed:    0.6s finished\n",
      "[Parallel(n_jobs=-1)]: Using backend LokyBackend with 40 concurrent workers.\n"
     ]
    },
    {
     "name": "stdout",
     "output_type": "stream",
     "text": [
      "Fitting 5 folds for each of 540 candidates, totalling 2700 fits\n"
     ]
    },
    {
     "name": "stderr",
     "output_type": "stream",
     "text": [
      "[Parallel(n_jobs=-1)]: Done 120 tasks      | elapsed:    3.2s\n",
      "[Parallel(n_jobs=-1)]: Done 370 tasks      | elapsed:   15.6s\n",
      "[Parallel(n_jobs=-1)]: Done 720 tasks      | elapsed:   33.1s\n",
      "[Parallel(n_jobs=-1)]: Done 1170 tasks      | elapsed:   54.4s\n",
      "[Parallel(n_jobs=-1)]: Done 1720 tasks      | elapsed:  1.3min\n",
      "[Parallel(n_jobs=-1)]: Done 2370 tasks      | elapsed:  1.9min\n",
      "[Parallel(n_jobs=-1)]: Done 2700 out of 2700 | elapsed:  2.2min finished\n"
     ]
    },
    {
     "name": "stdout",
     "output_type": "stream",
     "text": [
      "Fitting 5 folds for each of 144 candidates, totalling 720 fits\n"
     ]
    },
    {
     "name": "stderr",
     "output_type": "stream",
     "text": [
      "[Parallel(n_jobs=-1)]: Using backend LokyBackend with 40 concurrent workers.\n",
      "[Parallel(n_jobs=-1)]: Done 120 tasks      | elapsed:    7.9s\n",
      "[Parallel(n_jobs=-1)]: Done 370 tasks      | elapsed:   20.3s\n",
      "[Parallel(n_jobs=-1)]: Done 720 out of 720 | elapsed:   38.3s finished\n"
     ]
    },
    {
     "name": "stdout",
     "output_type": "stream",
     "text": [
      "----------------------------------------\n",
      "Best parameters for seven algorithms\n",
      "----------------------------------------\n",
      "\n",
      "LogisticRegression(C=1.0, class_weight=None, dual=False, fit_intercept=True,\n",
      "                   intercept_scaling=1, l1_ratio=None, max_iter=100,\n",
      "                   multi_class='auto', n_jobs=None, penalty='l2',\n",
      "                   random_state=None, solver='lbfgs', tol=0.0001, verbose=0,\n",
      "                   warm_start=False)\n",
      "\n",
      "\n",
      "KNeighborsClassifier(algorithm='auto', leaf_size=30, metric='minkowski',\n",
      "                     metric_params=None, n_jobs=None, n_neighbors=3, p=2,\n",
      "                     weights='uniform')\n",
      "\n",
      "\n",
      "DecisionTreeClassifier(ccp_alpha=0.0, class_weight='balanced', criterion='gini',\n",
      "                       max_depth=3, max_features=None, max_leaf_nodes=None,\n",
      "                       min_impurity_decrease=0.0, min_impurity_split=None,\n",
      "                       min_samples_leaf=1, min_samples_split=2,\n",
      "                       min_weight_fraction_leaf=0.0, presort='deprecated',\n",
      "                       random_state=None, splitter='best')\n",
      "\n",
      "\n",
      "GaussianNB(priors=None, var_smoothing=1e-09)\n",
      "\n",
      "\n",
      "SVC(C=1, break_ties=False, cache_size=200, class_weight=None, coef0=0.0,\n",
      "    decision_function_shape='ovr', degree=1, gamma='scale', kernel='rbf',\n",
      "    max_iter=-1, probability=False, random_state=None, shrinking=True,\n",
      "    tol=0.001, verbose=False)\n",
      "\n",
      "\n",
      "RandomForestClassifier(bootstrap=True, ccp_alpha=0.0, class_weight='balanced',\n",
      "                       criterion='gini', max_depth=3, max_features=None,\n",
      "                       max_leaf_nodes=None, max_samples=None,\n",
      "                       min_impurity_decrease=0.0, min_impurity_split=None,\n",
      "                       min_samples_leaf=3, min_samples_split=8,\n",
      "                       min_weight_fraction_leaf=0.0, n_estimators=100,\n",
      "                       n_jobs=None, oob_score=False, random_state=None,\n",
      "                       verbose=0, warm_start=False)\n",
      "\n",
      "\n",
      "MLPClassifier(activation='identity', alpha=0.05, batch_size='auto', beta_1=0.9,\n",
      "              beta_2=0.999, early_stopping=False, epsilon=1e-08,\n",
      "              hidden_layer_sizes=(100,), learning_rate='adaptive',\n",
      "              learning_rate_init=0.001, max_fun=15000, max_iter=200,\n",
      "              momentum=0.9, n_iter_no_change=10, nesterovs_momentum=True,\n",
      "              power_t=0.5, random_state=None, shuffle=True, solver='adam',\n",
      "              tol=0.0001, validation_fraction=0.1, verbose=False,\n",
      "              warm_start=False)\n",
      "\n",
      "\n"
     ]
    }
   ],
   "source": [
    "seed = 42\n",
    "\n",
    "# prepare models\n",
    "\n",
    "param_grids=[]\n",
    "##logistic\n",
    "param_grids_0= {           \n",
    "    'penalty':['l1', 'l2'], \n",
    "}\n",
    "param_grids.append(param_grids_0)\n",
    "\n",
    "##knn\n",
    "param_grids_1 = {                      \n",
    "    'n_neighbors': [3,5,7,10,25]\n",
    "}\n",
    "param_grids.append(param_grids_1)\n",
    "\n",
    "## Decision Tree\n",
    "param_grids_2 = { \n",
    "    'criterion':['gini', 'entropy'],\n",
    "    'max_depth': [ 3, 10, 50, None],\n",
    "    'min_samples_leaf': [1, 3, 5],\n",
    "    'min_samples_split': [2, 4, 8],\n",
    "    'class_weight': ['balanced',None]\n",
    "}\n",
    "\n",
    "param_grids.append(param_grids_2)\n",
    "## NB\n",
    "param_grids_3 = {   \n",
    "    'priors':[None],\n",
    "    'var_smoothing':[1e-09]\n",
    "}\n",
    "\n",
    "param_grids.append(param_grids_3)\n",
    " ## SVM\n",
    "param_grids_4 = {  \n",
    "     'gamma' :['scale'],\n",
    "     'kernel' : [ 'rbf', 'poly'],\n",
    "     'degree' : [1,3,6],\n",
    "     'C' : [0.01, 0.1, 1]\n",
    "\n",
    "}\n",
    "param_grids.append(param_grids_4)\n",
    " ### Random foresst\n",
    "param_grids_5 = { \n",
    "    'max_depth': [ 3, 10, 50, 90, 100],\n",
    "    'max_features': ['auto',None],\n",
    "    'n_estimators': [100, 200,500],\n",
    "    'min_samples_leaf': [3, 4, 5],\n",
    "    'min_samples_split': [8, 10, 12],\n",
    "    'class_weight': ['balanced',None],\n",
    "    #'random_state':[101,None]\n",
    "}\n",
    "param_grids.append(param_grids_5)\n",
    "### MLP\n",
    "param_grids_6 = {    \n",
    "    'hidden_layer_sizes': [(50,50,50), (50,100,50), (100,)],\n",
    "    'activation': ['identity', 'logistic', 'tanh', 'relu'],\n",
    "    'solver': ['sgd', 'adam', 'lbfgs' ],\n",
    "    'alpha': [0.0001, 0.05],\n",
    "    'learning_rate': ['constant','adaptive'],\n",
    "}\n",
    "param_grids.append(param_grids_6)\n",
    "\n",
    "models = []\n",
    "models.append((LogisticRegression()))\n",
    "models.append((KNeighborsClassifier()))\n",
    "models.append((DecisionTreeClassifier()))\n",
    "models.append((GaussianNB()))\n",
    "models.append((SVC()))\n",
    "models.append((RandomForestClassifier()))\n",
    "models.append((MLPClassifier()))\n",
    "\n",
    "\n",
    "best_estimator=[]\n",
    "\n",
    "\n",
    "for i in range(7):\n",
    "    #print(param_grids[i])\n",
    "    #param_grids= param_grids_%d' % (i))\n",
    "    grid_search = GridSearchCV(estimator = models[i], param_grid = param_grids[i],  cv =5, n_jobs = -1, verbose = 1, return_train_score=True)\n",
    "    grid_search.fit(X, yy)\n",
    "    #print(grid_search.best_params_)\n",
    "    \n",
    "    best_estimator.append(grid_search.best_estimator_)\n",
    "    \n",
    "print('----------------------------------------')\n",
    "print('Best parameters for seven algorithms')\n",
    "print('----------------------------------------')\n",
    "print()\n",
    "\n",
    "for j in range(7):\n",
    "    print( best_estimator[j])\n",
    "    print('\\n')"
   ]
  },
  {
   "cell_type": "code",
   "execution_count": 193,
   "metadata": {},
   "outputs": [
    {
     "name": "stdout",
     "output_type": "stream",
     "text": [
      "----------------------------------------\n",
      "----------------------------------------\n",
      "\n",
      "Accuracy LR: 85.511168 (4.540489)\n",
      "Training time LR: 0.001357 (0.000050)\n",
      "Accuracy KNN: 79.718643 (4.512659)\n",
      "Training time KNN: 0.000091 (0.000003)\n",
      "Accuracy DTC: 99.793814 (0.412371)\n",
      "Training time DTC: 0.000166 (0.000004)\n",
      "Accuracy GNB: 86.739691 (2.172510)\n",
      "Training time GNB: 0.000054 (0.000003)\n",
      "Accuracy SVM: 60.466065 (4.875286)\n",
      "Training time SVM: 0.000852 (0.000014)\n",
      "Accuracy RFC: 99.793814 (0.412371)\n",
      "Training time RFC: 0.009555 (0.000039)\n",
      "Accuracy MLP: 91.932990 (4.370514)\n",
      "Training time MLP: 0.010381 (0.000585)\n"
     ]
    }
   ],
   "source": [
    "import warnings\n",
    "warnings.filterwarnings('ignore')\n",
    "import pickle\n",
    "\n",
    "print('----------------------------------------')\n",
    "#print('Box plot of all model cross validation accuracy')\n",
    "print('----------------------------------------')\n",
    "print()\n",
    "# prepare configuration for cross validation test harness\n",
    "seed = 42\n",
    "# prepare models\n",
    "models = []\n",
    "\n",
    "models.append(('LR',  best_estimator[0])) #LogisticRegression()\n",
    "models.append(('KNN', best_estimator[1])) #KNeighborsClassifier()))\n",
    "models.append(('DTC', best_estimator[2])) #DecisionTreeClassifier()))\n",
    "models.append(('GNB', best_estimator[3]))\n",
    "models.append(('SVM', best_estimator[4]))\n",
    "models.append(('RFC', best_estimator[5]))\n",
    "models.append(('MLP', best_estimator[6]))\n",
    "# evaluate each model in turn\n",
    "# evaluate each model in turn\n",
    "ac = []\n",
    "tr = []\n",
    "names = []\n",
    "scoring = 'accuracy'\n",
    "for name, model in models:\n",
    "    kfold = model_selection.KFold(n_splits=5, random_state=seed)\n",
    "    cv_results = model_selection.cross_validate(model, X, yy, cv=kfold)\n",
    "    ac.append((cv_results['test_score'])*100)\n",
    "    tr.append((cv_results['fit_time'])/60)\n",
    "    names.append(name)\n",
    "    \n",
    "    a_msg = \"Accuracy %s: %f (%f)\" % (name, ((cv_results['test_score'])*100).mean(), ((cv_results['test_score'])*100).std())\n",
    "    t_msg = \"Training time %s: %f (%f)\" % (name, ((cv_results['fit_time'])/60).mean(),  ((cv_results['fit_time'])/60).std())\n",
    "    print(a_msg)\n",
    "    print(t_msg)\n",
    "# boxplot algorithm comparison"
   ]
  },
  {
   "cell_type": "markdown",
   "metadata": {},
   "source": [
    "# All Window"
   ]
  },
  {
   "cell_type": "code",
   "execution_count": 216,
   "metadata": {},
   "outputs": [],
   "source": [
    "A_all=X.loc[:,X.columns.isin(['DL_Th_avg_S','DL_Th_medn_S','DL_Th_max_S','DL_Th_min_S','DL_Th_std_S','DL_Th_avg-f25_S','DL_Th_avg-f50_S','DL_Th_avg-l25_S','DL_Th_avg-l50_S','DL_Th_p-10_S','DL_Th_p-20_S','DL_Th_p-30_S','DL_Th_p-40_S','DL_Th_p-50_S', 'DL_Th_p-60_S','DL_Th_p-70_S','DL_Th_p-80_S','DL_Th_p-90_S',\n",
    "'UL_Th_avg_S','UL_Th_medn_S','UL_Th_max_S','UL_Th_min_S','UL_Th_std_S','UL_Th_avg-f25_S','UL_Th_avg-f50_S','UL_Th_avg-l25_S','UL_Th_avg-l50_S','UL_Th_p-10_S','UL_Th_p-20_S','UL_Th_p-30_S','UL_Th_p-40_S','UL_Th_p-50_S', 'UL_Th_p-60_S','UL_Th_p-70_S','UL_Th_p-80_S','UL_Th_p-90_S',\n",
    "'DL_Pkt-N_total_S','DL_Pkt-N_mean_S','DL_Pkt-N_medn_S','DL_Pkt-N_max_S','DL_Pkt-N_min_S','DL_Pkt-N_std_S','DL_Pkt-N_total-f25_S','DL_Pkt-N_total-f50_S','DL_Pkt-N_total-l25_S','DL_Pkt-N_total-l50_S','DL_Pkt-N_p-10_S','DL_Pkt-N_p-20_S','DL_Pkt-N_p-30_S','DL_Pkt-N_p-40_S','DL_Pkt-N_p-50_S', 'DL_Pkt-N_p-60_S','DL_Pkt-N_p-70_S','DL_Pkt-N_p-80_S','DL_Pkt-N_p-90_S',\n",
    "'UL_Pkt-N_total_S','UL_Pkt-N_mean_S','UL_Pkt-N_medn_S','UL_Pkt-N_max_S','UL_Pkt-N_min_S','UL_Pkt-N_std_S','UL_Pkt-N_total-f25_S','UL_Pkt-N_total-f50_S','UL_Pkt-N_total-l25_S','UL_Pkt-N_total-l50_S','UL_Pkt-N_p-10_S','UL_Pkt-N_p-20_S','UL_Pkt-N_p-30_S','UL_Pkt-N_p-40_S','UL_Pkt-N_p-50_S', 'UL_Pkt-N_p-60_S','UL_Pkt-N_p-70_S','UL_Pkt-N_p-80_S','UL_Pkt-N_p-90_S',  \n",
    "'DL_Pkt-N-g100_total_S','DL_Pkt-N-g100_mean_S','DL_Pkt-N-g100_medn_S','DL_Pkt-N-g100_max_S','DL_Pkt-N-g100_min_S','DL_Pkt-N-g100_std_S','DL_Pkt-N-g100_total-f25_S','DL_Pkt-N-g100_total-f50_S','DL_Pkt-N-g100_total-l25_S','DL_Pkt-N-g100_total-l50_S','DL_Pkt-N-g100_p-10_S','DL_Pkt-N-g100_p-20_S','DL_Pkt-N-g100_p-30_S','DL_Pkt-N-g100_p-40_S','DL_Pkt-N-g100_p-50_S', 'DL_Pkt-N-g100_p-60_S','DL_Pkt-N-g100_p-70_S','DL_Pkt-N-g100_p-80_S','DL_Pkt-N-g100_p-90_S', \n",
    "'UL_Pkt-N-g100_total_S','UL_Pkt-N-g100_mean_S','UL_Pkt-N-g100_medn_S','UL_Pkt-N-g100_max_S','UL_Pkt-N-g100_min_S','UL_Pkt-N-g100_std_S','UL_Pkt-N-g100_total-f25_S','UL_Pkt-N-g100_total-f50_S','UL_Pkt-N-g100_total-l25_S','UL_Pkt-N-g100_total-l50_S','UL_Pkt-N-g100_p-10_S','UL_Pkt-N-g100_p-20_S','UL_Pkt-N-g100_p-30_S','UL_Pkt-N-g100_p-40_S','UL_Pkt-N-g100_p-50_S', 'UL_Pkt-N-g100_p-60_S','UL_Pkt-N-g100_p-70_S','UL_Pkt-N-g100_p-80_S','UL_Pkt-N-g100_p-90_S',\n",
    "'DL_Pkt-S_mean_S','DL_Pkt-S_medn_S','DL_Pkt-S_max_S','DL_Pkt-S_min_S','DL_Pkt-S_std_S','DL_Pkt-S_mean-f25_S','DL_Pkt-S_mean-f50_S','DL_Pkt-S_mean-l25_S','DL_Pkt-S_mean-l50_S','DL_Pkt-S_p-10_S','DL_Pkt-S_p-20_S','DL_Pkt-S_p-30_S','DL_Pkt-S_p-40_S','DL_Pkt-S_p-50_S', 'DL_Pkt-S_p-60_S','DL_Pkt-S_p-70_S','DL_Pkt-S_p-80_S','DL_Pkt-S_p-90_S',\n",
    "'UL_Pkt-S_mean_S','UL_Pkt-S_medn_S','UL_Pkt-S_max_S','UL_Pkt-S_min_S','UL_Pkt-S_std_S','UL_Pkt-S_mean-f25_S','UL_Pkt-S_mean-f50_S','UL_Pkt-S_mean-l25_S','UL_Pkt-S_mean-l50_S','UL_Pkt-S_p-10_S','UL_Pkt-S_p-20_S','UL_Pkt-S_p-30_S','UL_Pkt-S_p-40_S','UL_Pkt-S_p-50_S', 'UL_Pkt-S_p-60_S','UL_Pkt-S_p-70_S','UL_Pkt-S_p-80_S','UL_Pkt-S_p-90_S',  \n",
    "'DL_Pkt-S-g100_mean_S','DL_Pkt-S-g100_medn_S','DL_Pkt-S-g100_max_S','DL_Pkt-S-g100_min_S','DL_Pkt-S-g100_std_S','DL_Pkt-S-g100_mean-f25_S','DL_Pkt-S-g100_mean-f50_S','DL_Pkt-S-g100_mean-l25_S','DL_Pkt-S-g100_mean-l50_S','DL_Pkt-S-g100_p-10_S','DL_Pkt-S-g100_p-20_S','DL_Pkt-S-g100_p-30_S','DL_Pkt-S-g100_p-40_S','DL_Pkt-S-g100_p-50_S', 'DL_Pkt-S-g100_p-60_S','DL_Pkt-S-g100_p-70_S','DL_Pkt-S-g100_p-80_S','DL_Pkt-S-g100_p-90_S', \n",
    "'UL_Pkt-S-g100_mean_S','UL_Pkt-S-g100_medn_S','UL_Pkt-S-g100_max_S','UL_Pkt-S-g100_min_S','UL_Pkt-S-g100_std_S','UL_Pkt-S-g100_mean-f25_S','UL_Pkt-S-g100_mean-f50_S','UL_Pkt-S-g100_mean-l25_S','UL_Pkt-S-g100_mean-l50_S','UL_Pkt-S-g100_p-10_S','UL_Pkt-S-g100_p-20_S','UL_Pkt-S-g100_p-30_S','UL_Pkt-S-g100_p-40_S','UL_Pkt-S-g100_p-50_S', 'UL_Pkt-S-g100_p-60_S','UL_Pkt-S-g100_p-70_S','UL_Pkt-S-g100_p-80_S','UL_Pkt-S-g100_p-90_S',\n",
    "'DL_IA_mean_S','DL_IA_medn_S','DL_IA_max_S','DL_IA_min_S','DL_IA_std_S','DL_IA_mean-f25_S','DL_IA_mean-f50_S','DL_IA_mean-l25_S','DL_IA_mean-l50_S','DL_IA_p-10_S','DL_IA_p-20_S','DL_IA_p-30_S','DL_IA_p-40_S','DL_IA_p-50_S', 'DL_IA_p-60_S','DL_IA_p-70_S','DL_IA_p-80_S','DL_IA_p-90_S',\n",
    "'UL_IA_mean_S','UL_IA-S_medn_S','UL_IA_max_S','UL_IA_min_S','UL_IA_std_S','UL_IA_mean-f25_S','UL_IA_mean-f50_S','UL_IA_mean-l25_S','UL_IA_mean-l50_S','UL_IA_p-10_S','UL_IA_p-20_S','UL_IA_p-30_S','UL_IA_p-40_S','UL_IA_p-50_S', 'UL_IA_p-60_S','UL_IA_p-70_S','UL_IA_p-80_S','UL_IA_p-90_S'    \n",
    "])]"
   ]
  },
  {
   "cell_type": "code",
   "execution_count": 217,
   "metadata": {},
   "outputs": [],
   "source": [
    "A_all.shape\n",
    "F=A_all.columns"
   ]
  },
  {
   "cell_type": "code",
   "execution_count": 221,
   "metadata": {},
   "outputs": [],
   "source": [
    "A_all_train, A_all_test,A_all_y_train, A_all_y_test = train_test_split( A_all, yy, test_size=0.2, random_state=101)\n",
    "#A_ten_train, A_ten_test,A_ten_y_train, A_ten_y_test = train_test_split( A_ten, yy, test_size=0.2, random_state=101)"
   ]
  },
  {
   "cell_type": "code",
   "execution_count": 222,
   "metadata": {},
   "outputs": [
    {
     "data": {
      "text/plain": [
       "(386, 220)"
      ]
     },
     "execution_count": 222,
     "metadata": {},
     "output_type": "execute_result"
    }
   ],
   "source": [
    "A_all_train.shape"
   ]
  },
  {
   "cell_type": "code",
   "execution_count": 223,
   "metadata": {},
   "outputs": [
    {
     "name": "stdout",
     "output_type": "stream",
     "text": [
      "\n",
      "------------------------------------------------------\n",
      "Accuracy of our RF classification  model based on test data is : 1.0000\n",
      "------------------------------------------------------\n",
      "\n",
      "------------------------------------------------------\n",
      "Classification Report\n",
      "\n",
      "------------------------------------------------------\n",
      "              precision    recall  f1-score   support\n",
      "\n",
      "         low       1.00      1.00      1.00        32\n",
      "    moderate       1.00      1.00      1.00        29\n",
      "        high       1.00      1.00      1.00        36\n",
      "\n",
      "    accuracy                           1.00        97\n",
      "   macro avg       1.00      1.00      1.00        97\n",
      "weighted avg       1.00      1.00      1.00        97\n",
      "\n"
     ]
    }
   ],
   "source": [
    "# load the model from disk\n",
    "model =  best_estimator[5]\n",
    "model.fit(A_all_train, A_all_y_train)\n",
    "\n",
    "\n",
    "y_pred = model.predict(A_all_test)\n",
    "\n",
    "\n",
    "accuracy = metrics.accuracy_score(A_all_y_test, y_pred)\n",
    "print()\n",
    "print('------------------------------------------------------')\n",
    "print (\"Accuracy of our RF classification  model based on test data is : {0:.4f}\".format(accuracy))\n",
    "print('------------------------------------------------------')\n",
    "\n",
    "print()\n",
    "print('------------------------------------------------------')\n",
    "print (\"Classification Report\\n\")\n",
    "print('------------------------------------------------------')\n",
    "\n",
    "print (\"{0}\".format(metrics.classification_report(A_all_y_test.ravel(), y_pred,target_names = ['low', 'moderate', 'high'])))\n"
   ]
  },
  {
   "cell_type": "code",
   "execution_count": 225,
   "metadata": {},
   "outputs": [
    {
     "data": {
      "image/png": "[encoded data removed]",
      "text/plain": [
       "<Figure size 720x432 with 1 Axes>"
      ]
     },
     "metadata": {},
     "output_type": "display_data"
    }
   ],
   "source": [
    "importances = model.feature_importances_\n",
    "indices = np.argsort(importances)\n",
    "top_k = 15\n",
    "new_indices = indices[-top_k:]\n",
    "# fig = plt.figure(figsize=(15, 10))\n",
    "# plt.rcParams[\"axes.grid\"] = False\n",
    "# #plt.title('Feature Importances')\n",
    "# plt.barh(range(len(new_indices)), importances[new_indices], color='c', align='edge')\n",
    "# plt.yticks(range(len(new_indices)), [F3[i] for i in new_indices])\n",
    "# #plt.xticks((0, 0.02, 0.07))\n",
    "# plt.xlabel('Relative Importance')\n",
    "# #plt.show()\n",
    "# plt.savefig('b.pdf')\n",
    "fig = plt.figure(figsize=(10,6))\n",
    "plt.rcParams[\"axes.grid\"] = False\n",
    "ax = fig.add_subplot(111)\n",
    "ax.barh(range(len(new_indices)), importances[new_indices], color='c',align='center')\n",
    "plt.yticks(range(len(new_indices)), [F[i] for i in new_indices])\n",
    "\n",
    "plt.tight_layout()\n",
    "#plt.show()\n",
    "plt.savefig('tcp-bit-15fea.pdf')"
   ]
  },
  {
   "cell_type": "code",
   "execution_count": 168,
   "metadata": {},
   "outputs": [],
   "source": [
    "# from sklearn.metrics import plot_confusion_matrix\n",
    "# print()\n",
    "# print('------------------------------------------------------')\n",
    "# print (\"Confusion Matrix Result \\n\")\n",
    "# print('------------------------------------------------------')\n",
    "\n",
    "# np.set_printoptions(precision=2)\n",
    "\n",
    "# # Plot non-normalized confusion matrix\n",
    "# titles_options = [(\"Confusion matrix without normalization\", None), (\"Normalized Confusion Matrix\", 'true')]\n",
    "\n",
    "# for title, normalize in titles_options:\n",
    "#     fig, ax = plt.subplots(figsize=(10, 10))\n",
    "#     disp = plot_confusion_matrix(model,A_all_test, A_all_y_test, display_labels=['Low','Moderate','High'],\n",
    "#                                  cmap=plt.cm.Blues,normalize=normalize,ax=ax)\n",
    "#     disp.ax_.set_title(title)\n",
    "\n",
    "#     print(title)\n",
    "#     print(disp.confusion_matrix)\n",
    "# plt.savefig('normalized_confusion.pdf')\n",
    "# #plt.show()"
   ]
  }
 ],
 "metadata": {
  "kernelspec": {
   "display_name": "Python 3",
   "language": "python",
   "name": "python3"
  },
  "language_info": {
   "codemirror_mode": {
    "name": "ipython",
    "version": 3
   },
   "file_extension": ".py",
   "mimetype": "text/x-python",
   "name": "python",
   "nbconvert_exporter": "python",
   "pygments_lexer": "ipython3",
   "version": "3.7.7"
  }
 },
 "nbformat": 4,
 "nbformat_minor": 4
}
