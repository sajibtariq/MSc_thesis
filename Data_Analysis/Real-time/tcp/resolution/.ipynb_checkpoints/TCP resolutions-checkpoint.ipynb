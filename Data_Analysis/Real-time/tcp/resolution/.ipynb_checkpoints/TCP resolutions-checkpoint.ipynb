{
 "cells": [
  {
   "cell_type": "code",
   "execution_count": 11,
   "metadata": {},
   "outputs": [],
   "source": [
    "import os\n",
    "import pandas as pd\n",
    "import numpy as np\n",
    "import matplotlib.pyplot as plt\n",
    "import seaborn as sns\n",
    "from sklearn.model_selection import train_test_split\n",
    "from sklearn import metrics\n",
    "from sklearn.metrics import confusion_matrix\n",
    "from sklearn.metrics import classification_report\n",
    "from imblearn.over_sampling import SMOTE \n",
    "from sklearn import model_selection\n",
    "from sklearn.linear_model import LogisticRegression\n",
    "from sklearn.tree import DecisionTreeClassifier\n",
    "from sklearn.ensemble import RandomForestClassifier\n",
    "from sklearn.neighbors import KNeighborsClassifier\n",
    "from sklearn.discriminant_analysis import LinearDiscriminantAnalysis\n",
    "from sklearn.naive_bayes import GaussianNB\n",
    "from sklearn.svm import SVC\n",
    "from sklearn.neural_network import MLPClassifier\n",
    "from sklearn.model_selection import GridSearchCV\n",
    "import warnings\n",
    "warnings.simplefilter(action='ignore', category=Warning)\n",
    "%matplotlib inline"
   ]
  },
  {
   "cell_type": "code",
   "execution_count": 12,
   "metadata": {},
   "outputs": [],
   "source": [
    "d = pd.read_csv('/media/loop/Backup/vm/tos1/tcp/online/tcp.csv')\n",
    "d = d[(d[['Resolution(w)']] != 0).all(axis=1)]\n",
    "d.isnull().values.any()\n",
    "# drop rows with missing values\n",
    "d.dropna(inplace=True)\n",
    "X=d.iloc[:, 13:265] \n",
    "#Y=d.iloc[:,11]\n",
    "Y=d.loc[:,d.columns.isin(['Resolution(w)'])]"
   ]
  },
  {
   "cell_type": "code",
   "execution_count": 3,
   "metadata": {},
   "outputs": [],
   "source": [
    "XX.columns=(['DL_Th_CW','UL_Th_CW','DL_Th_TW-1','UL_Th_TW-1','DL_Th_TW-3','UL_Th_TW-3','DL_Th_TW-5','UL_Th_TW-5','DL_Th_TW-10','UL_Th_TW-10','DL_Th_TW-20','UL_Th_TW-20','DL_Th_S','UL_Th_S','DL_Pkt_CW','UL_Pkt_CW','DL_Pkt_TW-1','UL_Pkt_TW-1','DL_Pkt_TW-3','UL_Pkt_TW-3','DL_Pkt_TW-5','UL_Pkt_TW-5','DL_Pkt_TW-10','UL_Pkt_TW-10','DL_Pkt_TW-20','UL_Pkt_TW-20','DL_Pkt_S','UL_Pkt_S','DL_Pkt-gt100_CW', 'UL_Pkt-gt100_CW', 'DL_Pkt-gt100_TW-1','UL_Pkt-gt100_TW-1','DL_Pkt-gt100_TW-3','UL_Pkt-gt100_TW-3','DL_Pkt-gt100_TW-5','UL_Pkt-gt100_TW-5','DL_Pkt-gt100_TW-10','UL_Pkt-gt100_TW-10','DL_Pkt-gt100_TW-20','UL_Pkt-gt100_TW-20','DL_Pkt-gt100_S','UL_Pkt-gt100_S','DL_IA_mean_CW','UL_IA_mean_CW','DL_IA_mean_TW-1','UL_IA_mean_TW-1','DL_IA_mean_TW-3','UL_IA_mean_TW-3','DL_IA_mean_TW-5','UL_IA_mean_TW-5','DL_IA_mean_TW-10','UL_IA_mean_TW-10','DL_IA_mean_TW-20','UL_IA_mean_TW-20','DL_IA_mean_S','UL_IA_mean_S','DL_IA_median_CW','UL_IA_median_CW','DL_IA_median_TW-1','UL_IA_median_TW-1','DL_IA_median_TW-3','UL_IA_median_TW-3','DL_IA_median_TW-5','UL_IA_median_TW-5','DL_IA_median_TW-10','UL_IA_median_TW-10','DL_IA_median_TW-20','UL_IA_median_TW-20','DL_IA_median_S','UL_IA_median_S','DL_IA_std_CW','UL_IA_std_CW','DL_IA_std_TW-1','UL_IA_std_TW-1','DL_IA_std_TW-3','UL_IA_std_TW-3','DL_IA_std_TW-5','UL_IA_std_TW-5','DL_IA_std_TW-10','UL_IA_std_TW-10','DL_IA_std_TW-20','UL_IA_std_TW-20','DL_IA_std_S','UL_IA_std_S',\n",
    "'DL_IA_max_CW','UL_IA_max_CW','DL_IA_max_TW-1','UL_IA_max_TW-1','DL_IA_max_TW-3','UL_IA_max_TW-3','DL_IA_max_TW-5','UL_IA_max_TW-5','DL_IA_max_TW-10','UL_IA_max_TW-10','DL_IA_max_TW-20','UL_IA_max_TW-20','DL_IA_max_S','UL_IA_max_S','DL_IA_min_CW','UL_IA_min_CW','DL_IA_min_TW-1','UL_IA_min_TW-1','DL_IA_min_TW-3','UL_IA_min_TW-3','DL_IA_min_TW-5','UL_IA_min_TW-5','DL_IA_min_TW-10','UL_IA_min_TW-10','DL_IA_min_TW-20','UL_IA_min_TW-20','DL_IA_min_S','UL_IA_min_S','DL_Pkt-Size_mean_CW','UL_Pkt-Size_mean_CW','DL_Pkt-Size_mean_TW-1','UL_Pkt-Size_mean_TW-1','DL_Pkt-Size_mean_TW-3','UL_Pkt-Size_mean_TW-3','DL_Pkt-Size_mean_TW-5','UL_Pkt-Size_mean_TW-5','DL_Pkt-Size_mean_TW-10','UL_Pkt-Size_mean_TW-10','DL_Pkt-Size_mean_TW-20','UL_Pkt-Size_mean_TW-20','DL_Pkt-Size_mean_S','UL_Pkt-Size_mean_S','DL_Pkt-Size_median_CW','UL_Pkt-Size_median_CW','DL_Pkt-Size_median_TW-1','UL_Pkt-Size_median_TW-1','DL_Pkt-Size_median_TW-3','UL_Pkt-Size_median_TW-3','DL_Pkt-Size_median_TW-5','UL_Pkt-Size_median_TW-5','DL_Pkt-Size_median_TW-10','UL_Pkt-Size_median_TW-10','DL_Pkt-Size_median_TW-20','UL_Pkt-Size_median_TW-20','DL_Pkt-Size_median_S','UL_Pkt-Size_median_S',\n",
    "'DL_Pkt-Size_std_CW','UL_Pkt-Size_std_CW','DL_Pkt-Size_std_TW-1','UL_Pkt-Size_std_TW-1','DL_Pkt-Size_std_TW-3','UL_Pkt-Size_std_TW-3','DL_Pkt-Size_std_TW-5','UL_Pkt-Size_std_TW-5','DL_Pkt-Size_std_TW-10','UL_Pkt-Size_std_TW-10','DL_Pkt-Size_std_TW-20','UL_Pkt-Size_std_TW-20','DL_Pkt-Size_std_S','UL_Pkt-Size_std_S','DL_Pkt-Size_max_CW','UL_Pkt-Size_max_CW','DL_Pkt-Size_max_TW-1','UL_Pkt-Size_max_TW-1','DL_Pkt-Size_max_TW-3','UL_Pkt-Size_max_TW-3','DL_Pkt-Size_max_TW-5','UL_Pkt-Size_max_TW-5','DL_Pkt-Size_max_TW-10','UL_Pkt-Size_max_TW-10','DL_Pkt-Size_max_TW-20','UL_Pkt-Size_max_TW-20','DL_Pkt-Size_max_S','UL_Pkt-Size_max_S','DL_Pkt-Size_min_CW','UL_Pkt-Size_min_CW','DL_Pkt-Size_min_TW-1','UL_Pkt-Size_min_TW-1','DL_Pkt-Size_min_TW-3','UL_Pkt-Size_min_TW-3','DL_Pkt-Size_min_TW-5','UL_Pkt-Size_min_TW-5','DL_Pkt-Size_min_TW-10','UL_Pkt-Size_min_TW-10','DL_Pkt-Size_min_TW-20','UL_Pkt-Size_min_TW-20','DL_Pkt-Size_min_S','UL_Pkt-Size_min_S','DL_Pkt-Size-gt100_mean_CW','UL_Pkt-Size-gt100_mean_CW','DL_Pkt-Size-gt100_mean_TW-1','UL_Pkt-Size-gt100_mean_TW-1','DL_Pkt-Size-gt100_mean_TW-3','UL_Pkt-Size-gt100_mean_TW-3','DL_Pkt-Size-gt100_mean_TW-5','UL_Pkt-Size-gt100_mean_TW-5','DL_Pkt-Size-gt100_mean_TW-10','UL_Pkt-Size-gt100_mean_TW-10','DL_Pkt-Size-gt100_mean_TW-20','UL_Pkt-Size-gt100_mean_TW-20','DL_Pkt-Size-gt100_mean_S','UL_Pkt-Size-gt100_mean_S',    \n",
    "'DL_Pkt-Size-gt100_median_CW','UL_Pkt-Size-gt100_median_CW','DL_Pkt-Size-gt100_median_TW-1','UL_Pkt-Size-gt100_median_TW-1','DL_Pkt-Size-gt100_median_TW-3','UL_Pkt-Size-gt100_median_TW-3','DL_Pkt-Size-gt100_median_TW-5','UL_Pkt-Size-gt100_median_TW-5','DL_Pkt-Size-gt100_median_TW-10','UL_Pkt-Size-gt100_median_TW-10','DL_Pkt-Size-gt100_median_TW-20','UL_Pkt-Size-gt100_median_TW-20','DL_Pkt-Size-gt100_median_S','UL_Pkt-Size-gt100_median_S','DL_Pkt-Size-gt100_std_CW','UL_Pkt-Size-gt100_std_CW','DL_Pkt-Size-gt100_std_TW-1','UL_Pkt-Size-gt100_std_TW-1','DL_Pkt-Size-gt100_std_TW-3','UL_Pkt-Size-gt100_std_TW-3','DL_Pkt-Size-gt100_std_TW-5','UL_Pkt-Size-gt100_std_TW-5','DL_Pkt-Size-gt100_std_TW-10','UL_Pkt-Size-gt100_std_TW-10','DL_Pkt-Size-gt100_std_TW-20','UL_Pkt-Size-gt100_std_TW-20','DL_Pkt-Size-gt100_std_S','UL_Pkt-Size-gt100_std_S','DL_Pkt-Size--gt100_max_CW','UL_Pkt-Size-gt100_max_CW','DL_Pkt-Size-gt100_max_TW-1','UL_Pkt-Size-gt100_max_TW-1','DL_Pkt-Size-gt100_max_TW-3','UL_Pkt-Size-gt100_max_TW-3','DL_Pkt-Size-gt100_max_TW-5','UL_Pkt-Size-gt100_max_TW-5','DL_Pkt-Size-gt100_max_TW-10','UL_Pkt-Size-gt100_max_TW-10','DL_Pkt-Size-gt100_max_TW-20','UL_Pkt-Size-gt100_max_TW-20','DL_Pkt-Size-gt100_max_S','UL_Pkt-Size-gt100_max_S','DL_Pkt-Size-gt100_min_CW','UL_Pkt-Size-gt100_min_CW','DL_Pkt-Size-gt100_min_TW-1','UL_Pkt-Size-gt100_min_TW-1','DL_Pkt-Size-gt100_min_TW-3','UL_Pkt-Size-gt100_min_TW-3','DL_Pkt-Size-gt100_min_TW-5','UL_Pkt-Size-gt100_min_TW-5','DL_Pkt-Size-gt100_min_TW-10','UL_Pkt-Size-gt100_min_TW-10','DL_Pkt-Size-gt100_min_TW-20','UL_Pkt-Size-gt100_min_TW-20','DL_Pkt-Size-gt100_min_S','UL_Pkt-Size-gt100_min_S'])\n"
   ]
  },
  {
   "cell_type": "code",
   "execution_count": 4,
   "metadata": {},
   "outputs": [],
   "source": [
    "conditions = [\n",
    "    (Y[['Resolution(w)']]==320) ,  #LD\n",
    "    (Y[['Resolution(w)']]==384),   #LD\n",
    "    (Y[['Resolution(w)']]==512),   #SD\n",
    "    (Y[['Resolution(w)']]==640),   #SD\n",
    "    (Y[['Resolution(w)']]==736),   #SD\n",
    "    (Y[['Resolution(w)']]==1280),  #HD\n",
    "    (Y[['Resolution(w)']]==1920),  #HD\n",
    "    ]\n",
    "\n",
    "choices = ['0', '0', '1','1', '1', '2','2']\n",
    "Y['quality'] = np.select(conditions, choices, default='None')\n"
   ]
  },
  {
   "cell_type": "code",
   "execution_count": 5,
   "metadata": {},
   "outputs": [],
   "source": [
    "conditions = [\n",
    "    (Y[['Resolution(w)']]==320) ,  \n",
    "    (Y[['Resolution(w)']]==384),   #LD\n",
    "    (Y[['Resolution(w)']]==512),   #SD\n",
    "    (Y[['Resolution(w)']]==640),   #SD\n",
    "    (Y[['Resolution(w)']]==736),   #SD\n",
    "    (Y[['Resolution(w)']]==1280),  #HD\n",
    "    (Y[['Resolution(w)']]==1920),  #HD\n",
    "    ]\n",
    "\n",
    "choices = ['LD', 'LD', 'SD','SD', 'SD', 'HD','HD']\n",
    "Y['quality1'] = np.select(conditions, choices, default='None')\n",
    "yy=Y['quality']"
   ]
  },
  {
   "cell_type": "code",
   "execution_count": 6,
   "metadata": {},
   "outputs": [
    {
     "data": {
      "image/png": "[encoded data removed]",
      "text/plain": [
       "<Figure size 720x576 with 1 Axes>"
      ]
     },
     "metadata": {},
     "output_type": "display_data"
    }
   ],
   "source": [
    "import matplotlib.pyplot as plt\n",
    "import numpy as np\n",
    "import pandas as pd\n",
    "import seaborn as sns\n",
    "sns.set(font_scale=1.2, style=\"whitegrid\")\n",
    "plt.figure(figsize=(10, 8))\n",
    "#df = pd.DataFrame(np.array([['a'], ['a'], ['b']]), columns=['current_status'])\n",
    "ax = sns.countplot(y='quality1', data=Y,palette = \"tab20\")\n",
    "ax.grid(False)\n",
    "plt.title('Distribution of  Resolutions',weight=\"bold\")\n",
    "plt.xlabel('Percentages and Numbers ',weight=\"bold\")\n",
    "plt.ylabel('Resolutions',weight=\"bold\")\n",
    "#plt.yticks(np.arange(0, 1200, 120))\n",
    "plt.xticks(np.arange(0, 45000,5000))\n",
    "plt.tick_params(axis='x',  colors='black')\n",
    "plt.tick_params(axis='y', colors='black')\n",
    "\n",
    "total = len(Y['quality1'])\n",
    "for p in ax.patches:\n",
    "        percentage = '{:.1f}%'.format(100 * p.get_width()/total)\n",
    "        x = p.get_x() + p.get_width() / 2\n",
    "        y = p.get_y() - 0.02\n",
    "        ax.annotate(percentage, (x, y))\n",
    "\n",
    "#plt.show()\n",
    "plt.savefig('resolution distrubutions.pdf')"
   ]
  },
  {
   "cell_type": "code",
   "execution_count": 10,
   "metadata": {},
   "outputs": [
    {
     "data": {
      "text/plain": [
       "1.58"
      ]
     },
     "execution_count": 10,
     "metadata": {},
     "output_type": "execute_result"
    }
   ],
   "source": [
    "y"
   ]
  },
  {
   "cell_type": "code",
   "execution_count": 374,
   "metadata": {},
   "outputs": [
    {
     "name": "stdout",
     "output_type": "stream",
     "text": [
      "Fitting 5 folds for each of 2 candidates, totalling 10 fits\n"
     ]
    },
    {
     "name": "stderr",
     "output_type": "stream",
     "text": [
      "[Parallel(n_jobs=-1)]: Using backend LokyBackend with 40 concurrent workers.\n",
      "[Parallel(n_jobs=-1)]: Done   8 out of  10 | elapsed:   12.0s remaining:    3.0s\n",
      "[Parallel(n_jobs=-1)]: Done  10 out of  10 | elapsed:   13.8s finished\n"
     ]
    },
    {
     "name": "stdout",
     "output_type": "stream",
     "text": [
      "Fitting 5 folds for each of 5 candidates, totalling 25 fits\n"
     ]
    },
    {
     "name": "stderr",
     "output_type": "stream",
     "text": [
      "[Parallel(n_jobs=-1)]: Using backend LokyBackend with 40 concurrent workers.\n",
      "[Parallel(n_jobs=-1)]: Done  25 out of  25 | elapsed: 16.9min finished\n"
     ]
    },
    {
     "name": "stdout",
     "output_type": "stream",
     "text": [
      "Fitting 5 folds for each of 144 candidates, totalling 720 fits\n"
     ]
    },
    {
     "name": "stderr",
     "output_type": "stream",
     "text": [
      "[Parallel(n_jobs=-1)]: Using backend LokyBackend with 40 concurrent workers.\n",
      "[Parallel(n_jobs=-1)]: Done 120 tasks      | elapsed:   50.4s\n",
      "[Parallel(n_jobs=-1)]: Done 370 tasks      | elapsed:  2.8min\n",
      "[Parallel(n_jobs=-1)]: Done 720 out of 720 | elapsed:  5.4min finished\n"
     ]
    },
    {
     "name": "stdout",
     "output_type": "stream",
     "text": [
      "Fitting 5 folds for each of 1 candidates, totalling 5 fits\n"
     ]
    },
    {
     "name": "stderr",
     "output_type": "stream",
     "text": [
      "[Parallel(n_jobs=-1)]: Using backend LokyBackend with 40 concurrent workers.\n",
      "[Parallel(n_jobs=-1)]: Done   5 out of   5 | elapsed:    1.9s finished\n"
     ]
    },
    {
     "name": "stdout",
     "output_type": "stream",
     "text": [
      "Fitting 5 folds for each of 6 candidates, totalling 30 fits\n"
     ]
    },
    {
     "name": "stderr",
     "output_type": "stream",
     "text": [
      "[Parallel(n_jobs=-1)]: Using backend LokyBackend with 40 concurrent workers.\n",
      "[Parallel(n_jobs=-1)]: Done  13 out of  30 | elapsed: 218.6min remaining: 285.9min\n",
      "[Parallel(n_jobs=-1)]: Done  30 out of  30 | elapsed: 243.8min finished\n"
     ]
    },
    {
     "name": "stdout",
     "output_type": "stream",
     "text": [
      "Fitting 5 folds for each of 270 candidates, totalling 1350 fits\n"
     ]
    },
    {
     "name": "stderr",
     "output_type": "stream",
     "text": [
      "[Parallel(n_jobs=-1)]: Using backend LokyBackend with 40 concurrent workers.\n",
      "[Parallel(n_jobs=-1)]: Done 120 tasks      | elapsed:  1.3min\n",
      "[Parallel(n_jobs=-1)]: Done 370 tasks      | elapsed:  6.7min\n",
      "[Parallel(n_jobs=-1)]: Done 720 tasks      | elapsed: 14.7min\n",
      "[Parallel(n_jobs=-1)]: Done 1170 tasks      | elapsed: 24.0min\n",
      "[Parallel(n_jobs=-1)]: Done 1350 out of 1350 | elapsed: 29.0min finished\n"
     ]
    },
    {
     "name": "stdout",
     "output_type": "stream",
     "text": [
      "Fitting 5 folds for each of 144 candidates, totalling 720 fits\n"
     ]
    },
    {
     "name": "stderr",
     "output_type": "stream",
     "text": [
      "[Parallel(n_jobs=-1)]: Using backend LokyBackend with 40 concurrent workers.\n",
      "[Parallel(n_jobs=-1)]: Done 120 tasks      | elapsed: 23.8min\n",
      "[Parallel(n_jobs=-1)]: Done 370 tasks      | elapsed: 59.5min\n",
      "[Parallel(n_jobs=-1)]: Done 720 out of 720 | elapsed: 153.1min finished\n"
     ]
    },
    {
     "name": "stdout",
     "output_type": "stream",
     "text": [
      "----------------------------------------\n",
      "Best parameters for seven algorithms\n",
      "----------------------------------------\n",
      "\n",
      "LogisticRegression(C=1.0, class_weight=None, dual=False, fit_intercept=True,\n",
      "                   intercept_scaling=1, l1_ratio=None, max_iter=100,\n",
      "                   multi_class='auto', n_jobs=None, penalty='l2',\n",
      "                   random_state=None, solver='lbfgs', tol=0.0001, verbose=0,\n",
      "                   warm_start=False)\n",
      "\n",
      "\n",
      "KNeighborsClassifier(algorithm='auto', leaf_size=30, metric='minkowski',\n",
      "                     metric_params=None, n_jobs=None, n_neighbors=7, p=2,\n",
      "                     weights='uniform')\n",
      "\n",
      "\n",
      "DecisionTreeClassifier(ccp_alpha=0.0, class_weight='balanced',\n",
      "                       criterion='entropy', max_depth=50, max_features=None,\n",
      "                       max_leaf_nodes=None, min_impurity_decrease=0.0,\n",
      "                       min_impurity_split=None, min_samples_leaf=3,\n",
      "                       min_samples_split=8, min_weight_fraction_leaf=0.0,\n",
      "                       presort='deprecated', random_state=None,\n",
      "                       splitter='best')\n",
      "\n",
      "\n",
      "GaussianNB(priors=None, var_smoothing=1e-09)\n",
      "\n",
      "\n",
      "SVC(C=1, break_ties=False, cache_size=200, class_weight=None, coef0=0.0,\n",
      "    decision_function_shape='ovr', degree=3, gamma='scale', kernel='poly',\n",
      "    max_iter=-1, probability=False, random_state=None, shrinking=True,\n",
      "    tol=0.001, verbose=False)\n",
      "\n",
      "\n",
      "RandomForestClassifier(bootstrap=True, ccp_alpha=0.0, class_weight='balanced',\n",
      "                       criterion='gini', max_depth=100, max_features=3,\n",
      "                       max_leaf_nodes=None, max_samples=None,\n",
      "                       min_impurity_decrease=0.0, min_impurity_split=None,\n",
      "                       min_samples_leaf=3, min_samples_split=8,\n",
      "                       min_weight_fraction_leaf=0.0, n_estimators=200,\n",
      "                       n_jobs=None, oob_score=False, random_state=None,\n",
      "                       verbose=0, warm_start=False)\n",
      "\n",
      "\n",
      "MLPClassifier(activation='identity', alpha=0.05, batch_size='auto', beta_1=0.9,\n",
      "              beta_2=0.999, early_stopping=False, epsilon=1e-08,\n",
      "              hidden_layer_sizes=(50, 50, 50), learning_rate='constant',\n",
      "              learning_rate_init=0.001, max_fun=15000, max_iter=200,\n",
      "              momentum=0.9, n_iter_no_change=10, nesterovs_momentum=True,\n",
      "              power_t=0.5, random_state=None, shuffle=True, solver='adam',\n",
      "              tol=0.0001, validation_fraction=0.1, verbose=False,\n",
      "              warm_start=False)\n",
      "\n",
      "\n"
     ]
    }
   ],
   "source": [
    "seed = 42\n",
    "\n",
    "# prepare models\n",
    "\n",
    "param_grids=[]\n",
    "##logistic\n",
    "param_grids_0= {           \n",
    "    'penalty':['l1', 'l2'], \n",
    "}\n",
    "param_grids.append(param_grids_0)\n",
    "\n",
    "##knn\n",
    "param_grids_1 = {                      \n",
    "    'n_neighbors': [3,5,7,10,25]\n",
    "}\n",
    "param_grids.append(param_grids_1)\n",
    "\n",
    "## Decision Tree\n",
    "param_grids_2 = { \n",
    "    'criterion':['gini', 'entropy'],\n",
    "    'max_depth': [ 3, 10, 50, None],\n",
    "    'min_samples_leaf': [3, 4, 5],\n",
    "    'min_samples_split': [8, 10, 12],\n",
    "    'class_weight': ['balanced',None]\n",
    "}\n",
    "\n",
    "param_grids.append(param_grids_2)\n",
    "## NB\n",
    "param_grids_3 = {   \n",
    "    'priors':[None],\n",
    "    'var_smoothing':[1e-09]\n",
    "}\n",
    "\n",
    "param_grids.append(param_grids_3)\n",
    " ## SVM\n",
    "param_grids_4 = {  \n",
    "     'gamma' :['scale'],\n",
    "     'kernel' : [ 'rbf', 'poly'],\n",
    "     #'degree' : [1,3,6],\n",
    "     'C' : [0.01, 0.1, 1]\n",
    "\n",
    "}\n",
    "param_grids.append(param_grids_4)\n",
    " ### Random foresst\n",
    "param_grids_5 = {      \n",
    "    'bootstrap': [True],\n",
    "    'max_depth': [ 3, 10, 50, 90, 100],\n",
    "    'max_features': [3],\n",
    "    'n_estimators': [100, 200,500],\n",
    "    'min_samples_leaf': [3, 4, 5],\n",
    "    'min_samples_split': [8, 10, 12],\n",
    "    'class_weight': ['balanced',None]\n",
    "}\n",
    "param_grids.append(param_grids_5)\n",
    "### MLP\n",
    "param_grids_6 = {    \n",
    "    'hidden_layer_sizes': [(50,50,50), (50,100,50), (100,)],\n",
    "    'activation': ['identity', 'logistic', 'tanh', 'relu'],\n",
    "    'solver': ['sgd', 'adam', 'lbfgs' ],\n",
    "    'alpha': [0.0001, 0.05],\n",
    "    'learning_rate': ['constant','adaptive'],\n",
    "}\n",
    "param_grids.append(param_grids_6)\n",
    "\n",
    "models = []\n",
    "models.append((LogisticRegression()))\n",
    "models.append((KNeighborsClassifier()))\n",
    "models.append((DecisionTreeClassifier()))\n",
    "models.append((GaussianNB()))\n",
    "models.append((SVC()))\n",
    "models.append((RandomForestClassifier()))\n",
    "models.append((MLPClassifier()))\n",
    "\n",
    "\n",
    "best_estimator=[]\n",
    "\n",
    "\n",
    "for i in range(7):\n",
    "    #print(param_grids[i])\n",
    "    #param_grids= param_grids_%d' % (i))\n",
    "    grid_search = GridSearchCV(estimator = models[i], param_grid = param_grids[i],  cv =5, n_jobs = -1, verbose = 1, return_train_score=True)\n",
    "    grid_search.fit(X, y)\n",
    "    #print(grid_search.best_params_)\n",
    "    \n",
    "    best_estimator.append(grid_search.best_estimator_)\n",
    "    \n",
    "print('----------------------------------------')\n",
    "print('Best parameters for seven algorithms')\n",
    "print('----------------------------------------')\n",
    "print()\n",
    "\n",
    "for j in range(7):\n",
    "    print( best_estimator[j])\n",
    "    print('\\n')"
   ]
  },
  {
   "cell_type": "code",
   "execution_count": 375,
   "metadata": {},
   "outputs": [
    {
     "name": "stdout",
     "output_type": "stream",
     "text": [
      "----------------------------------------\n",
      "Box plot of all model cross validation accuracy\n",
      "----------------------------------------\n",
      "\n",
      "Accuracy LR: 67.106314 (0.910196)\n",
      "Training time LR: 0.087562 (0.003639)\n",
      "Accuracy KNN: 78.797102 (1.020352)\n",
      "Training time KNN: 0.090932 (0.003031)\n",
      "Accuracy DTC: 87.408747 (0.900177)\n",
      "Training time DTC: 0.206893 (0.004874)\n",
      "Accuracy GNB: 56.058426 (2.570927)\n",
      "Training time GNB: 0.008594 (0.000057)\n",
      "Accuracy SVM: 64.621760 (0.911831)\n",
      "Training time SVM: 38.914400 (0.230324)\n",
      "Accuracy RFC: 89.760721 (0.466832)\n",
      "Training time RFC: 0.364164 (0.000847)\n",
      "Accuracy MLP: 72.830981 (2.048915)\n",
      "Training time MLP: 2.840710 (0.182227)\n"
     ]
    }
   ],
   "source": [
    "import warnings\n",
    "warnings.filterwarnings('ignore')\n",
    "import pickle\n",
    "\n",
    "print('----------------------------------------')\n",
    "print('Box plot of all model cross validation accuracy')\n",
    "print('----------------------------------------')\n",
    "print()\n",
    "# prepare configuration for cross validation test harness\n",
    "seed = 42\n",
    "# prepare models\n",
    "models = []\n",
    "\n",
    "models.append(('LR',  best_estimator[0])) #LogisticRegression()\n",
    "models.append(('KNN', best_estimator[1])) #KNeighborsClassifier()))\n",
    "models.append(('DTC', best_estimator[2])) #DecisionTreeClassifier()))\n",
    "models.append(('GNB', best_estimator[3]))\n",
    "models.append(('SVM', best_estimator[4]))\n",
    "models.append(('RFC', best_estimator[5]))\n",
    "models.append(('MLP', best_estimator[6]))\n",
    "# evaluate each model in turn\n",
    "# evaluate each model in turn\n",
    "ac = []\n",
    "tr = []\n",
    "names = []\n",
    "scoring = 'accuracy'\n",
    "for name, model in models:\n",
    "    kfold = model_selection.KFold(n_splits=5, random_state=seed)\n",
    "    cv_results = model_selection.cross_validate(model, X, y, cv=kfold)\n",
    "    ac.append((cv_results['test_score'])*100)\n",
    "    tr.append((cv_results['fit_time'])/60)\n",
    "    names.append(name)\n",
    "    \n",
    "    a_msg = \"Accuracy %s: %f (%f)\" % (name, ((cv_results['test_score'])*100).mean(), ((cv_results['test_score'])*100).std())\n",
    "    t_msg = \"Training time %s: %f (%f)\" % (name, ((cv_results['fit_time'])/60).mean(),  ((cv_results['fit_time'])/60).std())\n",
    "    print(a_msg)\n",
    "    print(t_msg)\n",
    "# boxplot algorithm comparison"
   ]
  },
  {
   "cell_type": "code",
   "execution_count": 39,
   "metadata": {},
   "outputs": [
    {
     "name": "stdout",
     "output_type": "stream",
     "text": [
      "Training time: 8.687265872955322s\n"
     ]
    }
   ],
   "source": [
    "import time\n",
    "from sklearn.neural_network import MLPClassifier\n",
    "from sklearn.datasets import load_iris\n",
    "\n",
    "\n",
    "model = RandomForestClassifier(bootstrap=True, ccp_alpha=0.0, class_weight='balanced',\n",
    "                       criterion='gini', max_depth=100, max_features=3,\n",
    "                       max_leaf_nodes=None, max_samples=None,\n",
    "                       min_impurity_decrease=0.0, min_impurity_split=None,\n",
    "                       min_samples_leaf=3, min_samples_split=8,\n",
    "                       min_weight_fraction_leaf=0.0, n_estimators=200,\n",
    "                       n_jobs=None, oob_score=False, random_state=None,\n",
    "                       verbose=0, warm_start=False)\n",
    "\n",
    "start = time.time()\n",
    "model.fit(X_train, y_train)\n",
    "stop = time.time()\n",
    "print(f\"Training time: {stop - start}s\")\n",
    "# prints: Training time: 0.20307230949401855s"
   ]
  },
  {
   "cell_type": "code",
   "execution_count": 397,
   "metadata": {},
   "outputs": [
    {
     "data": {
      "image/png": "[encoded data removed]",
      "text/plain": [
       "<Figure size 576x576 with 1 Axes>"
      ]
     },
     "metadata": {},
     "output_type": "display_data"
    }
   ],
   "source": [
    "F=X.columns\n",
    "clf = RandomForestClassifier(bootstrap=True, ccp_alpha=0.0, class_weight='balanced',\n",
    "                       criterion='gini', max_depth=100, max_features=3,\n",
    "                       max_leaf_nodes=None, max_samples=None,\n",
    "                       min_impurity_decrease=0.0, min_impurity_split=None,\n",
    "                       min_samples_leaf=3, min_samples_split=8,\n",
    "                       min_weight_fraction_leaf=0.0, n_estimators=200,\n",
    "                       n_jobs=None, oob_score=False, random_state=42,\n",
    "                       verbose=0, warm_start=False)\n",
    "\n",
    "\n",
    "\n",
    "clf.fit(X, y)\n",
    "\n",
    "importances = clf.feature_importances_\n",
    "indices = np.argsort(importances)\n",
    "top_k = 15\n",
    "new_indices = indices[-top_k:]\n",
    "fig = plt.figure(figsize=(8, 8))\n",
    "plt.title('Feature Importances')\n",
    "plt.barh(range(len(new_indices)), importances[new_indices], color='b', align='center')\n",
    "plt.yticks(range(len(new_indices)), [F[i] for i in new_indices])\n",
    "plt.xlabel('Relative Importance')\n",
    "#plt.show()\n",
    "plt.savefig('b.eps')"
   ]
  },
  {
   "cell_type": "markdown",
   "metadata": {},
   "source": [
    "# Current Window"
   ]
  },
  {
   "cell_type": "code",
   "execution_count": 555,
   "metadata": {},
   "outputs": [],
   "source": [
    "C_all=X.loc[:,X.columns.isin(['DL_Th_CW','UL_Th_CW','DL_Pkt_CW','UL_Pkt_CW','DL_Pkt-gt100_CW', 'UL_Pkt-gt100_CW', 'DL_IA_mean_CW','UL_IA_mean_CW','DL_IA_median_CW','UL_IA_median_CW','DL_IA_std_CW','UL_IA_std_CW','DL_IA_max_CW','UL_IA_max_CW','DL_IA_min_CW','UL_IA_min_CW','DL_Pkt-Size_mean_CW','UL_Pkt-Size_mean_CW','DL_Pkt-Size_median_CW','UL_Pkt-Size_median_CW','DL_Pkt-Size_std_CW','UL_Pkt-Size_std_CW', 'DL_Pkt-Size_max_CW','UL_Pkt-Size_max_CW','DL_Pkt-Size_min_CW','UL_Pkt-Size_min_CW','DL_Pkt-Size-gt100_mean_CW','UL_Pkt-Size-gt100_mean_CW','DL_Pkt-Size-gt100_median_CW','UL_Pkt-Size-gt100_median_CW','DL_Pkt-Size-gt100_std_CW','UL_Pkt-Size-gt100_std_CW',\n",
    "'DL_Pkt-Size--gt100_max_CW','UL_Pkt-Size-gt100_max_CW','DL_Pkt-Size-gt100_min_CW','UL_Pkt-Size-gt100_min_CW'])]"
   ]
  },
  {
   "cell_type": "code",
   "execution_count": 556,
   "metadata": {},
   "outputs": [],
   "source": [
    "F=C_all.columns"
   ]
  },
  {
   "cell_type": "code",
   "execution_count": 569,
   "metadata": {},
   "outputs": [
    {
     "data": {
      "image/png": "[encoded data removed]",
      "text/plain": [
       "<Figure size 1080x576 with 1 Axes>"
      ]
     },
     "metadata": {},
     "output_type": "display_data"
    }
   ],
   "source": [
    "clf = RandomForestClassifier(bootstrap=True, ccp_alpha=0.0, class_weight='balanced',\n",
    "                       criterion='gini', max_depth=100, max_features=3,\n",
    "                       max_leaf_nodes=None, max_samples=None,\n",
    "                       min_impurity_decrease=0.0, min_impurity_split=None,\n",
    "                       min_samples_leaf=3, min_samples_split=8,\n",
    "                       min_weight_fraction_leaf=0.0, n_estimators=200,\n",
    "                       n_jobs=None, oob_score=False, random_state=42,\n",
    "                       verbose=0, warm_start=False)\n",
    "clf.fit(C_all, y)\n",
    "\n",
    "importances = clf.feature_importances_\n",
    "indices = np.argsort(importances)\n",
    "top_k = 10\n",
    "new_indices = indices[-top_k:]\n",
    "fig = plt.figure(figsize=(15, 8))\n",
    "plt.rcParams[\"axes.grid\"] = False\n",
    "#plt.title('Feature Importances')\n",
    "plt.barh(range(len(new_indices)), importances[new_indices], color='c', align='edge')\n",
    "plt.yticks(range(len(new_indices)), [F[i] for i in new_indices])\n",
    "#plt.xticks((0, 0.02, 0.07))\n",
    "plt.xlabel('Relative Importance')\n",
    "#plt.show()\n",
    "plt.savefig('CW-to10.pdf')"
   ]
  },
  {
   "cell_type": "code",
   "execution_count": 570,
   "metadata": {},
   "outputs": [
    {
     "data": {
      "text/plain": [
       "['UL_IA_std_CW',\n",
       " 'DL_Th_CW',\n",
       " 'DL_IA_max_CW',\n",
       " 'DL_IA_std_CW',\n",
       " 'UL_IA_max_CW',\n",
       " 'DL_IA_min_CW',\n",
       " 'DL_IA_mean_CW',\n",
       " 'UL_IA_mean_CW',\n",
       " 'UL_IA_median_CW',\n",
       " 'DL_IA_median_CW']"
      ]
     },
     "execution_count": 570,
     "metadata": {},
     "output_type": "execute_result"
    }
   ],
   "source": [
    "L=[]\n",
    "for i in new_indices:\n",
    "    l='%s'%F[i]\n",
    "    L.append(l)\n",
    "L"
   ]
  },
  {
   "cell_type": "code",
   "execution_count": 571,
   "metadata": {},
   "outputs": [],
   "source": [
    "C_ten=X.loc[:,X.columns.isin(['UL_IA_std_CW','DL_Th_CW','DL_IA_max_CW','DL_IA_std_CW','UL_IA_max_CW', 'DL_IA_min_CW','DL_IA_mean_CW','UL_IA_mean_CW','UL_IA_median_CW','DL_IA_median_CW'])]"
   ]
  },
  {
   "cell_type": "code",
   "execution_count": 572,
   "metadata": {},
   "outputs": [],
   "source": [
    "C_all_train, C_all_test,C_all_y_train, C_all_y_test = train_test_split( C_all, y, test_size=0.2, random_state=101)\n",
    "C_ten_train, C_ten_test,C_ten_y_train, C_ten_y_test = train_test_split( C_ten, y, test_size=0.2, random_state=101)"
   ]
  },
  {
   "cell_type": "code",
   "execution_count": 573,
   "metadata": {},
   "outputs": [
    {
     "data": {
      "text/plain": [
       "29984     2\n",
       "100454    2\n",
       "60531     1\n",
       "41988     2\n",
       "4177      1\n",
       "         ..\n",
       "5742      0\n",
       "74129     2\n",
       "83929     0\n",
       "84116     2\n",
       "46266     1\n",
       "Name: quality, Length: 84490, dtype: object"
      ]
     },
     "execution_count": 573,
     "metadata": {},
     "output_type": "execute_result"
    }
   ],
   "source": [
    "C_all_y_train"
   ]
  },
  {
   "cell_type": "code",
   "execution_count": 575,
   "metadata": {},
   "outputs": [
    {
     "name": "stdout",
     "output_type": "stream",
     "text": [
      "\n",
      "------------------------------------------------------\n",
      "Accuracy of our RF classification  model based on test data is : 0.6192\n",
      "------------------------------------------------------\n",
      "\n",
      "------------------------------------------------------\n",
      "Classification Report\n",
      "\n",
      "------------------------------------------------------\n",
      "               precision    recall  f1-score   support\n",
      "\n",
      "   class Poor       0.77      0.41      0.54      6544\n",
      "class Average       0.69      0.48      0.57      6546\n",
      "   class Good       0.55      0.90      0.69      8033\n",
      "\n",
      "     accuracy                           0.62     21123\n",
      "    macro avg       0.67      0.60      0.60     21123\n",
      " weighted avg       0.66      0.62      0.60     21123\n",
      "\n"
     ]
    }
   ],
   "source": [
    "# load the model from disk\n",
    "model = RandomForestClassifier(bootstrap=True, ccp_alpha=0.0, class_weight='balanced',\n",
    "                       criterion='gini', max_depth=100, max_features=3,\n",
    "                       max_leaf_nodes=None, max_samples=None,\n",
    "                       min_impurity_decrease=0.0, min_impurity_split=None,\n",
    "                       min_samples_leaf=3, min_samples_split=8,\n",
    "                       min_weight_fraction_leaf=0.0, n_estimators=200,\n",
    "                       n_jobs=None, oob_score=False, random_state=42,\n",
    "                       verbose=0, warm_start=False)\n",
    "model.fit(C_all_train, C_all_y_train)\n",
    "\n",
    "\n",
    "y_pred = model.predict(C_all_test)\n",
    "\n",
    "\n",
    "accuracy = metrics.accuracy_score( C_all_y_test, y_pred)\n",
    "print()\n",
    "print('------------------------------------------------------')\n",
    "print (\"Accuracy of our RF classification  model based on test data is : {0:.4f}\".format(accuracy))\n",
    "print('------------------------------------------------------')\n",
    "\n",
    "print()\n",
    "print('------------------------------------------------------')\n",
    "print (\"Classification Report\\n\")\n",
    "print('------------------------------------------------------')\n",
    "\n",
    "print (\"{0}\".format(metrics.classification_report(C_all_y_test.ravel(), y_pred,target_names = ['class Poor', 'class Average', 'class Good'])))"
   ]
  },
  {
   "cell_type": "code",
   "execution_count": 576,
   "metadata": {},
   "outputs": [
    {
     "name": "stdout",
     "output_type": "stream",
     "text": [
      "\n",
      "------------------------------------------------------\n",
      "Accuracy of our RF classification  model based on test data is : 0.6220\n",
      "------------------------------------------------------\n",
      "\n",
      "------------------------------------------------------\n",
      "Classification Report\n",
      "\n",
      "------------------------------------------------------\n",
      "               precision    recall  f1-score   support\n",
      "\n",
      "   class Poor       0.75      0.41      0.53      6544\n",
      "class Average       0.72      0.50      0.59      6546\n",
      "   class Good       0.55      0.90      0.68      8033\n",
      "\n",
      "     accuracy                           0.62     21123\n",
      "    macro avg       0.67      0.60      0.60     21123\n",
      " weighted avg       0.67      0.62      0.61     21123\n",
      "\n"
     ]
    }
   ],
   "source": [
    "# load the model from disk\n",
    "model = RandomForestClassifier(bootstrap=True, ccp_alpha=0.0, class_weight='balanced',\n",
    "                       criterion='gini', max_depth=100, max_features=3,\n",
    "                       max_leaf_nodes=None, max_samples=None,\n",
    "                       min_impurity_decrease=0.0, min_impurity_split=None,\n",
    "                       min_samples_leaf=3, min_samples_split=8,\n",
    "                       min_weight_fraction_leaf=0.0, n_estimators=200,\n",
    "                       n_jobs=None, oob_score=False, random_state=42,\n",
    "                       verbose=0, warm_start=False)\n",
    "model.fit(C_ten_train, C_ten_y_train)\n",
    "\n",
    "\n",
    "y_pred = model.predict(C_ten_test)\n",
    "\n",
    "\n",
    "accuracy = metrics.accuracy_score( C_ten_y_test.ravel(), y_pred)\n",
    "print()\n",
    "print('------------------------------------------------------')\n",
    "print (\"Accuracy of our RF classification  model based on test data is : {0:.4f}\".format(accuracy))\n",
    "print('------------------------------------------------------')\n",
    "\n",
    "print()\n",
    "print('------------------------------------------------------')\n",
    "print (\"Classification Report\\n\")\n",
    "print('------------------------------------------------------')\n",
    "\n",
    "print (\"{0}\".format(metrics.classification_report(C_ten_y_test.ravel(), y_pred,target_names = ['class Poor', 'class Average', 'class Good'])))"
   ]
  },
  {
   "cell_type": "markdown",
   "metadata": {},
   "source": [
    "# Trend window"
   ]
  },
  {
   "cell_type": "code",
   "execution_count": 577,
   "metadata": {},
   "outputs": [],
   "source": [
    "T_all=X.loc[:,X.columns.isin(['DL_Th_TW-1','UL_Th_TW-1','DL_Th_TW-3','UL_Th_TW-3','DL_Th_TW-5','UL_Th_TW-5','DL_Th_TW-10','UL_Th_TW-10','DL_Th_TW-20','UL_Th_TW-20','DL_Pkt_TW-1','UL_Pkt_TW-1','DL_Pkt_TW-3','UL_Pkt_TW-3','DL_Pkt_TW-5','UL_Pkt_TW-5','DL_Pkt_TW-10','UL_Pkt_TW-10','DL_Pkt_TW-20','UL_Pkt_TW-20', 'DL_Pkt-gt100_TW-1','UL_Pkt-gt100_TW-1','DL_Pkt-gt100_TW-3','UL_Pkt-gt100_TW-3','DL_Pkt-gt100_TW-5','UL_Pkt-gt100_TW-5','DL_Pkt-gt100_TW-10','UL_Pkt-gt100_TW-10','DL_Pkt-gt100_TW-20','UL_Pkt-gt100_TW-20','DL_IA_mean_TW-1','UL_IA_mean_TW-1','DL_IA_mean_TW-3','UL_IA_mean_TW-3','DL_IA_mean_TW-5','UL_IA_mean_TW-5','DL_IA_mean_TW-10','UL_IA_mean_TW-10','DL_IA_mean_TW-20','UL_IA_mean_TW-20','DL_IA_median_TW-1','UL_IA_median_TW-1','DL_IA_median_TW-3','UL_IA_median_TW-3','DL_IA_median_TW-5','UL_IA_median_TW-5','DL_IA_median_TW-10','UL_IA_median_TW-10','DL_IA_median_TW-20','UL_IA_median_TW-20','DL_IA_std_TW-1','UL_IA_std_TW-1','DL_IA_std_TW-3','UL_IA_std_TW-3','DL_IA_std_TW-5','UL_IA_std_TW-5','DL_IA_std_TW-10','UL_IA_std_TW-10','DL_IA_std_TW-20','UL_IA_std_TW-20','DL_IA_max_TW-1','UL_IA_max_TW-1','DL_IA_max_TW-3','UL_IA_max_TW-3','DL_IA_max_TW-5','UL_IA_max_TW-5','DL_IA_max_TW-10','UL_IA_max_TW-10','DL_IA_max_TW-20','UL_IA_max_TW-20','DL_IA_min_TW-1','UL_IA_min_TW-1','DL_IA_min_TW-3','UL_IA_min_TW-3','DL_IA_min_TW-5','UL_IA_min_TW-5','DL_IA_min_TW-10','UL_IA_min_TW-10','DL_IA_min_TW-20','UL_IA_min_TW-20','DL_Pkt-Size_mean_TW-1','UL_Pkt-Size_mean_TW-1','DL_Pkt-Size_mean_TW-3','UL_Pkt-Size_mean_TW-3','DL_Pkt-Size_mean_TW-5','UL_Pkt-Size_mean_TW-5','DL_Pkt-Size_mean_TW-10','UL_Pkt-Size_mean_TW-10','DL_Pkt-Size_mean_TW-20','UL_Pkt-Size_mean_TW-20','DL_Pkt-Size_median_TW-1','UL_Pkt-Size_median_TW-1','DL_Pkt-Size_median_TW-3','UL_Pkt-Size_median_TW-3','DL_Pkt-Size_median_TW-5','UL_Pkt-Size_median_TW-5','DL_Pkt-Size_median_TW-10','UL_Pkt-Size_median_TW-10','DL_Pkt-Size_median_TW-20','UL_Pkt-Size_median_TW-20','DL_Pkt-Size_std_TW-1','UL_Pkt-Size_std_TW-1','DL_Pkt-Size_std_TW-3','UL_Pkt-Size_std_TW-3','DL_Pkt-Size_std_TW-5','UL_Pkt-Size_std_TW-5','DL_Pkt-Size_std_TW-10','UL_Pkt-Size_std_TW-10','DL_Pkt-Size_std_TW-20','UL_Pkt-Size_std_TW-20','DL_Pkt-Size_max_TW-1','UL_Pkt-Size_max_TW-1','DL_Pkt-Size_max_TW-3','UL_Pkt-Size_max_TW-3','DL_Pkt-Size_max_TW-5','UL_Pkt-Size_max_TW-5','DL_Pkt-Size_max_TW-10','UL_Pkt-Size_max_TW-10','DL_Pkt-Size_max_TW-20','UL_Pkt-Size_max_TW-20','DL_Pkt-Size_min_TW-1','UL_Pkt-Size_min_TW-1','DL_Pkt-Size_min_TW-3','UL_Pkt-Size_min_TW-3','DL_Pkt-Size_min_TW-5','UL_Pkt-Size_min_TW-5','DL_Pkt-Size_min_TW-10','UL_Pkt-Size_min_TW-10','DL_Pkt-Size_min_TW-20','UL_Pkt-Size_min_TW-20','DL_Pkt-Size-gt100_mean_TW-1','UL_Pkt-Size-gt100_mean_TW-1','DL_Pkt-Size-gt100_mean_TW-3','UL_Pkt-Size-gt100_mean_TW-3','DL_Pkt-Size-gt100_mean_TW-5','UL_Pkt-Size-gt100_mean_TW-5','DL_Pkt-Size-gt100_mean_TW-10','UL_Pkt-Size-gt100_mean_TW-10','DL_Pkt-Size-gt100_mean_TW-20','UL_Pkt-Size-gt100_mean_TW-20','DL_Pkt-Size-gt100_median_TW-1','UL_Pkt-Size-gt100_median_TW-1','DL_Pkt-Size-gt100_median_TW-3','UL_Pkt-Size-gt100_median_TW-3','DL_Pkt-Size-gt100_median_TW-5','UL_Pkt-Size-gt100_median_TW-5','DL_Pkt-Size-gt100_median_TW-10','UL_Pkt-Size-gt100_median_TW-10','DL_Pkt-Size-gt100_median_TW-20','UL_Pkt-Size-gt100_median_TW-20','DL_Pkt-Size-gt100_std_TW-1','UL_Pkt-Size-gt100_std_TW-1','DL_Pkt-Size-gt100_std_TW-3','UL_Pkt-Size-gt100_std_TW-3','DL_Pkt-Size-gt100_std_TW-5','UL_Pkt-Size-gt100_std_TW-5','DL_Pkt-Size-gt100_std_TW-10','UL_Pkt-Size-gt100_std_TW-10','DL_Pkt-Size-gt100_std_TW-20','UL_Pkt-Size-gt100_std_TW-20','DL_Pkt-Size-gt100_max_TW-1','UL_Pkt-Size-gt100_max_TW-1','DL_Pkt-Size-gt100_max_TW-3','UL_Pkt-Size-gt100_max_TW-3','DL_Pkt-Size-gt100_max_TW-5','UL_Pkt-Size-gt100_max_TW-5','DL_Pkt-Size-gt100_max_TW-10','UL_Pkt-Size-gt100_max_TW-10','DL_Pkt-Size-gt100_max_TW-20','UL_Pkt-Size-gt100_max_TW-20','DL_Pkt-Size-gt100_min_TW-1','UL_Pkt-Size-gt100_min_TW-1','DL_Pkt-Size-gt100_min_TW-3','UL_Pkt-Size-gt100_min_TW-3','DL_Pkt-Size-gt100_min_TW-5','UL_Pkt-Size-gt100_min_TW-5','DL_Pkt-Size-gt100_min_TW-10','UL_Pkt-Size-gt100_min_TW-10','DL_Pkt-Size-gt100_min_TW-20','UL_Pkt-Size-gt100_min_TW-20'])]"
   ]
  },
  {
   "cell_type": "code",
   "execution_count": 578,
   "metadata": {},
   "outputs": [],
   "source": [
    "F1=T_all.columns"
   ]
  },
  {
   "cell_type": "code",
   "execution_count": 579,
   "metadata": {},
   "outputs": [
    {
     "data": {
      "image/png": "[encoded data removed]",
      "text/plain": [
       "<Figure size 1080x576 with 1 Axes>"
      ]
     },
     "metadata": {},
     "output_type": "display_data"
    }
   ],
   "source": [
    "clf = RandomForestClassifier(bootstrap=True, ccp_alpha=0.0, class_weight='balanced',\n",
    "                       criterion='gini', max_depth=100, max_features=3,\n",
    "                       max_leaf_nodes=None, max_samples=None,\n",
    "                       min_impurity_decrease=0.0, min_impurity_split=None,\n",
    "                       min_samples_leaf=3, min_samples_split=8,\n",
    "                       min_weight_fraction_leaf=0.0, n_estimators=200,\n",
    "                       n_jobs=None, oob_score=False, random_state=42,\n",
    "                       verbose=0, warm_start=False)\n",
    "clf.fit(T_all, y)\n",
    "\n",
    "importances = clf.feature_importances_\n",
    "indices = np.argsort(importances)\n",
    "top_k = 10\n",
    "new_indices = indices[-top_k:]\n",
    "fig = plt.figure(figsize=(15, 8))\n",
    "plt.rcParams[\"axes.grid\"] = False\n",
    "#plt.title('Feature Importances')\n",
    "plt.barh(range(len(new_indices)), importances[new_indices], color='c', align='edge')\n",
    "plt.yticks(range(len(new_indices)), [F1[i] for i in new_indices])\n",
    "#plt.xticks((0, 0.02, 0.07))\n",
    "plt.xlabel('Relative Importance')\n",
    "#plt.show()\n",
    "plt.savefig('TW-top10.pdf')"
   ]
  },
  {
   "cell_type": "code",
   "execution_count": 580,
   "metadata": {},
   "outputs": [
    {
     "data": {
      "text/plain": [
       "['DL_Pkt-gt100_TW-20',\n",
       " 'UL_Th_TW-20',\n",
       " 'UL_Pkt-Size-gt100_median_TW-20',\n",
       " 'UL_Pkt-Size-gt100_std_TW-20',\n",
       " 'UL_Pkt_TW-20',\n",
       " 'DL_IA_mean_TW-20',\n",
       " 'UL_IA_mean_TW-20',\n",
       " 'UL_Pkt-Size-gt100_mean_TW-20',\n",
       " 'UL_Pkt-Size_std_TW-20',\n",
       " 'DL_IA_std_TW-20']"
      ]
     },
     "execution_count": 580,
     "metadata": {},
     "output_type": "execute_result"
    }
   ],
   "source": [
    "L=[]\n",
    "for i in new_indices:\n",
    "    l='%s'%F1[i]\n",
    "    L.append(l)\n",
    "L"
   ]
  },
  {
   "cell_type": "code",
   "execution_count": 581,
   "metadata": {},
   "outputs": [],
   "source": [
    "T_ten=X.loc[:,X.columns.isin(['DL_Pkt-gt100_TW-20',\n",
    " 'UL_Th_TW-20',\n",
    " 'UL_Pkt-Size-gt100_median_TW-20',\n",
    " 'UL_Pkt-Size-gt100_std_TW-20',\n",
    " 'UL_Pkt_TW-20',\n",
    " 'DL_IA_mean_TW-20',\n",
    " 'UL_IA_mean_TW-20',\n",
    " 'UL_Pkt-Size-gt100_mean_TW-20',\n",
    " 'UL_Pkt-Size_std_TW-20',\n",
    " 'DL_IA_std_TW-20'])]"
   ]
  },
  {
   "cell_type": "code",
   "execution_count": 582,
   "metadata": {},
   "outputs": [],
   "source": [
    "T_all_train, T_all_test,T_all_y_train, T_all_y_test = train_test_split( T_all, y, test_size=0.2, random_state=101)\n",
    "T_ten_train, T_ten_test,T_ten_y_train, T_ten_y_test = train_test_split( T_ten, y, test_size=0.2, random_state=101)"
   ]
  },
  {
   "cell_type": "code",
   "execution_count": 583,
   "metadata": {},
   "outputs": [
    {
     "name": "stdout",
     "output_type": "stream",
     "text": [
      "\n",
      "------------------------------------------------------\n",
      "Accuracy of our RF classification  model based on test data is : 0.8726\n",
      "------------------------------------------------------\n",
      "\n",
      "------------------------------------------------------\n",
      "Classification Report\n",
      "\n",
      "------------------------------------------------------\n",
      "               precision    recall  f1-score   support\n",
      "\n",
      "   class Poor       0.96      0.77      0.85      6544\n",
      "class Average       0.95      0.84      0.89      6546\n",
      "   class Good       0.78      0.99      0.87      8033\n",
      "\n",
      "     accuracy                           0.87     21123\n",
      "    macro avg       0.90      0.86      0.87     21123\n",
      " weighted avg       0.89      0.87      0.87     21123\n",
      "\n"
     ]
    }
   ],
   "source": [
    "# load the model from disk\n",
    "model = RandomForestClassifier(bootstrap=True, ccp_alpha=0.0, class_weight='balanced',\n",
    "                       criterion='gini', max_depth=100, max_features=3,\n",
    "                       max_leaf_nodes=None, max_samples=None,\n",
    "                       min_impurity_decrease=0.0, min_impurity_split=None,\n",
    "                       min_samples_leaf=3, min_samples_split=8,\n",
    "                       min_weight_fraction_leaf=0.0, n_estimators=200,\n",
    "                       n_jobs=None, oob_score=False, random_state=42,\n",
    "                       verbose=0, warm_start=False)\n",
    "model.fit(T_all_train, T_all_y_train)\n",
    "\n",
    "\n",
    "y_pred = model.predict(T_all_test)\n",
    "\n",
    "\n",
    "accuracy = metrics.accuracy_score( T_all_y_test, y_pred)\n",
    "print()\n",
    "print('------------------------------------------------------')\n",
    "print (\"Accuracy of our RF classification  model based on test data is : {0:.4f}\".format(accuracy))\n",
    "print('------------------------------------------------------')\n",
    "\n",
    "print()\n",
    "print('------------------------------------------------------')\n",
    "print (\"Classification Report\\n\")\n",
    "print('------------------------------------------------------')\n",
    "\n",
    "print (\"{0}\".format(metrics.classification_report(T_all_y_test.ravel(), y_pred,target_names = ['class Poor', 'class Average', 'class Good'])))"
   ]
  },
  {
   "cell_type": "code",
   "execution_count": null,
   "metadata": {},
   "outputs": [],
   "source": []
  },
  {
   "cell_type": "markdown",
   "metadata": {},
   "source": [
    "# Session window"
   ]
  },
  {
   "cell_type": "code",
   "execution_count": 496,
   "metadata": {},
   "outputs": [],
   "source": [
    "S_all=X.loc[:,X.columns.isin(['DL_Th_S','UL_Th_S','DL_Pkt_S','UL_Pkt_S','DL_Pkt-gt100_S','UL_Pkt-gt100_S','DL_IA_mean_S','UL_IA_mean_S','DL_IA_median_S','UL_IA_median_S','DL_IA_std_S','UL_IA_std_S','DL_IA_max_S','UL_IA_max_S','DL_IA_min_S','UL_IA_min_S','DL_Pkt-Size_mean_S','UL_Pkt-Size_mean_S','UL_Pkt-Size_median_TW-20','DL_Pkt-Size_median_S','UL_Pkt-Size_median_S','DL_Pkt-Size_std_S','UL_Pkt-Size_std_S','DL_Pkt-Size_max_S','UL_Pkt-Size_max_S','DL_Pkt-Size_min_S','UL_Pkt-Size_min_S','DL_Pkt-Size-gt100_mean_S','UL_Pkt-Size-gt100_mean_S','DL_Pkt-Size-gt100_median_S','UL_Pkt-Size-gt100_median_S','DL_Pkt-Size-gt100_std_S','UL_Pkt-Size-gt100_std_S','DL_Pkt-Size-gt100_max_S','UL_Pkt-Size-gt100_max_S','DL_Pkt-Size-gt100_min_S','UL_Pkt-Size-gt100_min_S'])]"
   ]
  },
  {
   "cell_type": "code",
   "execution_count": 497,
   "metadata": {},
   "outputs": [],
   "source": [
    "F2=S_all.columns"
   ]
  },
  {
   "cell_type": "code",
   "execution_count": null,
   "metadata": {},
   "outputs": [],
   "source": []
  },
  {
   "cell_type": "code",
   "execution_count": 498,
   "metadata": {},
   "outputs": [
    {
     "data": {
      "image/png": "[encoded data removed]",
      "text/plain": [
       "<Figure size 1080x720 with 1 Axes>"
      ]
     },
     "metadata": {},
     "output_type": "display_data"
    }
   ],
   "source": [
    "clf = RandomForestClassifier(bootstrap=True, ccp_alpha=0.0, class_weight='balanced',\n",
    "                       criterion='gini', max_depth=100, max_features=3,\n",
    "                       max_leaf_nodes=None, max_samples=None,\n",
    "                       min_impurity_decrease=0.0, min_impurity_split=None,\n",
    "                       min_samples_leaf=3, min_samples_split=8,\n",
    "                       min_weight_fraction_leaf=0.0, n_estimators=200,\n",
    "                       n_jobs=None, oob_score=False, random_state=42,\n",
    "                       verbose=0, warm_start=False)\n",
    "clf.fit(S_all, y)\n",
    "\n",
    "importances = clf.feature_importances_\n",
    "indices = np.argsort(importances)\n",
    "top_k = 10\n",
    "new_indices = indices[-top_k:]\n",
    "fig = plt.figure(figsize=(15, 10))\n",
    "plt.rcParams[\"axes.grid\"] = False\n",
    "#plt.title('Feature Importances')\n",
    "plt.barh(range(len(new_indices)), importances[new_indices], color='c', align='edge')\n",
    "plt.yticks(range(len(new_indices)), [F2[i] for i in new_indices])\n",
    "#plt.xticks((0, 0.02, 0.07))\n",
    "plt.xlabel('Relative Importance')\n",
    "#plt.show()\n",
    "plt.savefig('b.pdf')"
   ]
  },
  {
   "cell_type": "code",
   "execution_count": 500,
   "metadata": {},
   "outputs": [
    {
     "data": {
      "text/plain": [
       "['UL_Pkt-Size_std_S',\n",
       " 'DL_Pkt_S',\n",
       " 'UL_Pkt_S',\n",
       " 'DL_IA_std_S',\n",
       " 'UL_IA_std_S',\n",
       " 'DL_Pkt-gt100_S',\n",
       " 'DL_IA_mean_S',\n",
       " 'UL_IA_mean_S',\n",
       " 'UL_Th_S',\n",
       " 'DL_Th_S']"
      ]
     },
     "execution_count": 500,
     "metadata": {},
     "output_type": "execute_result"
    }
   ],
   "source": [
    "L=[]\n",
    "for i in new_indices:\n",
    "    l='%s'%F2[i]\n",
    "    L.append(l)\n",
    "L"
   ]
  },
  {
   "cell_type": "code",
   "execution_count": null,
   "metadata": {},
   "outputs": [],
   "source": []
  },
  {
   "cell_type": "code",
   "execution_count": 501,
   "metadata": {},
   "outputs": [],
   "source": [
    "S_ten=X.loc[:,X.columns.isin(['UL_Pkt-Size_std_S',\n",
    " 'DL_Pkt_S',\n",
    " 'UL_Pkt_S',\n",
    " 'DL_IA_std_S',\n",
    " 'UL_IA_std_S',\n",
    " 'DL_Pkt-gt100_S',\n",
    " 'DL_IA_mean_S',\n",
    " 'UL_IA_mean_S',\n",
    " 'UL_Th_S',\n",
    " 'DL_Th_S'])]"
   ]
  },
  {
   "cell_type": "code",
   "execution_count": 540,
   "metadata": {},
   "outputs": [],
   "source": [
    "S_all_train, S_all_test,S_all_y_train, S_all_y_test = train_test_split( S_all, y, test_size=0.2, random_state=101)\n",
    "S_ten_train, S_ten_test,S_ten_y_train, S_ten_y_test = train_test_split( S_ten, y, test_size=0.2, random_state=101)"
   ]
  },
  {
   "cell_type": "markdown",
   "metadata": {},
   "source": [
    "# All Window"
   ]
  },
  {
   "cell_type": "code",
   "execution_count": 503,
   "metadata": {},
   "outputs": [],
   "source": [
    "A_all=X.loc[:,X.columns.isin(['DL_Th_CW','UL_Th_CW','DL_Th_TW-1','UL_Th_TW-1','DL_Th_TW-3','UL_Th_TW-3','DL_Th_TW-5','UL_Th_TW-5','DL_Th_TW-10','UL_Th_TW-10','DL_Th_TW-20','UL_Th_TW-20','DL_Th_S','UL_Th_S','DL_Pkt_CW','UL_Pkt_CW','DL_Pkt_TW-1','UL_Pkt_TW-1','DL_Pkt_TW-3','UL_Pkt_TW-3','DL_Pkt_TW-5','UL_Pkt_TW-5','DL_Pkt_TW-10','UL_Pkt_TW-10','DL_Pkt_TW-20','UL_Pkt_TW-20','DL_Pkt_S','UL_Pkt_S','DL_Pkt-gt100_CW', 'UL_Pkt-gt100_CW', 'DL_Pkt-gt100_TW-1','UL_Pkt-gt100_TW-1','DL_Pkt-gt100_TW-3','UL_Pkt-gt100_TW-3','DL_Pkt-gt100_TW-5','UL_Pkt-gt100_TW-5','DL_Pkt-gt100_TW-10','UL_Pkt-gt100_TW-10','DL_Pkt-gt100_TW-20','UL_Pkt-gt100_TW-20','DL_Pkt-gt100_S','UL_Pkt-gt100_S','DL_IA_mean_CW','UL_IA_mean_CW','DL_IA_mean_TW-1','UL_IA_mean_TW-1','DL_IA_mean_TW-3','UL_IA_mean_TW-3','DL_IA_mean_TW-5','UL_IA_mean_TW-5','DL_IA_mean_TW-10','UL_IA_mean_TW-10','DL_IA_mean_TW-20','UL_IA_mean_TW-20','DL_IA_mean_S','UL_IA_mean_S','DL_IA_median_CW','UL_IA_median_CW','DL_IA_median_TW-1','UL_IA_median_TW-1','DL_IA_median_TW-3','UL_IA_median_TW-3','DL_IA_median_TW-5','UL_IA_median_TW-5','DL_IA_median_TW-10','UL_IA_median_TW-10','DL_IA_median_TW-20','UL_IA_median_TW-20','DL_IA_median_S','UL_IA_median_S','DL_IA_std_CW','UL_IA_std_CW','DL_IA_std_TW-1','UL_IA_std_TW-1','DL_IA_std_TW-3','UL_IA_std_TW-3','DL_IA_std_TW-5','UL_IA_std_TW-5','DL_IA_std_TW-10','UL_IA_std_TW-10','DL_IA_std_TW-20','UL_IA_std_TW-20','DL_IA_std_S','UL_IA_std_S',\n",
    "'DL_IA_max_CW','UL_IA_max_CW','DL_IA_max_TW-1','UL_IA_max_TW-1','DL_IA_max_TW-3','UL_IA_max_TW-3','DL_IA_max_TW-5','UL_IA_max_TW-5','DL_IA_max_TW-10','UL_IA_max_TW-10','DL_IA_max_TW-20','UL_IA_max_TW-20','DL_IA_max_S','UL_IA_max_S','DL_IA_min_CW','UL_IA_min_CW','DL_IA_min_TW-1','UL_IA_min_TW-1','DL_IA_min_TW-3','UL_IA_min_TW-3','DL_IA_min_TW-5','UL_IA_min_TW-5','DL_IA_min_TW-10','UL_IA_min_TW-10','DL_IA_min_TW-20','UL_IA_min_TW-20','DL_IA_min_S','UL_IA_min_S','DL_Pkt-Size_mean_CW','UL_Pkt-Size_mean_CW','DL_Pkt-Size_mean_TW-1','UL_Pkt-Size_mean_TW-1','DL_Pkt-Size_mean_TW-3','UL_Pkt-Size_mean_TW-3','DL_Pkt-Size_mean_TW-5','UL_Pkt-Size_mean_TW-5','DL_Pkt-Size_mean_TW-10','UL_Pkt-Size_mean_TW-10','DL_Pkt-Size_mean_TW-20','UL_Pkt-Size_mean_TW-20','DL_Pkt-Size_mean_S','UL_Pkt-Size_mean_S','DL_Pkt-Size_median_CW','UL_Pkt-Size_median_CW','DL_Pkt-Size_median_TW-1','UL_Pkt-Size_median_TW-1','DL_Pkt-Size_median_TW-3','UL_Pkt-Size_median_TW-3','DL_Pkt-Size_median_TW-5','UL_Pkt-Size_median_TW-5','DL_Pkt-Size_median_TW-10','UL_Pkt-Size_median_TW-10','DL_Pkt-Size_median_TW-20','UL_Pkt-Size_median_TW-20','DL_Pkt-Size_median_S','UL_Pkt-Size_median_S',\n",
    "'DL_Pkt-Size_std_CW','UL_Pkt-Size_std_CW','DL_Pkt-Size_std_TW-1','UL_Pkt-Size_std_TW-1','DL_Pkt-Size_std_TW-3','UL_Pkt-Size_std_TW-3','DL_Pkt-Size_std_TW-5','UL_Pkt-Size_std_TW-5','DL_Pkt-Size_std_TW-10','UL_Pkt-Size_std_TW-10','DL_Pkt-Size_std_TW-20','UL_Pkt-Size_std_TW-20','DL_Pkt-Size_std_S','UL_Pkt-Size_std_S','DL_Pkt-Size_max_CW','UL_Pkt-Size_max_CW','DL_Pkt-Size_max_TW-1','UL_Pkt-Size_max_TW-1','DL_Pkt-Size_max_TW-3','UL_Pkt-Size_max_TW-3','DL_Pkt-Size_max_TW-5','UL_Pkt-Size_max_TW-5','DL_Pkt-Size_max_TW-10','UL_Pkt-Size_max_TW-10','DL_Pkt-Size_max_TW-20','UL_Pkt-Size_max_TW-20','DL_Pkt-Size_max_S','UL_Pkt-Size_max_S','DL_Pkt-Size_min_CW','UL_Pkt-Size_min_CW','DL_Pkt-Size_min_TW-1','UL_Pkt-Size_min_TW-1','DL_Pkt-Size_min_TW-3','UL_Pkt-Size_min_TW-3','DL_Pkt-Size_min_TW-5','UL_Pkt-Size_min_TW-5','DL_Pkt-Size_min_TW-10','UL_Pkt-Size_min_TW-10','DL_Pkt-Size_min_TW-20','UL_Pkt-Size_min_TW-20','DL_Pkt-Size_min_S','UL_Pkt-Size_min_S','DL_Pkt-Size-gt100_mean_CW','UL_Pkt-Size-gt100_mean_CW','DL_Pkt-Size-gt100_mean_TW-1','UL_Pkt-Size-gt100_mean_TW-1','DL_Pkt-Size-gt100_mean_TW-3','UL_Pkt-Size-gt100_mean_TW-3','DL_Pkt-Size-gt100_mean_TW-5','UL_Pkt-Size-gt100_mean_TW-5','DL_Pkt-Size-gt100_mean_TW-10','UL_Pkt-Size-gt100_mean_TW-10','DL_Pkt-Size-gt100_mean_TW-20','UL_Pkt-Size-gt100_mean_TW-20','DL_Pkt-Size-gt100_mean_S','UL_Pkt-Size-gt100_mean_S',    \n",
    "'DL_Pkt-Size-gt100_median_CW','UL_Pkt-Size-gt100_median_CW','DL_Pkt-Size-gt100_median_TW-1','UL_Pkt-Size-gt100_median_TW-1','DL_Pkt-Size-gt100_median_TW-3','UL_Pkt-Size-gt100_median_TW-3','DL_Pkt-Size-gt100_median_TW-5','UL_Pkt-Size-gt100_median_TW-5','DL_Pkt-Size-gt100_median_TW-10','UL_Pkt-Size-gt100_median_TW-10','DL_Pkt-Size-gt100_median_TW-20','UL_Pkt-Size-gt100_median_TW-20','DL_Pkt-Size-gt100_median_S','UL_Pkt-Size-gt100_median_S','DL_Pkt-Size-gt100_std_CW','UL_Pkt-Size-gt100_std_CW','DL_Pkt-Size-gt100_std_TW-1','UL_Pkt-Size-gt100_std_TW-1','DL_Pkt-Size-gt100_std_TW-3','UL_Pkt-Size-gt100_std_TW-3','DL_Pkt-Size-gt100_std_TW-5','UL_Pkt-Size-gt100_std_TW-5','DL_Pkt-Size-gt100_std_TW-10','UL_Pkt-Size-gt100_std_TW-10','DL_Pkt-Size-gt100_std_TW-20','UL_Pkt-Size-gt100_std_TW-20','DL_Pkt-Size-gt100_std_S','UL_Pkt-Size-gt100_std_S','DL_Pkt-Size--gt100_max_CW','UL_Pkt-Size-gt100_max_CW','DL_Pkt-Size-gt100_max_TW-1','UL_Pkt-Size-gt100_max_TW-1','DL_Pkt-Size-gt100_max_TW-3','UL_Pkt-Size-gt100_max_TW-3','DL_Pkt-Size-gt100_max_TW-5','UL_Pkt-Size-gt100_max_TW-5','DL_Pkt-Size-gt100_max_TW-10','UL_Pkt-Size-gt100_max_TW-10','DL_Pkt-Size-gt100_max_TW-20','UL_Pkt-Size-gt100_max_TW-20','DL_Pkt-Size-gt100_max_S','UL_Pkt-Size-gt100_max_S','DL_Pkt-Size-gt100_min_CW','UL_Pkt-Size-gt100_min_CW','DL_Pkt-Size-gt100_min_TW-1','UL_Pkt-Size-gt100_min_TW-1','DL_Pkt-Size-gt100_min_TW-3','UL_Pkt-Size-gt100_min_TW-3','DL_Pkt-Size-gt100_min_TW-5','UL_Pkt-Size-gt100_min_TW-5','DL_Pkt-Size-gt100_min_TW-10','UL_Pkt-Size-gt100_min_TW-10','DL_Pkt-Size-gt100_min_TW-20','UL_Pkt-Size-gt100_min_TW-20','DL_Pkt-Size-gt100_min_S','UL_Pkt-Size-gt100_min_S'\n",
    "])]"
   ]
  },
  {
   "cell_type": "code",
   "execution_count": 504,
   "metadata": {},
   "outputs": [],
   "source": [
    "F3=A_all.columns"
   ]
  },
  {
   "cell_type": "code",
   "execution_count": 505,
   "metadata": {},
   "outputs": [
    {
     "data": {
      "image/png": "[encoded data removed]",
      "text/plain": [
       "<Figure size 1080x720 with 1 Axes>"
      ]
     },
     "metadata": {},
     "output_type": "display_data"
    }
   ],
   "source": [
    "clf = RandomForestClassifier(bootstrap=True, ccp_alpha=0.0, class_weight='balanced',\n",
    "                       criterion='gini', max_depth=100, max_features=3,\n",
    "                       max_leaf_nodes=None, max_samples=None,\n",
    "                       min_impurity_decrease=0.0, min_impurity_split=None,\n",
    "                       min_samples_leaf=3, min_samples_split=8,\n",
    "                       min_weight_fraction_leaf=0.0, n_estimators=200,\n",
    "                       n_jobs=None, oob_score=False, random_state=42,\n",
    "                       verbose=0, warm_start=False)\n",
    "clf.fit(A_all, y)\n",
    "\n",
    "importances = clf.feature_importances_\n",
    "indices = np.argsort(importances)\n",
    "top_k = 10\n",
    "new_indices = indices[-top_k:]\n",
    "fig = plt.figure(figsize=(15, 10))\n",
    "plt.rcParams[\"axes.grid\"] = False\n",
    "#plt.title('Feature Importances')\n",
    "plt.barh(range(len(new_indices)), importances[new_indices], color='c', align='edge')\n",
    "plt.yticks(range(len(new_indices)), [F3[i] for i in new_indices])\n",
    "#plt.xticks((0, 0.02, 0.07))\n",
    "plt.xlabel('Relative Importance')\n",
    "#plt.show()\n",
    "plt.savefig('b.pdf')"
   ]
  },
  {
   "cell_type": "code",
   "execution_count": 507,
   "metadata": {},
   "outputs": [
    {
     "data": {
      "text/plain": [
       "['UL_Pkt-Size_std_S',\n",
       " 'UL_Pkt_S',\n",
       " 'DL_IA_std_S',\n",
       " 'DL_Pkt_S',\n",
       " 'DL_IA_mean_S',\n",
       " 'UL_IA_mean_S',\n",
       " 'UL_IA_std_S',\n",
       " 'DL_Pkt-gt100_S',\n",
       " 'UL_Th_S',\n",
       " 'DL_Th_S']"
      ]
     },
     "execution_count": 507,
     "metadata": {},
     "output_type": "execute_result"
    }
   ],
   "source": [
    "L=[]\n",
    "for i in new_indices:\n",
    "    l='%s'%F3[i]\n",
    "    L.append(l)\n",
    "L"
   ]
  },
  {
   "cell_type": "code",
   "execution_count": 512,
   "metadata": {},
   "outputs": [],
   "source": [
    "A_ten=X.loc[:,X.columns.isin(['UL_Pkt-Size_std_S',\n",
    " 'UL_Pkt_S',\n",
    " 'DL_IA_std_S',\n",
    " 'DL_Pkt_S',\n",
    " 'DL_IA_mean_S',\n",
    " 'UL_IA_mean_S',\n",
    " 'UL_IA_std_S',\n",
    " 'DL_Pkt-gt100_S',\n",
    " 'UL_Th_S',\n",
    " 'DL_Th_S'])]"
   ]
  },
  {
   "cell_type": "code",
   "execution_count": 541,
   "metadata": {},
   "outputs": [],
   "source": [
    "A_all_train, A_all_test,A_all_y_train, A_all_y_test = train_test_split( A_all, y, test_size=0.2, random_state=101)\n",
    "A_ten_train, A_ten_test,A_ten_y_train, A_ten_y_test = train_test_split( A_ten, y, test_size=0.2, random_state=101)"
   ]
  },
  {
   "cell_type": "code",
   "execution_count": null,
   "metadata": {},
   "outputs": [],
   "source": [
    "\n"
   ]
  },
  {
   "cell_type": "code",
   "execution_count": 521,
   "metadata": {},
   "outputs": [
    {
     "data": {
      "text/html": [
       "<div>\n",
       "<style scoped>\n",
       "    .dataframe tbody tr th:only-of-type {\n",
       "        vertical-align: middle;\n",
       "    }\n",
       "\n",
       "    .dataframe tbody tr th {\n",
       "        vertical-align: top;\n",
       "    }\n",
       "\n",
       "    .dataframe thead th {\n",
       "        text-align: right;\n",
       "    }\n",
       "</style>\n",
       "<table border=\"1\" class=\"dataframe\">\n",
       "  <thead>\n",
       "    <tr style=\"text-align: right;\">\n",
       "      <th></th>\n",
       "      <th>DL_Th_S</th>\n",
       "      <th>UL_Th_S</th>\n",
       "      <th>DL_Pkt_S</th>\n",
       "      <th>UL_Pkt_S</th>\n",
       "      <th>DL_Pkt-gt100_S</th>\n",
       "      <th>DL_IA_mean_S</th>\n",
       "      <th>UL_IA_mean_S</th>\n",
       "      <th>DL_IA_std_S</th>\n",
       "      <th>UL_IA_std_S</th>\n",
       "      <th>UL_Pkt-Size_std_S</th>\n",
       "    </tr>\n",
       "  </thead>\n",
       "  <tbody>\n",
       "    <tr>\n",
       "      <th>29984</th>\n",
       "      <td>0.000000e+00</td>\n",
       "      <td>0.000000</td>\n",
       "      <td>0</td>\n",
       "      <td>0</td>\n",
       "      <td>0</td>\n",
       "      <td>0.000000e+00</td>\n",
       "      <td>0.000000e+00</td>\n",
       "      <td>0.000000e+00</td>\n",
       "      <td>0.000000e+00</td>\n",
       "      <td>0.000000</td>\n",
       "    </tr>\n",
       "    <tr>\n",
       "      <th>100454</th>\n",
       "      <td>6.698456e+06</td>\n",
       "      <td>100793.365854</td>\n",
       "      <td>4677</td>\n",
       "      <td>9612</td>\n",
       "      <td>4508</td>\n",
       "      <td>3.423054e+05</td>\n",
       "      <td>1.665587e+05</td>\n",
       "      <td>2.340728e+07</td>\n",
       "      <td>1.632870e+07</td>\n",
       "      <td>17.232164</td>\n",
       "    </tr>\n",
       "    <tr>\n",
       "      <th>60531</th>\n",
       "      <td>5.122159e+06</td>\n",
       "      <td>99445.333333</td>\n",
       "      <td>2138</td>\n",
       "      <td>3500</td>\n",
       "      <td>2015</td>\n",
       "      <td>7.487835e+05</td>\n",
       "      <td>4.573997e+05</td>\n",
       "      <td>3.461453e+07</td>\n",
       "      <td>2.705627e+07</td>\n",
       "      <td>34.774879</td>\n",
       "    </tr>\n",
       "    <tr>\n",
       "      <th>41988</th>\n",
       "      <td>5.548152e+06</td>\n",
       "      <td>88532.049383</td>\n",
       "      <td>10607</td>\n",
       "      <td>16748</td>\n",
       "      <td>10215</td>\n",
       "      <td>1.509259e+05</td>\n",
       "      <td>9.558581e+04</td>\n",
       "      <td>1.554317e+07</td>\n",
       "      <td>1.236978e+07</td>\n",
       "      <td>15.378667</td>\n",
       "    </tr>\n",
       "    <tr>\n",
       "      <th>4177</th>\n",
       "      <td>2.005285e+06</td>\n",
       "      <td>77893.052632</td>\n",
       "      <td>2747</td>\n",
       "      <td>3628</td>\n",
       "      <td>2516</td>\n",
       "      <td>5.827504e+05</td>\n",
       "      <td>4.412391e+05</td>\n",
       "      <td>3.053746e+07</td>\n",
       "      <td>2.657344e+07</td>\n",
       "      <td>61.087432</td>\n",
       "    </tr>\n",
       "    <tr>\n",
       "      <th>...</th>\n",
       "      <td>...</td>\n",
       "      <td>...</td>\n",
       "      <td>...</td>\n",
       "      <td>...</td>\n",
       "      <td>...</td>\n",
       "      <td>...</td>\n",
       "      <td>...</td>\n",
       "      <td>...</td>\n",
       "      <td>...</td>\n",
       "      <td>...</td>\n",
       "    </tr>\n",
       "    <tr>\n",
       "      <th>5742</th>\n",
       "      <td>1.570715e+05</td>\n",
       "      <td>14481.311475</td>\n",
       "      <td>941</td>\n",
       "      <td>1117</td>\n",
       "      <td>791</td>\n",
       "      <td>1.701188e+06</td>\n",
       "      <td>1.433140e+06</td>\n",
       "      <td>5.215743e+07</td>\n",
       "      <td>4.787632e+07</td>\n",
       "      <td>77.113301</td>\n",
       "    </tr>\n",
       "    <tr>\n",
       "      <th>74129</th>\n",
       "      <td>0.000000e+00</td>\n",
       "      <td>0.000000</td>\n",
       "      <td>0</td>\n",
       "      <td>0</td>\n",
       "      <td>0</td>\n",
       "      <td>0.000000e+00</td>\n",
       "      <td>0.000000e+00</td>\n",
       "      <td>0.000000e+00</td>\n",
       "      <td>0.000000e+00</td>\n",
       "      <td>0.000000</td>\n",
       "    </tr>\n",
       "    <tr>\n",
       "      <th>83929</th>\n",
       "      <td>2.695599e+06</td>\n",
       "      <td>66977.523810</td>\n",
       "      <td>6885</td>\n",
       "      <td>10779</td>\n",
       "      <td>6096</td>\n",
       "      <td>2.325251e+05</td>\n",
       "      <td>1.485236e+05</td>\n",
       "      <td>1.929258e+07</td>\n",
       "      <td>1.541929e+07</td>\n",
       "      <td>47.327923</td>\n",
       "    </tr>\n",
       "    <tr>\n",
       "      <th>84116</th>\n",
       "      <td>5.436305e+06</td>\n",
       "      <td>97815.298246</td>\n",
       "      <td>8247</td>\n",
       "      <td>12400</td>\n",
       "      <td>7766</td>\n",
       "      <td>1.941233e+05</td>\n",
       "      <td>1.291076e+05</td>\n",
       "      <td>1.762785e+07</td>\n",
       "      <td>1.437624e+07</td>\n",
       "      <td>27.148751</td>\n",
       "    </tr>\n",
       "    <tr>\n",
       "      <th>46266</th>\n",
       "      <td>1.261505e+06</td>\n",
       "      <td>37276.380952</td>\n",
       "      <td>2595</td>\n",
       "      <td>3492</td>\n",
       "      <td>2487</td>\n",
       "      <td>6.169085e+05</td>\n",
       "      <td>4.584414e+05</td>\n",
       "      <td>3.141997e+07</td>\n",
       "      <td>2.708687e+07</td>\n",
       "      <td>24.066243</td>\n",
       "    </tr>\n",
       "  </tbody>\n",
       "</table>\n",
       "<p>84490 rows × 10 columns</p>\n",
       "</div>"
      ],
      "text/plain": [
       "             DL_Th_S        UL_Th_S  DL_Pkt_S  UL_Pkt_S  DL_Pkt-gt100_S  \\\n",
       "29984   0.000000e+00       0.000000         0         0               0   \n",
       "100454  6.698456e+06  100793.365854      4677      9612            4508   \n",
       "60531   5.122159e+06   99445.333333      2138      3500            2015   \n",
       "41988   5.548152e+06   88532.049383     10607     16748           10215   \n",
       "4177    2.005285e+06   77893.052632      2747      3628            2516   \n",
       "...              ...            ...       ...       ...             ...   \n",
       "5742    1.570715e+05   14481.311475       941      1117             791   \n",
       "74129   0.000000e+00       0.000000         0         0               0   \n",
       "83929   2.695599e+06   66977.523810      6885     10779            6096   \n",
       "84116   5.436305e+06   97815.298246      8247     12400            7766   \n",
       "46266   1.261505e+06   37276.380952      2595      3492            2487   \n",
       "\n",
       "        DL_IA_mean_S  UL_IA_mean_S   DL_IA_std_S   UL_IA_std_S  \\\n",
       "29984   0.000000e+00  0.000000e+00  0.000000e+00  0.000000e+00   \n",
       "100454  3.423054e+05  1.665587e+05  2.340728e+07  1.632870e+07   \n",
       "60531   7.487835e+05  4.573997e+05  3.461453e+07  2.705627e+07   \n",
       "41988   1.509259e+05  9.558581e+04  1.554317e+07  1.236978e+07   \n",
       "4177    5.827504e+05  4.412391e+05  3.053746e+07  2.657344e+07   \n",
       "...              ...           ...           ...           ...   \n",
       "5742    1.701188e+06  1.433140e+06  5.215743e+07  4.787632e+07   \n",
       "74129   0.000000e+00  0.000000e+00  0.000000e+00  0.000000e+00   \n",
       "83929   2.325251e+05  1.485236e+05  1.929258e+07  1.541929e+07   \n",
       "84116   1.941233e+05  1.291076e+05  1.762785e+07  1.437624e+07   \n",
       "46266   6.169085e+05  4.584414e+05  3.141997e+07  2.708687e+07   \n",
       "\n",
       "        UL_Pkt-Size_std_S  \n",
       "29984            0.000000  \n",
       "100454          17.232164  \n",
       "60531           34.774879  \n",
       "41988           15.378667  \n",
       "4177            61.087432  \n",
       "...                   ...  \n",
       "5742            77.113301  \n",
       "74129            0.000000  \n",
       "83929           47.327923  \n",
       "84116           27.148751  \n",
       "46266           24.066243  \n",
       "\n",
       "[84490 rows x 10 columns]"
      ]
     },
     "execution_count": 521,
     "metadata": {},
     "output_type": "execute_result"
    }
   ],
   "source": [
    "fig = plt.figure(figsize=(8,6))\n",
    "\n",
    "for i in result_table.index:\n",
    "    plt.plot(result_table.loc[i]['fpr'], \n",
    "             result_table.loc[i]['tpr'], \n",
    "             label=\"{}, AUC={:.3f}\".format(i, result_table.loc[i]['auc']))\n",
    "    \n",
    "plt.plot([0,1], [0,1], color='orange', linestyle='--')\n",
    "\n",
    "plt.xticks(np.arange(0.0, 1.1, step=0.1))\n",
    "plt.xlabel(\"Flase Positive Rate\", fontsize=15)\n",
    "\n",
    "plt.yticks(np.arange(0.0, 1.1, step=0.1))\n",
    "plt.ylabel(\"True Positive Rate\", fontsize=15)\n",
    "\n",
    "plt.title('ROC Curve Analysis', fontweight='bold', fontsize=15)\n",
    "plt.legend(prop={'size':13}, loc='lower right')\n",
    "\n",
    "plt.show()"
   ]
  }
 ],
 "metadata": {
  "kernelspec": {
   "display_name": "Python 3",
   "language": "python",
   "name": "python3"
  },
  "language_info": {
   "codemirror_mode": {
    "name": "ipython",
    "version": 3
   },
   "file_extension": ".py",
   "mimetype": "text/x-python",
   "name": "python",
   "nbconvert_exporter": "python",
   "pygments_lexer": "ipython3",
   "version": "3.7.7"
  }
 },
 "nbformat": 4,
 "nbformat_minor": 4
}
