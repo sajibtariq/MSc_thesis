{
 "cells": [
  {
   "cell_type": "code",
   "execution_count": 1,
   "metadata": {},
   "outputs": [
    {
     "name": "stderr",
     "output_type": "stream",
     "text": [
      "Using TensorFlow backend.\n"
     ]
    }
   ],
   "source": [
    "import os\n",
    "import pandas as pd\n",
    "import numpy as np\n",
    "import matplotlib.pyplot as plt\n",
    "import seaborn as sns\n",
    "from sklearn.model_selection import train_test_split\n",
    "from sklearn import metrics\n",
    "from sklearn.metrics import confusion_matrix\n",
    "from sklearn.metrics import classification_report\n",
    "from imblearn.over_sampling import SMOTE \n",
    "from sklearn import model_selection\n",
    "from sklearn.linear_model import LogisticRegression\n",
    "from sklearn.tree import DecisionTreeClassifier\n",
    "from sklearn.ensemble import RandomForestClassifier\n",
    "from sklearn.neighbors import KNeighborsClassifier\n",
    "from sklearn.discriminant_analysis import LinearDiscriminantAnalysis\n",
    "from sklearn.naive_bayes import GaussianNB\n",
    "from sklearn.svm import SVC\n",
    "from sklearn.neural_network import MLPClassifier\n",
    "from sklearn.model_selection import GridSearchCV\n",
    "import warnings\n",
    "warnings.simplefilter(action='ignore', category=Warning)\n",
    "%matplotlib inline"
   ]
  },
  {
   "cell_type": "markdown",
   "metadata": {},
   "source": [
    "# Dataset\n"
   ]
  },
  {
   "cell_type": "code",
   "execution_count": 2,
   "metadata": {},
   "outputs": [],
   "source": [
    "d = pd.read_csv('/media/loop/Backup/vm/tos1/tcp/online/tcp.csv')\n",
    "d = d[(d[['Resolution(w)']] != 0).all(axis=1)]\n",
    "d.isnull().values.any()\n",
    "# drop rows with missing values\n",
    "d.dropna(inplace=True)\n",
    "X=d.iloc[:, 13:265] \n",
    "#Y=d.iloc[:,11]\n",
    "Y=d.loc[:,d.columns.isin(['Bitrate'])]"
   ]
  },
  {
   "cell_type": "markdown",
   "metadata": {},
   "source": [
    "# Features"
   ]
  },
  {
   "cell_type": "code",
   "execution_count": 3,
   "metadata": {},
   "outputs": [],
   "source": [
    "X.columns=(['DL_Th_CW','UL_Th_CW','DL_Th_TW-1','UL_Th_TW-1','DL_Th_TW-3','UL_Th_TW-3','DL_Th_TW-5','UL_Th_TW-5','DL_Th_TW-10','UL_Th_TW-10','DL_Th_TW-20','UL_Th_TW-20','DL_Th_SW','UL_Th_SW','DL_Pkt_CW','UL_Pkt_CW','DL_Pkt_TW-1','UL_Pkt_TW-1','DL_Pkt_TW-3','UL_Pkt_TW-3','DL_Pkt_TW-5','UL_Pkt_TW-5','DL_Pkt_TW-10','UL_Pkt_TW-10','DL_Pkt_TW-20','UL_Pkt_TW-20','DL_Pkt_SW','UL_Pkt_SW','DL_Pkt-gt100_CW', 'UL_Pkt-gt100_CW', 'DL_Pkt-gt100_TW-1','UL_Pkt-gt100_TW-1','DL_Pkt-gt100_TW-3','UL_Pkt-gt100_TW-3','DL_Pkt-gt100_TW-5','UL_Pkt-gt100_TW-5','DL_Pkt-gt100_TW-10','UL_Pkt-gt100_TW-10','DL_Pkt-gt100_TW-20','UL_Pkt-gt100_TW-20','DL_Pkt-gt100_SW','UL_Pkt-gt100_SW','DL_IA_mean_CW','UL_IA_mean_CW','DL_IA_mean_TW-1','UL_IA_mean_TW-1','DL_IA_mean_TW-3','UL_IA_mean_TW-3','DL_IA_mean_TW-5','UL_IA_mean_TW-5','DL_IA_mean_TW-10','UL_IA_mean_TW-10','DL_IA_mean_TW-20','UL_IA_mean_TW-20','DL_IA_mean_SW','UL_IA_mean_SW','DL_IA_median_CW','UL_IA_median_CW','DL_IA_median_TW-1','UL_IA_median_TW-1','DL_IA_median_TW-3','UL_IA_median_TW-3','DL_IA_median_TW-5','UL_IA_median_TW-5','DL_IA_median_TW-10','UL_IA_median_TW-10','DL_IA_median_TW-20','UL_IA_median_TW-20','DL_IA_median_SW','UL_IA_median_SW','DL_IA_std_CW','UL_IA_std_CW','DL_IA_std_TW-1','UL_IA_std_TW-1','DL_IA_std_TW-3','UL_IA_std_TW-3','DL_IA_std_TW-5','UL_IA_std_TW-5','DL_IA_std_TW-10','UL_IA_std_TW-10','DL_IA_std_TW-20','UL_IA_std_TW-20','DL_IA_std_SW','UL_IA_std_SW',\n",
    "'DL_IA_max_CW','UL_IA_max_CW','DL_IA_max_TW-1','UL_IA_max_TW-1','DL_IA_max_TW-3','UL_IA_max_TW-3','DL_IA_max_TW-5','UL_IA_max_TW-5','DL_IA_max_TW-10','UL_IA_max_TW-10','DL_IA_max_TW-20','UL_IA_max_TW-20','DL_IA_max_SW','UL_IA_max_SW','DL_IA_min_CW','UL_IA_min_CW','DL_IA_min_TW-1','UL_IA_min_TW-1','DL_IA_min_TW-3','UL_IA_min_TW-3','DL_IA_min_TW-5','UL_IA_min_TW-5','DL_IA_min_TW-10','UL_IA_min_TW-10','DL_IA_min_TW-20','UL_IA_min_TW-20','DL_IA_min_SW','UL_IA_min_SW','DL_Pkt-Size_mean_CW','UL_Pkt-Size_mean_CW','DL_Pkt-Size_mean_TW-1','UL_Pkt-Size_mean_TW-1','DL_Pkt-Size_mean_TW-3','UL_Pkt-Size_mean_TW-3','DL_Pkt-Size_mean_TW-5','UL_Pkt-Size_mean_TW-5','DL_Pkt-Size_mean_TW-10','UL_Pkt-Size_mean_TW-10','DL_Pkt-Size_mean_TW-20','UL_Pkt-Size_mean_TW-20','DL_Pkt-Size_mean_SW','UL_Pkt-Size_mean_SW','DL_Pkt-Size_median_CW','UL_Pkt-Size_median_CW','DL_Pkt-Size_median_TW-1','UL_Pkt-Size_median_TW-1','DL_Pkt-Size_median_TW-3','UL_Pkt-Size_median_TW-3','DL_Pkt-Size_median_TW-5','UL_Pkt-Size_median_TW-5','DL_Pkt-Size_median_TW-10','UL_Pkt-Size_median_TW-10','DL_Pkt-Size_median_TW-20','UL_Pkt-Size_median_TW-20','DL_Pkt-Size_median_SW','UL_Pkt-Size_median_SW',\n",
    "'DL_Pkt-Size_std_CW','UL_Pkt-Size_std_CW','DL_Pkt-Size_std_TW-1','UL_Pkt-Size_std_TW-1','DL_Pkt-Size_std_TW-3','UL_Pkt-Size_std_TW-3','DL_Pkt-Size_std_TW-5','UL_Pkt-Size_std_TW-5','DL_Pkt-Size_std_TW-10','UL_Pkt-Size_std_TW-10','DL_Pkt-Size_std_TW-20','UL_Pkt-Size_std_TW-20','DL_Pkt-Size_std_SW','UL_Pkt-Size_std_SW','DL_Pkt-Size_max_CW','UL_Pkt-Size_max_CW','DL_Pkt-Size_max_TW-1','UL_Pkt-Size_max_TW-1','DL_Pkt-Size_max_TW-3','UL_Pkt-Size_max_TW-3','DL_Pkt-Size_max_TW-5','UL_Pkt-Size_max_TW-5','DL_Pkt-Size_max_TW-10','UL_Pkt-Size_max_TW-10','DL_Pkt-Size_max_TW-20','UL_Pkt-Size_max_TW-20','DL_Pkt-Size_max_SW','UL_Pkt-Size_max_SW','DL_Pkt-Size_min_CW','UL_Pkt-Size_min_CW','DL_Pkt-Size_min_TW-1','UL_Pkt-Size_min_TW-1','DL_Pkt-Size_min_TW-3','UL_Pkt-Size_min_TW-3','DL_Pkt-Size_min_TW-5','UL_Pkt-Size_min_TW-5','DL_Pkt-Size_min_TW-10','UL_Pkt-Size_min_TW-10','DL_Pkt-Size_min_TW-20','UL_Pkt-Size_min_TW-20','DL_Pkt-Size_min_SW','UL_Pkt-Size_min_SW','DL_Pkt-Size-gt100_mean_CW','UL_Pkt-Size-gt100_mean_CW','DL_Pkt-Size-gt100_mean_TW-1','UL_Pkt-Size-gt100_mean_TW-1','DL_Pkt-Size-gt100_mean_TW-3','UL_Pkt-Size-gt100_mean_TW-3','DL_Pkt-Size-gt100_mean_TW-5','UL_Pkt-Size-gt100_mean_TW-5','DL_Pkt-Size-gt100_mean_TW-10','UL_Pkt-Size-gt100_mean_TW-10','DL_Pkt-Size-gt100_mean_TW-20','UL_Pkt-Size-gt100_mean_TW-20','DL_Pkt-Size-gt100_mean_SW','UL_Pkt-Size-gt100_mean_SW',    \n",
    "'DL_Pkt-Size-gt100_median_CW','UL_Pkt-Size-gt100_median_CW','DL_Pkt-Size-gt100_median_TW-1','UL_Pkt-Size-gt100_median_TW-1','DL_Pkt-Size-gt100_median_TW-3','UL_Pkt-Size-gt100_median_TW-3','DL_Pkt-Size-gt100_median_TW-5','UL_Pkt-Size-gt100_median_TW-5','DL_Pkt-Size-gt100_median_TW-10','UL_Pkt-Size-gt100_median_TW-10','DL_Pkt-Size-gt100_median_TW-20','UL_Pkt-Size-gt100_median_TW-20','DL_Pkt-Size-gt100_median_SW','UL_Pkt-Size-gt100_median_SW','DL_Pkt-Size-gt100_std_CW','UL_Pkt-Size-gt100_std_CW','DL_Pkt-Size-gt100_std_TW-1','UL_Pkt-Size-gt100_std_TW-1','DL_Pkt-Size-gt100_std_TW-3','UL_Pkt-Size-gt100_std_TW-3','DL_Pkt-Size-gt100_std_TW-5','UL_Pkt-Size-gt100_std_TW-5','DL_Pkt-Size-gt100_std_TW-10','UL_Pkt-Size-gt100_std_TW-10','DL_Pkt-Size-gt100_std_TW-20','UL_Pkt-Size-gt100_std_TW-20','DL_Pkt-Size-gt100_std_SW','UL_Pkt-Size-gt100_std_SW','DL_Pkt-Size--gt100_max_CW','UL_Pkt-Size-gt100_max_CW','DL_Pkt-Size-gt100_max_TW-1','UL_Pkt-Size-gt100_max_TW-1','DL_Pkt-Size-gt100_max_TW-3','UL_Pkt-Size-gt100_max_TW-3','DL_Pkt-Size-gt100_max_TW-5','UL_Pkt-Size-gt100_max_TW-5','DL_Pkt-Size-gt100_max_TW-10','UL_Pkt-Size-gt100_max_TW-10','DL_Pkt-Size-gt100_max_TW-20','UL_Pkt-Size-gt100_max_TW-20','DL_Pkt-Size-gt100_max_SW','UL_Pkt-Size-gt100_max_SW','DL_Pkt-Size-gt100_min_CW','UL_Pkt-Size-gt100_min_CW','DL_Pkt-Size-gt100_min_TW-1','UL_Pkt-Size-gt100_min_TW-1','DL_Pkt-Size-gt100_min_TW-3','UL_Pkt-Size-gt100_min_TW-3','DL_Pkt-Size-gt100_min_TW-5','UL_Pkt-Size-gt100_min_TW-5','DL_Pkt-Size-gt100_min_TW-10','UL_Pkt-Size-gt100_min_TW-10','DL_Pkt-Size-gt100_min_TW-20','UL_Pkt-Size-gt100_min_TW-20','DL_Pkt-Size-gt100_min_SW','UL_Pkt-Size-gt100_min_SW'])"
   ]
  },
  {
   "cell_type": "markdown",
   "metadata": {},
   "source": [
    "# Target"
   ]
  },
  {
   "cell_type": "code",
   "execution_count": 4,
   "metadata": {},
   "outputs": [],
   "source": [
    "conditions = [\n",
    "    (Y[['Bitrate']]==230),#low  \n",
    "    (Y[['Bitrate']]==375),   #low\n",
    "    (Y[['Bitrate']]==560),   #moderate\n",
    "    (Y[['Bitrate']]==750),   #moderate\n",
    "    (Y[['Bitrate']]==1050),   #moderate\n",
    "    (Y[['Bitrate']]==1280),  #moderate\n",
    "    (Y[['Bitrate']]==1750),  #moderate\n",
    "    \n",
    "    (Y[['Bitrate']]==2350),   #high\n",
    "    (Y[['Bitrate']]==3000),   #high\n",
    "    (Y[['Bitrate']]==3850),   #high\n",
    "    (Y[['Bitrate']]==4300),  #high\n",
    "    (Y[['Bitrate']]==15000), # high\n",
    "    ]\n",
    "\n",
    "choices = ['Low', 'Low', 'Moderate','Moderate', 'Moderate', 'Moderate','Moderate', 'High','High','High','High','High']\n",
    "Y['birtate1'] = np.select(conditions, choices, default='None')\n",
    "#yy=Y['quality']"
   ]
  },
  {
   "cell_type": "code",
   "execution_count": 5,
   "metadata": {},
   "outputs": [],
   "source": [
    "conditions = [\n",
    "    (Y[['Bitrate']]==230),#low  \n",
    "    (Y[['Bitrate']]==375),   #low\n",
    "    (Y[['Bitrate']]==560),   #moderate\n",
    "    (Y[['Bitrate']]==750),   #moderate\n",
    "    (Y[['Bitrate']]==1050),   #moderate\n",
    "    (Y[['Bitrate']]==1280),  #moderate\n",
    "    (Y[['Bitrate']]==1750),  #moderate\n",
    "    \n",
    "    (Y[['Bitrate']]==2350),   #high\n",
    "    (Y[['Bitrate']]==3000),   #high\n",
    "    (Y[['Bitrate']]==3850),   #high\n",
    "    (Y[['Bitrate']]==4300),  #high\n",
    "    (Y[['Bitrate']]==15000), # high\n",
    "    ]\n",
    "\n",
    "choices = [0,0,1,1,1,1,1,2,2,2,2,2]\n",
    "Y['birtate2'] = np.select(conditions, choices, default='None')\n",
    "yy=Y['birtate2']"
   ]
  },
  {
   "cell_type": "code",
   "execution_count": 8,
   "metadata": {},
   "outputs": [
    {
     "data": {
      "text/html": [
       "<div>\n",
       "<style scoped>\n",
       "    .dataframe tbody tr th:only-of-type {\n",
       "        vertical-align: middle;\n",
       "    }\n",
       "\n",
       "    .dataframe tbody tr th {\n",
       "        vertical-align: top;\n",
       "    }\n",
       "\n",
       "    .dataframe thead th {\n",
       "        text-align: right;\n",
       "    }\n",
       "</style>\n",
       "<table border=\"1\" class=\"dataframe\">\n",
       "  <thead>\n",
       "    <tr style=\"text-align: right;\">\n",
       "      <th></th>\n",
       "      <th>Bitrate</th>\n",
       "      <th>birtate1</th>\n",
       "      <th>birtate2</th>\n",
       "    </tr>\n",
       "  </thead>\n",
       "  <tbody>\n",
       "    <tr>\n",
       "      <th>1</th>\n",
       "      <td>236</td>\n",
       "      <td>None</td>\n",
       "      <td>None</td>\n",
       "    </tr>\n",
       "    <tr>\n",
       "      <th>2</th>\n",
       "      <td>236</td>\n",
       "      <td>None</td>\n",
       "      <td>None</td>\n",
       "    </tr>\n",
       "    <tr>\n",
       "      <th>3</th>\n",
       "      <td>236</td>\n",
       "      <td>None</td>\n",
       "      <td>None</td>\n",
       "    </tr>\n",
       "    <tr>\n",
       "      <th>4</th>\n",
       "      <td>236</td>\n",
       "      <td>None</td>\n",
       "      <td>None</td>\n",
       "    </tr>\n",
       "    <tr>\n",
       "      <th>5</th>\n",
       "      <td>236</td>\n",
       "      <td>None</td>\n",
       "      <td>None</td>\n",
       "    </tr>\n",
       "    <tr>\n",
       "      <th>...</th>\n",
       "      <td>...</td>\n",
       "      <td>...</td>\n",
       "      <td>...</td>\n",
       "    </tr>\n",
       "    <tr>\n",
       "      <th>106418</th>\n",
       "      <td>749</td>\n",
       "      <td>None</td>\n",
       "      <td>None</td>\n",
       "    </tr>\n",
       "    <tr>\n",
       "      <th>106419</th>\n",
       "      <td>749</td>\n",
       "      <td>None</td>\n",
       "      <td>None</td>\n",
       "    </tr>\n",
       "    <tr>\n",
       "      <th>106420</th>\n",
       "      <td>749</td>\n",
       "      <td>None</td>\n",
       "      <td>None</td>\n",
       "    </tr>\n",
       "    <tr>\n",
       "      <th>106421</th>\n",
       "      <td>749</td>\n",
       "      <td>None</td>\n",
       "      <td>None</td>\n",
       "    </tr>\n",
       "    <tr>\n",
       "      <th>106422</th>\n",
       "      <td>749</td>\n",
       "      <td>None</td>\n",
       "      <td>None</td>\n",
       "    </tr>\n",
       "  </tbody>\n",
       "</table>\n",
       "<p>105613 rows × 3 columns</p>\n",
       "</div>"
      ],
      "text/plain": [
       "        Bitrate birtate1 birtate2\n",
       "1           236     None     None\n",
       "2           236     None     None\n",
       "3           236     None     None\n",
       "4           236     None     None\n",
       "5           236     None     None\n",
       "...         ...      ...      ...\n",
       "106418      749     None     None\n",
       "106419      749     None     None\n",
       "106420      749     None     None\n",
       "106421      749     None     None\n",
       "106422      749     None     None\n",
       "\n",
       "[105613 rows x 3 columns]"
      ]
     },
     "execution_count": 8,
     "metadata": {},
     "output_type": "execute_result"
    }
   ],
   "source": [
    "Y"
   ]
  },
  {
   "cell_type": "markdown",
   "metadata": {},
   "source": [
    "# Distribution of Target"
   ]
  },
  {
   "cell_type": "code",
   "execution_count": 7,
   "metadata": {},
   "outputs": [
    {
     "ename": "ValueError",
     "evalue": "Could not interpret input 'bitrate2'",
     "output_type": "error",
     "traceback": [
      "\u001b[0;31m---------------------------------------------------------------------------\u001b[0m",
      "\u001b[0;31mValueError\u001b[0m                                Traceback (most recent call last)",
      "\u001b[0;32m<ipython-input-7-f27a6780fb9a>\u001b[0m in \u001b[0;36m<module>\u001b[0;34m\u001b[0m\n\u001b[1;32m      6\u001b[0m \u001b[0mplt\u001b[0m\u001b[0;34m.\u001b[0m\u001b[0mfigure\u001b[0m\u001b[0;34m(\u001b[0m\u001b[0mfigsize\u001b[0m\u001b[0;34m=\u001b[0m\u001b[0;34m(\u001b[0m\u001b[0;36m10\u001b[0m\u001b[0;34m,\u001b[0m \u001b[0;36m8\u001b[0m\u001b[0;34m)\u001b[0m\u001b[0;34m)\u001b[0m\u001b[0;34m\u001b[0m\u001b[0;34m\u001b[0m\u001b[0m\n\u001b[1;32m      7\u001b[0m \u001b[0;31m#df = pd.DataFrame(np.array([['a'], ['a'], ['b']]), columns=['current_status'])\u001b[0m\u001b[0;34m\u001b[0m\u001b[0;34m\u001b[0m\u001b[0;34m\u001b[0m\u001b[0m\n\u001b[0;32m----> 8\u001b[0;31m \u001b[0max\u001b[0m \u001b[0;34m=\u001b[0m \u001b[0msns\u001b[0m\u001b[0;34m.\u001b[0m\u001b[0mcountplot\u001b[0m\u001b[0;34m(\u001b[0m\u001b[0my\u001b[0m\u001b[0;34m=\u001b[0m\u001b[0;34m'bitrate2'\u001b[0m\u001b[0;34m,\u001b[0m \u001b[0mdata\u001b[0m\u001b[0;34m=\u001b[0m\u001b[0mY\u001b[0m\u001b[0;34m,\u001b[0m\u001b[0mpalette\u001b[0m \u001b[0;34m=\u001b[0m \u001b[0;34m\"tab20\"\u001b[0m\u001b[0;34m)\u001b[0m\u001b[0;34m\u001b[0m\u001b[0;34m\u001b[0m\u001b[0m\n\u001b[0m\u001b[1;32m      9\u001b[0m \u001b[0max\u001b[0m\u001b[0;34m.\u001b[0m\u001b[0mgrid\u001b[0m\u001b[0;34m(\u001b[0m\u001b[0;32mFalse\u001b[0m\u001b[0;34m)\u001b[0m\u001b[0;34m\u001b[0m\u001b[0;34m\u001b[0m\u001b[0m\n\u001b[1;32m     10\u001b[0m \u001b[0mplt\u001b[0m\u001b[0;34m.\u001b[0m\u001b[0mtitle\u001b[0m\u001b[0;34m(\u001b[0m\u001b[0;34m'Distribution of  Resolutions'\u001b[0m\u001b[0;34m,\u001b[0m\u001b[0mweight\u001b[0m\u001b[0;34m=\u001b[0m\u001b[0;34m\"bold\"\u001b[0m\u001b[0;34m)\u001b[0m\u001b[0;34m\u001b[0m\u001b[0;34m\u001b[0m\u001b[0m\n",
      "\u001b[0;32m~/anaconda3/lib/python3.7/site-packages/seaborn/categorical.py\u001b[0m in \u001b[0;36mcountplot\u001b[0;34m(x, y, hue, data, order, hue_order, orient, color, palette, saturation, dodge, ax, **kwargs)\u001b[0m\n\u001b[1;32m   3550\u001b[0m                           \u001b[0mestimator\u001b[0m\u001b[0;34m,\u001b[0m \u001b[0mci\u001b[0m\u001b[0;34m,\u001b[0m \u001b[0mn_boot\u001b[0m\u001b[0;34m,\u001b[0m \u001b[0munits\u001b[0m\u001b[0;34m,\u001b[0m \u001b[0mseed\u001b[0m\u001b[0;34m,\u001b[0m\u001b[0;34m\u001b[0m\u001b[0;34m\u001b[0m\u001b[0m\n\u001b[1;32m   3551\u001b[0m                           \u001b[0morient\u001b[0m\u001b[0;34m,\u001b[0m \u001b[0mcolor\u001b[0m\u001b[0;34m,\u001b[0m \u001b[0mpalette\u001b[0m\u001b[0;34m,\u001b[0m \u001b[0msaturation\u001b[0m\u001b[0;34m,\u001b[0m\u001b[0;34m\u001b[0m\u001b[0;34m\u001b[0m\u001b[0m\n\u001b[0;32m-> 3552\u001b[0;31m                           errcolor, errwidth, capsize, dodge)\n\u001b[0m\u001b[1;32m   3553\u001b[0m \u001b[0;34m\u001b[0m\u001b[0m\n\u001b[1;32m   3554\u001b[0m     \u001b[0mplotter\u001b[0m\u001b[0;34m.\u001b[0m\u001b[0mvalue_label\u001b[0m \u001b[0;34m=\u001b[0m \u001b[0;34m\"count\"\u001b[0m\u001b[0;34m\u001b[0m\u001b[0;34m\u001b[0m\u001b[0m\n",
      "\u001b[0;32m~/anaconda3/lib/python3.7/site-packages/seaborn/categorical.py\u001b[0m in \u001b[0;36m__init__\u001b[0;34m(self, x, y, hue, data, order, hue_order, estimator, ci, n_boot, units, seed, orient, color, palette, saturation, errcolor, errwidth, capsize, dodge)\u001b[0m\n\u001b[1;32m   1601\u001b[0m         \u001b[0;34m\"\"\"Initialize the plotter.\"\"\"\u001b[0m\u001b[0;34m\u001b[0m\u001b[0;34m\u001b[0m\u001b[0m\n\u001b[1;32m   1602\u001b[0m         self.establish_variables(x, y, hue, data, orient,\n\u001b[0;32m-> 1603\u001b[0;31m                                  order, hue_order, units)\n\u001b[0m\u001b[1;32m   1604\u001b[0m         \u001b[0mself\u001b[0m\u001b[0;34m.\u001b[0m\u001b[0mestablish_colors\u001b[0m\u001b[0;34m(\u001b[0m\u001b[0mcolor\u001b[0m\u001b[0;34m,\u001b[0m \u001b[0mpalette\u001b[0m\u001b[0;34m,\u001b[0m \u001b[0msaturation\u001b[0m\u001b[0;34m)\u001b[0m\u001b[0;34m\u001b[0m\u001b[0;34m\u001b[0m\u001b[0m\n\u001b[1;32m   1605\u001b[0m         \u001b[0mself\u001b[0m\u001b[0;34m.\u001b[0m\u001b[0mestimate_statistic\u001b[0m\u001b[0;34m(\u001b[0m\u001b[0mestimator\u001b[0m\u001b[0;34m,\u001b[0m \u001b[0mci\u001b[0m\u001b[0;34m,\u001b[0m \u001b[0mn_boot\u001b[0m\u001b[0;34m,\u001b[0m \u001b[0mseed\u001b[0m\u001b[0;34m)\u001b[0m\u001b[0;34m\u001b[0m\u001b[0;34m\u001b[0m\u001b[0m\n",
      "\u001b[0;32m~/anaconda3/lib/python3.7/site-packages/seaborn/categorical.py\u001b[0m in \u001b[0;36mestablish_variables\u001b[0;34m(self, x, y, hue, data, orient, order, hue_order, units)\u001b[0m\n\u001b[1;32m    150\u001b[0m                 \u001b[0;32mif\u001b[0m \u001b[0misinstance\u001b[0m\u001b[0;34m(\u001b[0m\u001b[0mvar\u001b[0m\u001b[0;34m,\u001b[0m \u001b[0mstr\u001b[0m\u001b[0;34m)\u001b[0m\u001b[0;34m:\u001b[0m\u001b[0;34m\u001b[0m\u001b[0;34m\u001b[0m\u001b[0m\n\u001b[1;32m    151\u001b[0m                     \u001b[0merr\u001b[0m \u001b[0;34m=\u001b[0m \u001b[0;34m\"Could not interpret input '{}'\"\u001b[0m\u001b[0;34m.\u001b[0m\u001b[0mformat\u001b[0m\u001b[0;34m(\u001b[0m\u001b[0mvar\u001b[0m\u001b[0;34m)\u001b[0m\u001b[0;34m\u001b[0m\u001b[0;34m\u001b[0m\u001b[0m\n\u001b[0;32m--> 152\u001b[0;31m                     \u001b[0;32mraise\u001b[0m \u001b[0mValueError\u001b[0m\u001b[0;34m(\u001b[0m\u001b[0merr\u001b[0m\u001b[0;34m)\u001b[0m\u001b[0;34m\u001b[0m\u001b[0;34m\u001b[0m\u001b[0m\n\u001b[0m\u001b[1;32m    153\u001b[0m \u001b[0;34m\u001b[0m\u001b[0m\n\u001b[1;32m    154\u001b[0m             \u001b[0;31m# Figure out the plotting orientation\u001b[0m\u001b[0;34m\u001b[0m\u001b[0;34m\u001b[0m\u001b[0;34m\u001b[0m\u001b[0m\n",
      "\u001b[0;31mValueError\u001b[0m: Could not interpret input 'bitrate2'"
     ]
    },
    {
     "data": {
      "text/plain": [
       "<Figure size 720x576 with 0 Axes>"
      ]
     },
     "metadata": {},
     "output_type": "display_data"
    }
   ],
   "source": [
    "import matplotlib.pyplot as plt\n",
    "import numpy as np\n",
    "import pandas as pd\n",
    "import seaborn as sns\n",
    "sns.set(font_scale=1.2, style=\"whitegrid\")\n",
    "plt.figure(figsize=(10, 8))\n",
    "#df = pd.DataFrame(np.array([['a'], ['a'], ['b']]), columns=['current_status'])\n",
    "ax = sns.countplot(y='bitrate2', data=Y,palette = \"tab20\")\n",
    "ax.grid(False)\n",
    "plt.title('Distribution of  Resolutions',weight=\"bold\")\n",
    "plt.xlabel('Percentages and Numbers ',weight=\"bold\")\n",
    "plt.ylabel('Resolutions',weight=\"bold\")\n",
    "#plt.yticks(np.arange(0, 1200, 120))\n",
    "plt.xticks(np.arange(0, 45000,5000))\n",
    "plt.tick_params(axis='x',  colors='black')\n",
    "plt.tick_params(axis='y', colors='black')\n",
    "\n",
    "total = len(Y['bitrate2'])\n",
    "for p in ax.patches:\n",
    "        percentage = '{:.1f}%'.format(100 * p.get_width()/total)\n",
    "        x = p.get_x() + p.get_width() / 2\n",
    "        y = p.get_y() - 0.02\n",
    "        ax.annotate(percentage, (x, y))\n",
    "\n",
    "#plt.show()\n",
    "plt.savefig('resolution distrubutions.pdf')"
   ]
  },
  {
   "cell_type": "markdown",
   "metadata": {},
   "source": [
    "# Model Benchmark"
   ]
  },
  {
   "cell_type": "code",
   "execution_count": 19,
   "metadata": {},
   "outputs": [
    {
     "name": "stdout",
     "output_type": "stream",
     "text": [
      "----------------------------------------\n",
      "Best parameters for seven algorithms\n",
      "----------------------------------------\n",
      "\n",
      "LogisticRegression(C=1.0, class_weight=None, dual=False, fit_intercept=True,\n",
      "                   intercept_scaling=1, l1_ratio=None, max_iter=100,\n",
      "                   multi_class='auto', n_jobs=None, penalty='l2',\n",
      "                   random_state=None, solver='lbfgs', tol=0.0001, verbose=0,\n",
      "                   warm_start=False)\n",
      "\n",
      "\n",
      "KNeighborsClassifier(algorithm='auto', leaf_size=30, metric='minkowski',\n",
      "                     metric_params=None, n_jobs=None, n_neighbors=7, p=2,\n",
      "                     weights='uniform')\n",
      "\n",
      "\n",
      "DecisionTreeClassifier(ccp_alpha=0.0, class_weight='balanced',\n",
      "                       criterion='entropy', max_depth=50, max_features=None,\n",
      "                       max_leaf_nodes=None, min_impurity_decrease=0.0,\n",
      "                       min_impurity_split=None, min_samples_leaf=3,\n",
      "                       min_samples_split=8, min_weight_fraction_leaf=0.0,\n",
      "                       presort='deprecated', random_state=None,\n",
      "                       splitter='best')\n",
      "\n",
      "\n",
      "GaussianNB(priors=None, var_smoothing=1e-09)\n",
      "\n",
      "\n",
      "SVC(C=1, break_ties=False, cache_size=200, class_weight=None, coef0=0.0,\n",
      "    decision_function_shape='ovr', degree=3, gamma='scale', kernel='poly',\n",
      "    max_iter=-1, probability=False, random_state=None, shrinking=True,\n",
      "    tol=0.001, verbose=False)\n",
      "\n",
      "\n",
      "RandomForestClassifier(bootstrap=True, ccp_alpha=0.0, class_weight=None,\n",
      "                       criterion='gini', max_depth=100, max_features=3,\n",
      "                       max_leaf_nodes=None, max_samples=None,\n",
      "                       min_impurity_decrease=0.0, min_impurity_split=None,\n",
      "                       min_samples_leaf=3, min_samples_split=10,\n",
      "                       min_weight_fraction_leaf=0.0, n_estimators=500,\n",
      "                       n_jobs=None, oob_score=False, random_state=None,\n",
      "                       verbose=0, warm_start=False)\n",
      "\n",
      "\n",
      "MLPClassifier(activation='identity', alpha=0.0001, batch_size='auto',\n",
      "              beta_1=0.9, beta_2=0.999, early_stopping=False, epsilon=1e-08,\n",
      "              hidden_layer_sizes=(50, 50, 50), learning_rate='adaptive',\n",
      "              learning_rate_init=0.001, max_fun=15000, max_iter=200,\n",
      "              momentum=0.9, n_iter_no_change=10, nesterovs_momentum=True,\n",
      "              power_t=0.5, random_state=None, shuffle=True, solver='adam',\n",
      "              tol=0.0001, validation_fraction=0.1, verbose=False,\n",
      "              warm_start=False)\n",
      "\n",
      "\n"
     ]
    }
   ],
   "source": [
    "seed = 42\n",
    "\n",
    "# prepare models\n",
    "\n",
    "param_grids=[]\n",
    "##logistic\n",
    "param_grids_0= {           \n",
    "    'penalty':['l1', 'l2'], \n",
    "}\n",
    "param_grids.append(param_grids_0)\n",
    "\n",
    "##knn\n",
    "param_grids_1 = {                      \n",
    "    'n_neighbors': [3,5,7,10,25]\n",
    "}\n",
    "param_grids.append(param_grids_1)\n",
    "\n",
    "## Decision Tree\n",
    "param_grids_2 = { \n",
    "    'criterion':['gini', 'entropy'],\n",
    "    'max_depth': [ 3, 10, 50, None],\n",
    "    'min_samples_leaf': [3, 4, 5],\n",
    "    'min_samples_split': [8, 10, 12],\n",
    "    'class_weight': ['balanced',None]\n",
    "}\n",
    "\n",
    "param_grids.append(param_grids_2)\n",
    "## NB\n",
    "param_grids_3 = {   \n",
    "    'priors':[None],\n",
    "    'var_smoothing':[1e-09]\n",
    "}\n",
    "\n",
    "param_grids.append(param_grids_3)\n",
    " ## SVM\n",
    "param_grids_4 = {  \n",
    "     'gamma' :['scale'],\n",
    "     'kernel' : [ 'rbf', 'poly'],\n",
    "     #'degree' : [1,3,6],\n",
    "     'C' : [0.01, 0.1, 1]\n",
    "\n",
    "}\n",
    "param_grids.append(param_grids_4)\n",
    " ### Random foresst\n",
    "param_grids_5 = {      \n",
    "    'bootstrap': [True],\n",
    "    'max_depth': [ 3, 10, 50, 90, 100],\n",
    "    'max_features': [3],\n",
    "    'n_estimators': [100, 200,500],\n",
    "    'min_samples_leaf': [3, 4, 5],\n",
    "    'min_samples_split': [8, 10, 12],\n",
    "    'class_weight': ['balanced',None]\n",
    "}\n",
    "param_grids.append(param_grids_5)\n",
    "### MLP\n",
    "param_grids_6 = {    \n",
    "    'hidden_layer_sizes': [(50,50,50), (50,100,50), (100,)],\n",
    "    'activation': ['identity', 'logistic', 'tanh', 'relu'],\n",
    "    'solver': ['sgd', 'adam', 'lbfgs' ],\n",
    "    'alpha': [0.0001, 0.05],\n",
    "    'learning_rate': ['constant','adaptive'],\n",
    "}\n",
    "param_grids.append(param_grids_6)\n",
    "\n",
    "models = []\n",
    "models.append((LogisticRegression()))\n",
    "models.append((KNeighborsClassifier()))\n",
    "models.append((DecisionTreeClassifier()))\n",
    "models.append((GaussianNB()))\n",
    "models.append((SVC()))\n",
    "models.append((RandomForestClassifier()))\n",
    "models.append((MLPClassifier()))\n",
    "\n",
    "\n",
    "best_estimator=[]\n",
    "\n",
    "\n",
    "for i in range(7):\n",
    "    #print(param_grids[i])\n",
    "    #param_grids= param_grids_%d' % (i))\n",
    "    grid_search = GridSearchCV(estimator = models[i], param_grid = param_grids[i],  cv =5, n_jobs = -1, verbose = 0, return_train_score=True)\n",
    "    grid_search.fit(X, yy)\n",
    "    #print(grid_search.best_params_)\n",
    "    \n",
    "    best_estimator.append(grid_search.best_estimator_)\n",
    "    \n",
    "print('----------------------------------------')\n",
    "print('Best parameters for seven algorithms')\n",
    "print('----------------------------------------')\n",
    "print()\n",
    "\n",
    "for j in range(7):\n",
    "    print( best_estimator[j])\n",
    "    print('\\n')"
   ]
  },
  {
   "cell_type": "code",
   "execution_count": 20,
   "metadata": {},
   "outputs": [
    {
     "name": "stdout",
     "output_type": "stream",
     "text": [
      "----------------------------------------\n",
      "----------------------------------------\n",
      "\n",
      "Accuracy LR: 67.106314 (0.910196)\n",
      "Training time LR: 0.078793 (0.002997)\n",
      "Accuracy KNN: 78.797102 (1.020352)\n",
      "Training time KNN: 0.089594 (0.001116)\n",
      "Accuracy DTC: 87.485443 (0.856764)\n",
      "Training time DTC: 0.205404 (0.005133)\n",
      "Accuracy GNB: 56.058426 (2.570927)\n",
      "Training time GNB: 0.008594 (0.000073)\n",
      "Accuracy SVM: 64.621760 (0.911831)\n",
      "Training time SVM: 39.207214 (0.181231)\n",
      "Accuracy RFC: 89.833626 (0.603787)\n",
      "Training time RFC: 0.907181 (0.001987)\n",
      "Accuracy MLP: 72.703196 (2.160962)\n",
      "Training time MLP: 2.807117 (0.035418)\n"
     ]
    }
   ],
   "source": [
    "import warnings\n",
    "warnings.filterwarnings('ignore')\n",
    "import pickle\n",
    "\n",
    "print('----------------------------------------')\n",
    "#print('Box plot of all model cross validation accuracy')\n",
    "print('----------------------------------------')\n",
    "print()\n",
    "# prepare configuration for cross validation test harness\n",
    "seed = 42\n",
    "# prepare models\n",
    "models = []\n",
    "\n",
    "models.append(('LR',  best_estimator[0])) #LogisticRegression()\n",
    "models.append(('KNN', best_estimator[1])) #KNeighborsClassifier()))\n",
    "models.append(('DTC', best_estimator[2])) #DecisionTreeClassifier()))\n",
    "models.append(('GNB', best_estimator[3]))\n",
    "models.append(('SVM', best_estimator[4]))\n",
    "models.append(('RFC', best_estimator[5]))\n",
    "models.append(('MLP', best_estimator[6]))\n",
    "# evaluate each model in turn\n",
    "# evaluate each model in turn\n",
    "ac = []\n",
    "tr = []\n",
    "names = []\n",
    "scoring = 'accuracy'\n",
    "for name, model in models:\n",
    "    kfold = model_selection.KFold(n_splits=5, random_state=seed)\n",
    "    cv_results = model_selection.cross_validate(model, X, yy, cv=kfold)\n",
    "    ac.append((cv_results['test_score'])*100)\n",
    "    tr.append((cv_results['fit_time'])/60)\n",
    "    names.append(name)\n",
    "    \n",
    "    a_msg = \"Accuracy %s: %f (%f)\" % (name, ((cv_results['test_score'])*100).mean(), ((cv_results['test_score'])*100).std())\n",
    "    t_msg = \"Training time %s: %f (%f)\" % (name, ((cv_results['fit_time'])/60).mean(),  ((cv_results['fit_time'])/60).std())\n",
    "    print(a_msg)\n",
    "    print(t_msg)\n",
    "# boxplot algorithm comparison"
   ]
  },
  {
   "cell_type": "markdown",
   "metadata": {},
   "source": [
    "# Current Window"
   ]
  },
  {
   "cell_type": "code",
   "execution_count": 58,
   "metadata": {},
   "outputs": [],
   "source": [
    "C_all=X.loc[:,X.columns.isin(['DL_Th_CW','UL_Th_CW','DL_Pkt_CW','UL_Pkt_CW','DL_Pkt-gt100_CW', 'UL_Pkt-gt100_CW', 'DL_IA_mean_CW','UL_IA_mean_CW','DL_IA_median_CW','UL_IA_median_CW','DL_IA_std_CW','UL_IA_std_CW','DL_IA_max_CW','UL_IA_max_CW','DL_IA_min_CW','UL_IA_min_CW','DL_Pkt-Size_mean_CW','UL_Pkt-Size_mean_CW','DL_Pkt-Size_median_CW','UL_Pkt-Size_median_CW','DL_Pkt-Size_std_CW','UL_Pkt-Size_std_CW', 'DL_Pkt-Size_max_CW','UL_Pkt-Size_max_CW','DL_Pkt-Size_min_CW','UL_Pkt-Size_min_CW','DL_Pkt-Size-gt100_mean_CW','UL_Pkt-Size-gt100_mean_CW','DL_Pkt-Size-gt100_median_CW','UL_Pkt-Size-gt100_median_CW','DL_Pkt-Size-gt100_std_CW','UL_Pkt-Size-gt100_std_CW',\n",
    "'DL_Pkt-Size--gt100_max_CW','UL_Pkt-Size-gt100_max_CW','DL_Pkt-Size-gt100_min_CW','UL_Pkt-Size-gt100_min_CW'])]"
   ]
  },
  {
   "cell_type": "code",
   "execution_count": 59,
   "metadata": {},
   "outputs": [],
   "source": [
    "F=C_all.columns"
   ]
  },
  {
   "cell_type": "code",
   "execution_count": 60,
   "metadata": {},
   "outputs": [
    {
     "data": {
      "text/plain": [
       "2    39897\n",
       "1    33322\n",
       "0    32394\n",
       "Name: quality, dtype: int64"
      ]
     },
     "execution_count": 60,
     "metadata": {},
     "output_type": "execute_result"
    }
   ],
   "source": [
    "yy.value_counts()"
   ]
  },
  {
   "cell_type": "code",
   "execution_count": null,
   "metadata": {},
   "outputs": [],
   "source": [
    "clf = RandomForestClassifier(bootstrap=True, ccp_alpha=0.0, class_weight=None,\n",
    "                       criterion='gini', max_depth=100, max_features=3,\n",
    "                       max_leaf_nodes=None, max_samples=None,\n",
    "                       min_impurity_decrease=0.0, min_impurity_split=None,\n",
    "                       min_samples_leaf=3, min_samples_split=10,\n",
    "                       min_weight_fraction_leaf=0.0, n_estimators=500,\n",
    "                       n_jobs=None, oob_score=False, random_state=42,\n",
    "                       verbose=0, warm_start=False)\n",
    "clf.fit(C_all, yy)\n",
    "\n",
    "importances = clf.feature_importances_\n",
    "indices = np.argsort(importances)\n",
    "top_k = 15\n",
    "new_indices = indices[-top_k:]\n",
    "fig = plt.figure(figsize=(25, 12))\n",
    "plt.rcParams[\"axes.grid\"] = False\n",
    "plt.rcParams['font.size'] = 15\n",
    "#plt.title('Feature Importances')\n",
    "plt.barh(range(len(new_indices)), importances[new_indices], color='c', align='center')\n",
    "plt.yticks(range(len(new_indices)), [F[i] for i in new_indices])\n",
    "#plt.xticks((0, 0.02, 0.07))\n",
    "#plt.xlabel('Relative Importance')\n",
    "#plt.show()\n",
    "plt.savefig('CW-top10.pdf')"
   ]
  },
  {
   "cell_type": "code",
   "execution_count": 31,
   "metadata": {},
   "outputs": [
    {
     "data": {
      "text/plain": [
       "['DL_IA_max_CW',\n",
       " 'UL_IA_std_CW',\n",
       " 'DL_IA_std_CW',\n",
       " 'DL_IA_min_CW',\n",
       " 'UL_IA_max_CW',\n",
       " 'DL_Th_CW',\n",
       " 'UL_IA_mean_CW',\n",
       " 'DL_IA_mean_CW',\n",
       " 'UL_IA_median_CW',\n",
       " 'DL_IA_median_CW']"
      ]
     },
     "execution_count": 31,
     "metadata": {},
     "output_type": "execute_result"
    }
   ],
   "source": [
    "L=[]\n",
    "for i in new_indices:\n",
    "    l='%s'%F[i]\n",
    "    L.append(l)\n",
    "L"
   ]
  },
  {
   "cell_type": "code",
   "execution_count": 32,
   "metadata": {},
   "outputs": [],
   "source": [
    "C_ten=X.loc[:,X.columns.isin(['DL_IA_max_CW',\n",
    " 'UL_IA_std_CW',\n",
    " 'DL_IA_std_CW',\n",
    " 'DL_IA_min_CW',\n",
    " 'UL_IA_max_CW',\n",
    " 'DL_Th_CW',\n",
    " 'UL_IA_mean_CW',\n",
    " 'DL_IA_mean_CW',\n",
    " 'UL_IA_median_CW',\n",
    " 'DL_IA_median_CW'])]"
   ]
  },
  {
   "cell_type": "code",
   "execution_count": 38,
   "metadata": {},
   "outputs": [],
   "source": [
    "C_all_train, C_all_test,C_all_y_train, C_all_y_test = train_test_split( C_all, yy, test_size=0.2, random_state=101)\n",
    "C_ten_train, C_ten_test,C_ten_y_train, C_ten_y_test = train_test_split( C_ten, yy, test_size=0.2, random_state=101)"
   ]
  },
  {
   "cell_type": "code",
   "execution_count": 35,
   "metadata": {},
   "outputs": [
    {
     "name": "stdout",
     "output_type": "stream",
     "text": [
      "\n",
      "------------------------------------------------------\n",
      "Accuracy of our RF classification  model based on test data is : 0.6168\n",
      "------------------------------------------------------\n",
      "\n",
      "------------------------------------------------------\n",
      "Classification Report\n",
      "\n",
      "------------------------------------------------------\n",
      "               precision    recall  f1-score   support\n",
      "\n",
      "   class Poor       0.77      0.41      0.53      6544\n",
      "class Average       0.69      0.47      0.56      6546\n",
      "   class Good       0.55      0.91      0.69      8033\n",
      "\n",
      "     accuracy                           0.62     21123\n",
      "    macro avg       0.67      0.59      0.59     21123\n",
      " weighted avg       0.66      0.62      0.60     21123\n",
      "\n"
     ]
    }
   ],
   "source": [
    "# load the model from disk\n",
    "model = RandomForestClassifier(bootstrap=True, ccp_alpha=0.0, class_weight=None,\n",
    "                       criterion='gini', max_depth=100, max_features=3,\n",
    "                       max_leaf_nodes=None, max_samples=None,\n",
    "                       min_impurity_decrease=0.0, min_impurity_split=None,\n",
    "                       min_samples_leaf=3, min_samples_split=10,\n",
    "                       min_weight_fraction_leaf=0.0, n_estimators=500,\n",
    "                       n_jobs=None, oob_score=False, random_state=42,\n",
    "                       verbose=0, warm_start=False)\n",
    "\n",
    "model.fit(C_all_train, C_all_y_train)\n",
    "\n",
    "\n",
    "y_pred = model.predict(C_all_test)\n",
    "\n",
    "\n",
    "accuracy = metrics.accuracy_score( C_all_y_test, y_pred)\n",
    "print()\n",
    "print('------------------------------------------------------')\n",
    "print (\"Accuracy of our RF classification  model based on test data is : {0:.4f}\".format(accuracy))\n",
    "print('------------------------------------------------------')\n",
    "\n",
    "print()\n",
    "print('------------------------------------------------------')\n",
    "print (\"Classification Report\\n\")\n",
    "print('------------------------------------------------------')\n",
    "\n",
    "print (\"{0}\".format(metrics.classification_report(C_all_y_test.ravel(), y_pred,target_names = ['class Poor', 'class Average', 'class Good'])))"
   ]
  },
  {
   "cell_type": "code",
   "execution_count": 37,
   "metadata": {},
   "outputs": [
    {
     "name": "stdout",
     "output_type": "stream",
     "text": [
      "\n",
      "------------------------------------------------------\n",
      "Accuracy of our RF classification  model based on test data is : 0.6188\n",
      "------------------------------------------------------\n",
      "\n",
      "------------------------------------------------------\n",
      "Classification Report\n",
      "\n",
      "------------------------------------------------------\n",
      "               precision    recall  f1-score   support\n",
      "\n",
      "   class Poor       0.76      0.39      0.52      6544\n",
      "class Average       0.72      0.49      0.58      6546\n",
      "   class Good       0.55      0.91      0.68      8033\n",
      "\n",
      "     accuracy                           0.62     21123\n",
      "    macro avg       0.68      0.60      0.60     21123\n",
      " weighted avg       0.67      0.62      0.60     21123\n",
      "\n"
     ]
    }
   ],
   "source": [
    "# load the model from disk\n",
    "model =RandomForestClassifier(bootstrap=True, ccp_alpha=0.0, class_weight=None,\n",
    "                       criterion='gini', max_depth=100, max_features=3,\n",
    "                       max_leaf_nodes=None, max_samples=None,\n",
    "                       min_impurity_decrease=0.0, min_impurity_split=None,\n",
    "                       min_samples_leaf=3, min_samples_split=10,\n",
    "                       min_weight_fraction_leaf=0.0, n_estimators=500,\n",
    "                       n_jobs=None, oob_score=False, random_state=42,\n",
    "                       verbose=0, warm_start=False)\n",
    "\n",
    "model.fit(C_ten_train, C_ten_y_train)\n",
    "\n",
    "\n",
    "y_pred = model.predict(C_ten_test)\n",
    "\n",
    "\n",
    "accuracy = metrics.accuracy_score( C_ten_y_test.ravel(), y_pred)\n",
    "print()\n",
    "print('------------------------------------------------------')\n",
    "print (\"Accuracy of our RF classification  model based on test data is : {0:.4f}\".format(accuracy))\n",
    "print('------------------------------------------------------')\n",
    "\n",
    "print()\n",
    "print('------------------------------------------------------')\n",
    "print (\"Classification Report\\n\")\n",
    "print('------------------------------------------------------')\n",
    "\n",
    "print (\"{0}\".format(metrics.classification_report(C_ten_y_test.ravel(), y_pred,target_names = ['class Poor', 'class Average', 'class Good'])))"
   ]
  },
  {
   "cell_type": "markdown",
   "metadata": {},
   "source": [
    "# Trend window"
   ]
  },
  {
   "cell_type": "code",
   "execution_count": 41,
   "metadata": {},
   "outputs": [],
   "source": [
    "T_all=X.loc[:,X.columns.isin(['DL_Th_TW-1','UL_Th_TW-1','DL_Th_TW-3','UL_Th_TW-3','DL_Th_TW-5','UL_Th_TW-5','DL_Th_TW-10','UL_Th_TW-10','DL_Th_TW-20','UL_Th_TW-20','DL_Pkt_TW-1','UL_Pkt_TW-1','DL_Pkt_TW-3','UL_Pkt_TW-3','DL_Pkt_TW-5','UL_Pkt_TW-5','DL_Pkt_TW-10','UL_Pkt_TW-10','DL_Pkt_TW-20','UL_Pkt_TW-20', 'DL_Pkt-gt100_TW-1','UL_Pkt-gt100_TW-1','DL_Pkt-gt100_TW-3','UL_Pkt-gt100_TW-3','DL_Pkt-gt100_TW-5','UL_Pkt-gt100_TW-5','DL_Pkt-gt100_TW-10','UL_Pkt-gt100_TW-10','DL_Pkt-gt100_TW-20','UL_Pkt-gt100_TW-20','DL_IA_mean_TW-1','UL_IA_mean_TW-1','DL_IA_mean_TW-3','UL_IA_mean_TW-3','DL_IA_mean_TW-5','UL_IA_mean_TW-5','DL_IA_mean_TW-10','UL_IA_mean_TW-10','DL_IA_mean_TW-20','UL_IA_mean_TW-20','DL_IA_median_TW-1','UL_IA_median_TW-1','DL_IA_median_TW-3','UL_IA_median_TW-3','DL_IA_median_TW-5','UL_IA_median_TW-5','DL_IA_median_TW-10','UL_IA_median_TW-10','DL_IA_median_TW-20','UL_IA_median_TW-20','DL_IA_std_TW-1','UL_IA_std_TW-1','DL_IA_std_TW-3','UL_IA_std_TW-3','DL_IA_std_TW-5','UL_IA_std_TW-5','DL_IA_std_TW-10','UL_IA_std_TW-10','DL_IA_std_TW-20','UL_IA_std_TW-20','DL_IA_max_TW-1','UL_IA_max_TW-1','DL_IA_max_TW-3','UL_IA_max_TW-3','DL_IA_max_TW-5','UL_IA_max_TW-5','DL_IA_max_TW-10','UL_IA_max_TW-10','DL_IA_max_TW-20','UL_IA_max_TW-20','DL_IA_min_TW-1','UL_IA_min_TW-1','DL_IA_min_TW-3','UL_IA_min_TW-3','DL_IA_min_TW-5','UL_IA_min_TW-5','DL_IA_min_TW-10','UL_IA_min_TW-10','DL_IA_min_TW-20','UL_IA_min_TW-20','DL_Pkt-Size_mean_TW-1','UL_Pkt-Size_mean_TW-1','DL_Pkt-Size_mean_TW-3','UL_Pkt-Size_mean_TW-3','DL_Pkt-Size_mean_TW-5','UL_Pkt-Size_mean_TW-5','DL_Pkt-Size_mean_TW-10','UL_Pkt-Size_mean_TW-10','DL_Pkt-Size_mean_TW-20','UL_Pkt-Size_mean_TW-20','DL_Pkt-Size_median_TW-1','UL_Pkt-Size_median_TW-1','DL_Pkt-Size_median_TW-3','UL_Pkt-Size_median_TW-3','DL_Pkt-Size_median_TW-5','UL_Pkt-Size_median_TW-5','DL_Pkt-Size_median_TW-10','UL_Pkt-Size_median_TW-10','DL_Pkt-Size_median_TW-20','UL_Pkt-Size_median_TW-20','DL_Pkt-Size_std_TW-1','UL_Pkt-Size_std_TW-1','DL_Pkt-Size_std_TW-3','UL_Pkt-Size_std_TW-3','DL_Pkt-Size_std_TW-5','UL_Pkt-Size_std_TW-5','DL_Pkt-Size_std_TW-10','UL_Pkt-Size_std_TW-10','DL_Pkt-Size_std_TW-20','UL_Pkt-Size_std_TW-20','DL_Pkt-Size_max_TW-1','UL_Pkt-Size_max_TW-1','DL_Pkt-Size_max_TW-3','UL_Pkt-Size_max_TW-3','DL_Pkt-Size_max_TW-5','UL_Pkt-Size_max_TW-5','DL_Pkt-Size_max_TW-10','UL_Pkt-Size_max_TW-10','DL_Pkt-Size_max_TW-20','UL_Pkt-Size_max_TW-20','DL_Pkt-Size_min_TW-1','UL_Pkt-Size_min_TW-1','DL_Pkt-Size_min_TW-3','UL_Pkt-Size_min_TW-3','DL_Pkt-Size_min_TW-5','UL_Pkt-Size_min_TW-5','DL_Pkt-Size_min_TW-10','UL_Pkt-Size_min_TW-10','DL_Pkt-Size_min_TW-20','UL_Pkt-Size_min_TW-20','DL_Pkt-Size-gt100_mean_TW-1','UL_Pkt-Size-gt100_mean_TW-1','DL_Pkt-Size-gt100_mean_TW-3','UL_Pkt-Size-gt100_mean_TW-3','DL_Pkt-Size-gt100_mean_TW-5','UL_Pkt-Size-gt100_mean_TW-5','DL_Pkt-Size-gt100_mean_TW-10','UL_Pkt-Size-gt100_mean_TW-10','DL_Pkt-Size-gt100_mean_TW-20','UL_Pkt-Size-gt100_mean_TW-20','DL_Pkt-Size-gt100_median_TW-1','UL_Pkt-Size-gt100_median_TW-1','DL_Pkt-Size-gt100_median_TW-3','UL_Pkt-Size-gt100_median_TW-3','DL_Pkt-Size-gt100_median_TW-5','UL_Pkt-Size-gt100_median_TW-5','DL_Pkt-Size-gt100_median_TW-10','UL_Pkt-Size-gt100_median_TW-10','DL_Pkt-Size-gt100_median_TW-20','UL_Pkt-Size-gt100_median_TW-20','DL_Pkt-Size-gt100_std_TW-1','UL_Pkt-Size-gt100_std_TW-1','DL_Pkt-Size-gt100_std_TW-3','UL_Pkt-Size-gt100_std_TW-3','DL_Pkt-Size-gt100_std_TW-5','UL_Pkt-Size-gt100_std_TW-5','DL_Pkt-Size-gt100_std_TW-10','UL_Pkt-Size-gt100_std_TW-10','DL_Pkt-Size-gt100_std_TW-20','UL_Pkt-Size-gt100_std_TW-20','DL_Pkt-Size-gt100_max_TW-1','UL_Pkt-Size-gt100_max_TW-1','DL_Pkt-Size-gt100_max_TW-3','UL_Pkt-Size-gt100_max_TW-3','DL_Pkt-Size-gt100_max_TW-5','UL_Pkt-Size-gt100_max_TW-5','DL_Pkt-Size-gt100_max_TW-10','UL_Pkt-Size-gt100_max_TW-10','DL_Pkt-Size-gt100_max_TW-20','UL_Pkt-Size-gt100_max_TW-20','DL_Pkt-Size-gt100_min_TW-1','UL_Pkt-Size-gt100_min_TW-1','DL_Pkt-Size-gt100_min_TW-3','UL_Pkt-Size-gt100_min_TW-3','DL_Pkt-Size-gt100_min_TW-5','UL_Pkt-Size-gt100_min_TW-5','DL_Pkt-Size-gt100_min_TW-10','UL_Pkt-Size-gt100_min_TW-10','DL_Pkt-Size-gt100_min_TW-20','UL_Pkt-Size-gt100_min_TW-20'])]"
   ]
  },
  {
   "cell_type": "code",
   "execution_count": 42,
   "metadata": {},
   "outputs": [],
   "source": [
    "F1=T_all.columns"
   ]
  },
  {
   "cell_type": "code",
   "execution_count": 46,
   "metadata": {},
   "outputs": [
    {
     "data": {
      "image/png": "[encoded data removed]",
      "text/plain": [
       "<Figure size 1800x864 with 1 Axes>"
      ]
     },
     "metadata": {},
     "output_type": "display_data"
    }
   ],
   "source": [
    "clf = RandomForestClassifier(bootstrap=True, ccp_alpha=0.0, class_weight=None,\n",
    "                       criterion='gini', max_depth=100, max_features=3,\n",
    "                       max_leaf_nodes=None, max_samples=None,\n",
    "                       min_impurity_decrease=0.0, min_impurity_split=None,\n",
    "                       min_samples_leaf=3, min_samples_split=10,\n",
    "                       min_weight_fraction_leaf=0.0, n_estimators=500,\n",
    "                       n_jobs=None, oob_score=False, random_state=42,\n",
    "                       verbose=0, warm_start=False)\n",
    "clf.fit(T_all, yy)\n",
    "\n",
    "importances = clf.feature_importances_\n",
    "indices = np.argsort(importances)\n",
    "top_k = 10\n",
    "new_indices = indices[-top_k:]\n",
    "fig = plt.figure(figsize=(25,12))\n",
    "plt.rcParams[\"axes.grid\"] = False\n",
    "#plt.title('Feature Importances')\n",
    "plt.barh(range(len(new_indices)), importances[new_indices], color='c', align='center')\n",
    "plt.yticks(range(len(new_indices)), [F1[i] for i in new_indices])\n",
    "#plt.xticks((0, 0.02, 0.07))\n",
    "#plt.xlabel('Relative Importance')\n",
    "#plt.show()\n",
    "plt.savefig('TW-top10.pdf')"
   ]
  },
  {
   "cell_type": "code",
   "execution_count": 47,
   "metadata": {},
   "outputs": [
    {
     "data": {
      "text/plain": [
       "['DL_Pkt-gt100_TW-20',\n",
       " 'UL_Th_TW-20',\n",
       " 'UL_Pkt-Size-gt100_std_TW-20',\n",
       " 'UL_IA_std_TW-20',\n",
       " 'UL_Pkt_TW-20',\n",
       " 'UL_IA_mean_TW-20',\n",
       " 'UL_Pkt-Size_std_TW-20',\n",
       " 'UL_Pkt-Size-gt100_mean_TW-20',\n",
       " 'DL_IA_mean_TW-20',\n",
       " 'DL_IA_std_TW-20']"
      ]
     },
     "execution_count": 47,
     "metadata": {},
     "output_type": "execute_result"
    }
   ],
   "source": [
    "L=[]\n",
    "for i in new_indices:\n",
    "    l='%s'%F1[i]\n",
    "    L.append(l)\n",
    "L"
   ]
  },
  {
   "cell_type": "code",
   "execution_count": 49,
   "metadata": {},
   "outputs": [],
   "source": [
    "T_ten=X.loc[:,X.columns.isin(['DL_Pkt-gt100_TW-20',\n",
    " 'UL_Th_TW-20',\n",
    " 'UL_Pkt-Size-gt100_std_TW-20',\n",
    " 'UL_IA_std_TW-20',\n",
    " 'UL_Pkt_TW-20',\n",
    " 'UL_IA_mean_TW-20',\n",
    " 'UL_Pkt-Size_std_TW-20',\n",
    " 'UL_Pkt-Size-gt100_mean_TW-20',\n",
    " 'DL_IA_mean_TW-20',\n",
    " 'DL_IA_std_TW-20'])]"
   ]
  },
  {
   "cell_type": "code",
   "execution_count": 50,
   "metadata": {},
   "outputs": [],
   "source": [
    "T_all_train, T_all_test,T_all_y_train, T_all_y_test = train_test_split( T_all, yy, test_size=0.2, random_state=101)\n",
    "T_ten_train, T_ten_test,T_ten_y_train, T_ten_y_test = train_test_split( T_ten, yy, test_size=0.2, random_state=101)"
   ]
  },
  {
   "cell_type": "code",
   "execution_count": 52,
   "metadata": {},
   "outputs": [
    {
     "name": "stdout",
     "output_type": "stream",
     "text": [
      "\n",
      "------------------------------------------------------\n",
      "Accuracy of our RF classification  model based on test data is : 0.8695\n",
      "------------------------------------------------------\n",
      "\n",
      "------------------------------------------------------\n",
      "Classification Report\n",
      "\n",
      "------------------------------------------------------\n",
      "              precision    recall  f1-score   support\n",
      "\n",
      "          LD       0.96      0.76      0.85      6544\n",
      "          SD       0.95      0.83      0.89      6546\n",
      "          HD       0.78      0.99      0.87      8033\n",
      "\n",
      "    accuracy                           0.87     21123\n",
      "   macro avg       0.90      0.86      0.87     21123\n",
      "weighted avg       0.89      0.87      0.87     21123\n",
      "\n"
     ]
    }
   ],
   "source": [
    "# load the model from disk\n",
    "model =  RandomForestClassifier(bootstrap=True, ccp_alpha=0.0, class_weight=None,\n",
    "                       criterion='gini', max_depth=100, max_features=3,\n",
    "                       max_leaf_nodes=None, max_samples=None,\n",
    "                       min_impurity_decrease=0.0, min_impurity_split=None,\n",
    "                       min_samples_leaf=3, min_samples_split=10,\n",
    "                       min_weight_fraction_leaf=0.0, n_estimators=500,\n",
    "                       n_jobs=None, oob_score=False, random_state=42,\n",
    "                       verbose=0, warm_start=False)\n",
    "model.fit(T_all_train, T_all_y_train)\n",
    "\n",
    "\n",
    "y_pred = model.predict(T_all_test)\n",
    "\n",
    "\n",
    "accuracy = metrics.accuracy_score( T_all_y_test, y_pred)\n",
    "print()\n",
    "print('------------------------------------------------------')\n",
    "print (\"Accuracy of our RF classification  model based on test data is : {0:.4f}\".format(accuracy))\n",
    "print('------------------------------------------------------')\n",
    "\n",
    "print()\n",
    "print('------------------------------------------------------')\n",
    "print (\"Classification Report\\n\")\n",
    "print('------------------------------------------------------')\n",
    "\n",
    "print (\"{0}\".format(metrics.classification_report(T_all_y_test.ravel(), y_pred,target_names = ['LD', 'SD', 'HD'])))"
   ]
  },
  {
   "cell_type": "code",
   "execution_count": 53,
   "metadata": {},
   "outputs": [
    {
     "name": "stdout",
     "output_type": "stream",
     "text": [
      "\n",
      "------------------------------------------------------\n",
      "Accuracy of our RF classification  model based on test data is : 0.8512\n",
      "------------------------------------------------------\n",
      "\n",
      "------------------------------------------------------\n",
      "Classification Report\n",
      "\n",
      "------------------------------------------------------\n",
      "              precision    recall  f1-score   support\n",
      "\n",
      "          LD       0.92      0.74      0.82      6544\n",
      "          SD       0.92      0.81      0.86      6546\n",
      "          HD       0.78      0.97      0.86      8033\n",
      "\n",
      "    accuracy                           0.85     21123\n",
      "   macro avg       0.87      0.84      0.85     21123\n",
      "weighted avg       0.87      0.85      0.85     21123\n",
      "\n"
     ]
    }
   ],
   "source": [
    "# load the model from disk\n",
    "model =  RandomForestClassifier(bootstrap=True, ccp_alpha=0.0, class_weight=None,\n",
    "                       criterion='gini', max_depth=100, max_features=3,\n",
    "                       max_leaf_nodes=None, max_samples=None,\n",
    "                       min_impurity_decrease=0.0, min_impurity_split=None,\n",
    "                       min_samples_leaf=3, min_samples_split=10,\n",
    "                       min_weight_fraction_leaf=0.0, n_estimators=500,\n",
    "                       n_jobs=None, oob_score=False, random_state=42,\n",
    "                       verbose=0, warm_start=False)\n",
    "\n",
    "model.fit(T_ten_train, T_ten_y_train)\n",
    "y_pred = model.predict(T_ten_test)\n",
    "\n",
    "\n",
    "accuracy = metrics.accuracy_score( T_ten_y_test, y_pred)\n",
    "print()\n",
    "print('------------------------------------------------------')\n",
    "print (\"Accuracy of our RF classification  model based on test data is : {0:.4f}\".format(accuracy))\n",
    "print('------------------------------------------------------')\n",
    "\n",
    "print()\n",
    "print('------------------------------------------------------')\n",
    "print (\"Classification Report\\n\")\n",
    "print('------------------------------------------------------')\n",
    "\n",
    "print (\"{0}\".format(metrics.classification_report(T_ten_y_test.ravel(), y_pred,target_names = ['LD', 'SD', 'HD'])))"
   ]
  },
  {
   "cell_type": "markdown",
   "metadata": {},
   "source": [
    "# Session window"
   ]
  },
  {
   "cell_type": "code",
   "execution_count": 54,
   "metadata": {},
   "outputs": [],
   "source": [
    "S_all=X.loc[:,X.columns.isin(['DL_Th_SW','UL_Th_SW','DL_Pkt_SW','UL_Pkt_SW','DL_Pkt-gt100_SW','UL_Pkt-gt100_SW','DL_IA_mean_SW','UL_IA_mean_SW','DL_IA_median_SW','UL_IA_median_SW','DL_IA_SWtd_SW','UL_IA_SWtd_SW','DL_IA_max_SW','UL_IA_max_SW','DL_IA_min_SW','UL_IA_min_SW','DL_Pkt-Size_mean_SW','UL_Pkt-Size_mean_SW','UL_Pkt-Size_median_TW-20','DL_Pkt-Size_median_SW','UL_Pkt-Size_median_SW','DL_Pkt-Size_SWtd_SW','UL_Pkt-Size_SWtd_SW','DL_Pkt-Size_max_SW','UL_Pkt-Size_max_SW','DL_Pkt-Size_min_SW','UL_Pkt-Size_min_SW','DL_Pkt-Size-gt100_mean_SW','UL_Pkt-Size-gt100_mean_SW','DL_Pkt-Size-gt100_median_SW','UL_Pkt-Size-gt100_median_SW','DL_Pkt-Size-gt100_SWtd_SW','UL_Pkt-Size-gt100_SWtd_SW','DL_Pkt-Size-gt100_max_SW','UL_Pkt-Size-gt100_max_SW','DL_Pkt-Size-gt100_min_SW','UL_Pkt-Size-gt100_min_SW'])]"
   ]
  },
  {
   "cell_type": "code",
   "execution_count": 55,
   "metadata": {},
   "outputs": [],
   "source": [
    "F2=S_all.columns"
   ]
  },
  {
   "cell_type": "code",
   "execution_count": null,
   "metadata": {},
   "outputs": [],
   "source": []
  },
  {
   "cell_type": "code",
   "execution_count": 498,
   "metadata": {},
   "outputs": [
    {
     "data": {
      "image/png": "[encoded data removed]",
      "text/plain": [
       "<Figure size 1080x720 with 1 Axes>"
      ]
     },
     "metadata": {},
     "output_type": "display_data"
    }
   ],
   "source": [
    "clf = RandomForestClassifier(bootstrap=True, ccp_alpha=0.0, class_weight=None,\n",
    "                       criterion='gini', max_depth=100, max_features=3,\n",
    "                       max_leaf_nodes=None, max_samples=None,\n",
    "                       min_impurity_decrease=0.0, min_impurity_split=None,\n",
    "                       min_samples_leaf=3, min_samples_split=10,\n",
    "                       min_weight_fraction_leaf=0.0, n_estimators=500,\n",
    "                       n_jobs=None, oob_score=False, random_state=42,\n",
    "                       verbose=0, warm_start=False)\n",
    "clf.fit(S_all, yy)\n",
    "\n",
    "importances = clf.feature_importances_\n",
    "indices = np.argsort(importances)\n",
    "top_k = 10\n",
    "new_indices = indices[-top_k:]\n",
    "fig = plt.figure(figsize=(25, 10))\n",
    "plt.rcParams[\"axes.grid\"] = False\n",
    "#plt.title('Feature Importances')\n",
    "plt.barh(range(len(new_indices)), importances[new_indices], color='c', align='edge')\n",
    "plt.yticks(range(len(new_indices)), [F2[i] for i in new_indices])\n",
    "#plt.xticks((0, 0.02, 0.07))\n",
    "plt.xlabel('Relative Importance')\n",
    "#plt.show()\n",
    "plt.savefig('b.pdf')"
   ]
  },
  {
   "cell_type": "code",
   "execution_count": 500,
   "metadata": {},
   "outputs": [
    {
     "data": {
      "text/plain": [
       "['UL_Pkt-Size_std_S',\n",
       " 'DL_Pkt_S',\n",
       " 'UL_Pkt_S',\n",
       " 'DL_IA_std_S',\n",
       " 'UL_IA_std_S',\n",
       " 'DL_Pkt-gt100_S',\n",
       " 'DL_IA_mean_S',\n",
       " 'UL_IA_mean_S',\n",
       " 'UL_Th_S',\n",
       " 'DL_Th_S']"
      ]
     },
     "execution_count": 500,
     "metadata": {},
     "output_type": "execute_result"
    }
   ],
   "source": [
    "L=[]\n",
    "for i in new_indices:\n",
    "    l='%s'%F2[i]\n",
    "    L.append(l)\n",
    "L"
   ]
  },
  {
   "cell_type": "code",
   "execution_count": null,
   "metadata": {},
   "outputs": [],
   "source": []
  },
  {
   "cell_type": "code",
   "execution_count": 501,
   "metadata": {},
   "outputs": [],
   "source": [
    "S_ten=X.loc[:,X.columns.isin(['UL_Pkt-Size_std_S',\n",
    " 'DL_Pkt_S',\n",
    " 'UL_Pkt_S',\n",
    " 'DL_IA_std_S',\n",
    " 'UL_IA_std_S',\n",
    " 'DL_Pkt-gt100_S',\n",
    " 'DL_IA_mean_S',\n",
    " 'UL_IA_mean_S',\n",
    " 'UL_Th_S',\n",
    " 'DL_Th_S'])]"
   ]
  },
  {
   "cell_type": "code",
   "execution_count": 540,
   "metadata": {},
   "outputs": [],
   "source": [
    "S_all_train, S_all_test,S_all_y_train, S_all_y_test = train_test_split( S_all, y, test_size=0.2, random_state=101)\n",
    "S_ten_train, S_ten_test,S_ten_y_train, S_ten_y_test = train_test_split( S_ten, y, test_size=0.2, random_state=101)"
   ]
  },
  {
   "cell_type": "markdown",
   "metadata": {},
   "source": [
    "# All Window"
   ]
  },
  {
   "cell_type": "code",
   "execution_count": 503,
   "metadata": {},
   "outputs": [],
   "source": [
    "A_all=X.loc[:,X.columns.isin(['DL_Th_CW','UL_Th_CW','DL_Th_TW-1','UL_Th_TW-1','DL_Th_TW-3','UL_Th_TW-3','DL_Th_TW-5','UL_Th_TW-5','DL_Th_TW-10','UL_Th_TW-10','DL_Th_TW-20','UL_Th_TW-20','DL_Th_SWW','UL_Th_SW','DL_Pkt_CW','UL_Pkt_CW','DL_Pkt_TW-1','UL_Pkt_TW-1','DL_Pkt_TW-3','UL_Pkt_TW-3','DL_Pkt_TW-5','UL_Pkt_TW-5','DL_Pkt_TW-10','UL_Pkt_TW-10','DL_Pkt_TW-20','UL_Pkt_TW-20','DL_Pkt_SW','UL_Pkt_SW','DL_Pkt-gt100_CW', 'UL_Pkt-gt100_CW', 'DL_Pkt-gt100_TW-1','UL_Pkt-gt100_TW-1','DL_Pkt-gt100_TW-3','UL_Pkt-gt100_TW-3','DL_Pkt-gt100_TW-5','UL_Pkt-gt100_TW-5','DL_Pkt-gt100_TW-10','UL_Pkt-gt100_TW-10','DL_Pkt-gt100_TW-20','UL_Pkt-gt100_TW-20','DL_Pkt-gt100_SW','UL_Pkt-gt100_SW','DL_IA_mean_CW','UL_IA_mean_CW','DL_IA_mean_TW-1','UL_IA_mean_TW-1','DL_IA_mean_TW-3','UL_IA_mean_TW-3','DL_IA_mean_TW-5','UL_IA_mean_TW-5','DL_IA_mean_TW-10','UL_IA_mean_TW-10','DL_IA_mean_TW-20','UL_IA_mean_TW-20','DL_IA_mean_SW','UL_IA_mean_SW','DL_IA_median_CW','UL_IA_median_CW','DL_IA_median_TW-1','UL_IA_median_TW-1','DL_IA_median_TW-3','UL_IA_median_TW-3','DL_IA_median_TW-5','UL_IA_median_TW-5','DL_IA_median_TW-10','UL_IA_median_TW-10','DL_IA_median_TW-20','UL_IA_median_TW-20','DL_IA_median_SW','UL_IA_median_SW','DL_IA_SWtd_CW','UL_IA_SWtd_CW','DL_IA_SWtd_TW-1','UL_IA_SWtd_TW-1','DL_IA_SWtd_TW-3','UL_IA_SWtd_TW-3','DL_IA_SWtd_TW-5','UL_IA_SWtd_TW-5','DL_IA_SWtd_TW-10','UL_IA_SWtd_TW-10','DL_IA_SWtd_TW-20','UL_IA_SWtd_TW-20','DL_IA_SWtd_SW','UL_IA_SWtd_SW',\n",
    "'DL_IA_max_CW','UL_IA_max_CW','DL_IA_max_TW-1','UL_IA_max_TW-1','DL_IA_max_TW-3','UL_IA_max_TW-3','DL_IA_max_TW-5','UL_IA_max_TW-5','DL_IA_max_TW-10','UL_IA_max_TW-10','DL_IA_max_TW-20','UL_IA_max_TW-20','DL_IA_max_SW','UL_IA_max_SW','DL_IA_min_CW','UL_IA_min_CW','DL_IA_min_TW-1','UL_IA_min_TW-1','DL_IA_min_TW-3','UL_IA_min_TW-3','DL_IA_min_TW-5','UL_IA_min_TW-5','DL_IA_min_TW-10','UL_IA_min_TW-10','DL_IA_min_TW-20','UL_IA_min_TW-20','DL_IA_min_SW','UL_IA_min_SW','DL_Pkt-Size_mean_CW','UL_Pkt-Size_mean_CW','DL_Pkt-Size_mean_TW-1','UL_Pkt-Size_mean_TW-1','DL_Pkt-Size_mean_TW-3','UL_Pkt-Size_mean_TW-3','DL_Pkt-Size_mean_TW-5','UL_Pkt-Size_mean_TW-5','DL_Pkt-Size_mean_TW-10','UL_Pkt-Size_mean_TW-10','DL_Pkt-Size_mean_TW-20','UL_Pkt-Size_mean_TW-20','DL_Pkt-Size_mean_SW','UL_Pkt-Size_mean_SW','DL_Pkt-Size_median_CW','UL_Pkt-Size_median_CW','DL_Pkt-Size_median_TW-1','UL_Pkt-Size_median_TW-1','DL_Pkt-Size_median_TW-3','UL_Pkt-Size_median_TW-3','DL_Pkt-Size_median_TW-5','UL_Pkt-Size_median_TW-5','DL_Pkt-Size_median_TW-10','UL_Pkt-Size_median_TW-10','DL_Pkt-Size_median_TW-20','UL_Pkt-Size_median_TW-20','DL_Pkt-Size_median_SW','UL_Pkt-Size_median_SW',\n",
    "'DL_Pkt-Size_SWtd_CW','UL_Pkt-Size_SWtd_CW','DL_Pkt-Size_SWtd_TW-1','UL_Pkt-Size_SWtd_TW-1','DL_Pkt-Size_SWtd_TW-3','UL_Pkt-Size_SWtd_TW-3','DL_Pkt-Size_SWtd_TW-5','UL_Pkt-Size_SWtd_TW-5','DL_Pkt-Size_SWtd_TW-10','UL_Pkt-Size_SWtd_TW-10','DL_Pkt-Size_SWtd_TW-20','UL_Pkt-Size_SWtd_TW-20','DL_Pkt-Size_SWtd_SW','UL_Pkt-Size_SWtd_SW','DL_Pkt-Size_max_CW','UL_Pkt-Size_max_CW','DL_Pkt-Size_max_TW-1','UL_Pkt-Size_max_TW-1','DL_Pkt-Size_max_TW-3','UL_Pkt-Size_max_TW-3','DL_Pkt-Size_max_TW-5','UL_Pkt-Size_max_TW-5','DL_Pkt-Size_max_TW-10','UL_Pkt-Size_max_TW-10','DL_Pkt-Size_max_TW-20','UL_Pkt-Size_max_TW-20','DL_Pkt-Size_max_SW','UL_Pkt-Size_max_SW','DL_Pkt-Size_min_CW','UL_Pkt-Size_min_CW','DL_Pkt-Size_min_TW-1','UL_Pkt-Size_min_TW-1','DL_Pkt-Size_min_TW-3','UL_Pkt-Size_min_TW-3','DL_Pkt-Size_min_TW-5','UL_Pkt-Size_min_TW-5','DL_Pkt-Size_min_TW-10','UL_Pkt-Size_min_TW-10','DL_Pkt-Size_min_TW-20','UL_Pkt-Size_min_TW-20','DL_Pkt-Size_min_SW','UL_Pkt-Size_min_SW','DL_Pkt-Size-gt100_mean_CW','UL_Pkt-Size-gt100_mean_CW','DL_Pkt-Size-gt100_mean_TW-1','UL_Pkt-Size-gt100_mean_TW-1','DL_Pkt-Size-gt100_mean_TW-3','UL_Pkt-Size-gt100_mean_TW-3','DL_Pkt-Size-gt100_mean_TW-5','UL_Pkt-Size-gt100_mean_TW-5','DL_Pkt-Size-gt100_mean_TW-10','UL_Pkt-Size-gt100_mean_TW-10','DL_Pkt-Size-gt100_mean_TW-20','UL_Pkt-Size-gt100_mean_TW-20','DL_Pkt-Size-gt100_mean_SW','UL_Pkt-Size-gt100_mean_SW',    \n",
    "'DL_Pkt-Size-gt100_median_CW','UL_Pkt-Size-gt100_median_CW','DL_Pkt-Size-gt100_median_TW-1','UL_Pkt-Size-gt100_median_TW-1','DL_Pkt-Size-gt100_median_TW-3','UL_Pkt-Size-gt100_median_TW-3','DL_Pkt-Size-gt100_median_TW-5','UL_Pkt-Size-gt100_median_TW-5','DL_Pkt-Size-gt100_median_TW-10','UL_Pkt-Size-gt100_median_TW-10','DL_Pkt-Size-gt100_median_TW-20','UL_Pkt-Size-gt100_median_TW-20','DL_Pkt-Size-gt100_median_SW','UL_Pkt-Size-gt100_median_SW','DL_Pkt-Size-gt100_SWtd_CW','UL_Pkt-Size-gt100_SWtd_CW','DL_Pkt-Size-gt100_SWtd_TW-1','UL_Pkt-Size-gt100_SWtd_TW-1','DL_Pkt-Size-gt100_SWtd_TW-3','UL_Pkt-Size-gt100_SWtd_TW-3','DL_Pkt-Size-gt100_SWtd_TW-5','UL_Pkt-Size-gt100_SWtd_TW-5','DL_Pkt-Size-gt100_SWtd_TW-10','UL_Pkt-Size-gt100_SWtd_TW-10','DL_Pkt-Size-gt100_SWtd_TW-20','UL_Pkt-Size-gt100_SWtd_TW-20','DL_Pkt-Size-gt100_SWtd_SW','UL_Pkt-Size-gt100_SWtd_SW','DL_Pkt-Size--gt100_max_CW','UL_Pkt-Size-gt100_max_CW','DL_Pkt-Size-gt100_max_TW-1','UL_Pkt-Size-gt100_max_TW-1','DL_Pkt-Size-gt100_max_TW-3','UL_Pkt-Size-gt100_max_TW-3','DL_Pkt-Size-gt100_max_TW-5','UL_Pkt-Size-gt100_max_TW-5','DL_Pkt-Size-gt100_max_TW-10','UL_Pkt-Size-gt100_max_TW-10','DL_Pkt-Size-gt100_max_TW-20','UL_Pkt-Size-gt100_max_TW-20','DL_Pkt-Size-gt100_max_SW','UL_Pkt-Size-gt100_max_SW','DL_Pkt-Size-gt100_min_CW','UL_Pkt-Size-gt100_min_CW','DL_Pkt-Size-gt100_min_TW-1','UL_Pkt-Size-gt100_min_TW-1','DL_Pkt-Size-gt100_min_TW-3','UL_Pkt-Size-gt100_min_TW-3','DL_Pkt-Size-gt100_min_TW-5','UL_Pkt-Size-gt100_min_TW-5','DL_Pkt-Size-gt100_min_TW-10','UL_Pkt-Size-gt100_min_TW-10','DL_Pkt-Size-gt100_min_TW-20','UL_Pkt-Size-gt100_min_TW-20','DL_Pkt-Size-gt100_min_SW','UL_Pkt-Size-gt100_min_SW'\n",
    "])]"
   ]
  },
  {
   "cell_type": "code",
   "execution_count": 504,
   "metadata": {},
   "outputs": [],
   "source": [
    "F3=A_all.columns"
   ]
  },
  {
   "cell_type": "code",
   "execution_count": 505,
   "metadata": {},
   "outputs": [
    {
     "data": {
      "image/png": "[encoded data removed]",
      "text/plain": [
       "<Figure size 1080x720 with 1 Axes>"
      ]
     },
     "metadata": {},
     "output_type": "display_data"
    }
   ],
   "source": [
    "clf = RandomForestClassifier(bootstrap=True, ccp_alpha=0.0, class_weight='balanced',\n",
    "                       criterion='gini', max_depth=100, max_features=3,\n",
    "                       max_leaf_nodes=None, max_samples=None,\n",
    "                       min_impurity_decrease=0.0, min_impurity_split=None,\n",
    "                       min_samples_leaf=3, min_samples_split=8,\n",
    "                       min_weight_fraction_leaf=0.0, n_estimators=200,\n",
    "                       n_jobs=None, oob_score=False, random_state=42,\n",
    "                       verbose=0, warm_start=False)\n",
    "clf.fit(A_all, y)\n",
    "\n",
    "importances = clf.feature_importances_\n",
    "indices = np.argsort(importances)\n",
    "top_k = 10\n",
    "new_indices = indices[-top_k:]\n",
    "fig = plt.figure(figsize=(15, 10))\n",
    "plt.rcParams[\"axes.grid\"] = False\n",
    "#plt.title('Feature Importances')\n",
    "plt.barh(range(len(new_indices)), importances[new_indices], color='c', align='edge')\n",
    "plt.yticks(range(len(new_indices)), [F3[i] for i in new_indices])\n",
    "#plt.xticks((0, 0.02, 0.07))\n",
    "plt.xlabel('Relative Importance')\n",
    "#plt.show()\n",
    "plt.savefig('b.pdf')"
   ]
  },
  {
   "cell_type": "code",
   "execution_count": 507,
   "metadata": {},
   "outputs": [
    {
     "data": {
      "text/plain": [
       "['UL_Pkt-Size_std_S',\n",
       " 'UL_Pkt_S',\n",
       " 'DL_IA_std_S',\n",
       " 'DL_Pkt_S',\n",
       " 'DL_IA_mean_S',\n",
       " 'UL_IA_mean_S',\n",
       " 'UL_IA_std_S',\n",
       " 'DL_Pkt-gt100_S',\n",
       " 'UL_Th_S',\n",
       " 'DL_Th_S']"
      ]
     },
     "execution_count": 507,
     "metadata": {},
     "output_type": "execute_result"
    }
   ],
   "source": [
    "L=[]\n",
    "for i in new_indices:\n",
    "    l='%s'%F3[i]\n",
    "    L.append(l)\n",
    "L"
   ]
  },
  {
   "cell_type": "code",
   "execution_count": 512,
   "metadata": {},
   "outputs": [],
   "source": [
    "A_ten=X.loc[:,X.columns.isin(['UL_Pkt-Size_std_S',\n",
    " 'UL_Pkt_S',\n",
    " 'DL_IA_std_S',\n",
    " 'DL_Pkt_S',\n",
    " 'DL_IA_mean_S',\n",
    " 'UL_IA_mean_S',\n",
    " 'UL_IA_std_S',\n",
    " 'DL_Pkt-gt100_S',\n",
    " 'UL_Th_S',\n",
    " 'DL_Th_S'])]"
   ]
  },
  {
   "cell_type": "code",
   "execution_count": 541,
   "metadata": {},
   "outputs": [],
   "source": [
    "A_all_train, A_all_test,A_all_y_train, A_all_y_test = train_test_split( A_all, y, test_size=0.2, random_state=101)\n",
    "A_ten_train, A_ten_test,A_ten_y_train, A_ten_y_test = train_test_split( A_ten, y, test_size=0.2, random_state=101)"
   ]
  },
  {
   "cell_type": "code",
   "execution_count": null,
   "metadata": {},
   "outputs": [],
   "source": [
    "\n"
   ]
  }
 ],
 "metadata": {
  "kernelspec": {
   "display_name": "Python 3",
   "language": "python",
   "name": "python3"
  },
  "language_info": {
   "codemirror_mode": {
    "name": "ipython",
    "version": 3
   },
   "file_extension": ".py",
   "mimetype": "text/x-python",
   "name": "python",
   "nbconvert_exporter": "python",
   "pygments_lexer": "ipython3",
   "version": "3.7.7"
  }
 },
 "nbformat": 4,
 "nbformat_minor": 4
}
